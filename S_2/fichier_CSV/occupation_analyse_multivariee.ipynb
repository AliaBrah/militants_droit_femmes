{
 "cells": [
  {
   "cell_type": "code",
   "execution_count": 31,
   "id": "352006bb-f612-4421-8f94-fff8193d1f31",
   "metadata": {},
   "outputs": [],
   "source": [
    "import pandas as pd\n",
    "import matplotlib.pyplot as plt\n",
    "import numpy as np\n",
    "import seaborn as sns\n",
    "import scipy.stats as stats\n",
    "\n",
    "\n",
    "import pprint\n",
    "import csv\n",
    "import sys\n",
    "\n",
    "import sqlite3 as sql\n",
    "\n",
    "import time\n",
    "import datetime\n",
    "from dateutil import parser\n",
    "\n",
    "from importlib import reload\n",
    "from shutil import copyfile\n",
    "\n",
    "\n",
    "from fanalysis.ca import CA \n",
    "from fanalysis.mca import MCA\n",
    "# Importation du fichier csv qui se trouve dans le même dossier que le notebook\n",
    "data1 = pd.read_csv(\"analyse_personne_occupations.csv\")"
   ]
  },
  {
   "cell_type": "code",
   "execution_count": 32,
   "id": "344fb08e-efbe-42dc-bd8e-35077b9d0f60",
   "metadata": {},
   "outputs": [
    {
     "name": "stdout",
     "output_type": "stream",
     "text": [
      "<class 'pandas.core.frame.DataFrame'>\n",
      "RangeIndex: 6145 entries, 0 to 6144\n",
      "Data columns (total 7 columns):\n",
      " #   Column           Non-Null Count  Dtype \n",
      "---  ------           --------------  ----- \n",
      " 0   fk_personne      6145 non-null   object\n",
      " 1   personne         6145 non-null   object\n",
      " 2   gender           6145 non-null   object\n",
      " 3   zone_geo         6145 non-null   object\n",
      " 4   annee_naissance  6145 non-null   int64 \n",
      " 5   domaines         6145 non-null   object\n",
      " 6   eff              6145 non-null   int64 \n",
      "dtypes: int64(2), object(5)\n",
      "memory usage: 336.2+ KB\n"
     ]
    }
   ],
   "source": [
    "data1.info()"
   ]
  },
  {
   "cell_type": "code",
   "execution_count": 33,
   "id": "292ad4e1-47a1-4c54-9345-0a8f6fe87e46",
   "metadata": {},
   "outputs": [
    {
     "data": {
      "text/html": [
       "<div>\n",
       "<style scoped>\n",
       "    .dataframe tbody tr th:only-of-type {\n",
       "        vertical-align: middle;\n",
       "    }\n",
       "\n",
       "    .dataframe tbody tr th {\n",
       "        vertical-align: top;\n",
       "    }\n",
       "\n",
       "    .dataframe thead th {\n",
       "        text-align: right;\n",
       "    }\n",
       "</style>\n",
       "<table border=\"1\" class=\"dataframe\">\n",
       "  <thead>\n",
       "    <tr style=\"text-align: right;\">\n",
       "      <th></th>\n",
       "      <th>fk_personne</th>\n",
       "      <th>personne</th>\n",
       "      <th>gender</th>\n",
       "      <th>zone_geo</th>\n",
       "      <th>annee_naissance</th>\n",
       "      <th>domaines</th>\n",
       "      <th>eff</th>\n",
       "    </tr>\n",
       "  </thead>\n",
       "  <tbody>\n",
       "    <tr>\n",
       "      <th>0</th>\n",
       "      <td>http://www.wikidata.org/entity/Q231690</td>\n",
       "      <td>Bhimrao Ramji Ambedkar</td>\n",
       "      <td>M</td>\n",
       "      <td>Asie</td>\n",
       "      <td>1891</td>\n",
       "      <td>ecrivain_ne,politique,enseignement,droit,SHS,S...</td>\n",
       "      <td>68</td>\n",
       "    </tr>\n",
       "    <tr>\n",
       "      <th>1</th>\n",
       "      <td>http://www.wikidata.org/entity/Q19526</td>\n",
       "      <td>Maya Angelou</td>\n",
       "      <td>F</td>\n",
       "      <td>Amérique du nord</td>\n",
       "      <td>1928</td>\n",
       "      <td>cinema_TV,ecrivain_ne,politique,enseignement,a...</td>\n",
       "      <td>19</td>\n",
       "    </tr>\n",
       "    <tr>\n",
       "      <th>2</th>\n",
       "      <td>http://www.wikidata.org/entity/Q318509</td>\n",
       "      <td>Henry Rollins</td>\n",
       "      <td>M</td>\n",
       "      <td>Amérique du nord</td>\n",
       "      <td>1961</td>\n",
       "      <td>cinema_TV,cinema_TV,ecrivain_ne,ecrivain_ne,ar...</td>\n",
       "      <td>18</td>\n",
       "    </tr>\n",
       "    <tr>\n",
       "      <th>3</th>\n",
       "      <td>http://www.wikidata.org/entity/Q1429821</td>\n",
       "      <td>Florian Mildenberger</td>\n",
       "      <td>M</td>\n",
       "      <td>Europe</td>\n",
       "      <td>1973</td>\n",
       "      <td>SHS,SHS,SHS,SHS,enseignement,enseignement,ense...</td>\n",
       "      <td>16</td>\n",
       "    </tr>\n",
       "    <tr>\n",
       "      <th>4</th>\n",
       "      <td>http://www.wikidata.org/entity/Q131152</td>\n",
       "      <td>Shirin Ebadi</td>\n",
       "      <td>F</td>\n",
       "      <td>Asie</td>\n",
       "      <td>1947</td>\n",
       "      <td>droit,ecrivain_ne,droit,politique,droit,acti_d...</td>\n",
       "      <td>16</td>\n",
       "    </tr>\n",
       "  </tbody>\n",
       "</table>\n",
       "</div>"
      ],
      "text/plain": [
       "                               fk_personne                personne gender  \\\n",
       "0   http://www.wikidata.org/entity/Q231690  Bhimrao Ramji Ambedkar      M   \n",
       "1    http://www.wikidata.org/entity/Q19526            Maya Angelou      F   \n",
       "2   http://www.wikidata.org/entity/Q318509           Henry Rollins      M   \n",
       "3  http://www.wikidata.org/entity/Q1429821    Florian Mildenberger      M   \n",
       "4   http://www.wikidata.org/entity/Q131152            Shirin Ebadi      F   \n",
       "\n",
       "           zone_geo  annee_naissance  \\\n",
       "0             Asie              1891   \n",
       "1  Amérique du nord             1928   \n",
       "2  Amérique du nord             1961   \n",
       "3            Europe             1973   \n",
       "4             Asie              1947   \n",
       "\n",
       "                                            domaines  eff  \n",
       "0  ecrivain_ne,politique,enseignement,droit,SHS,S...   68  \n",
       "1  cinema_TV,ecrivain_ne,politique,enseignement,a...   19  \n",
       "2  cinema_TV,cinema_TV,ecrivain_ne,ecrivain_ne,ar...   18  \n",
       "3  SHS,SHS,SHS,SHS,enseignement,enseignement,ense...   16  \n",
       "4  droit,ecrivain_ne,droit,politique,droit,acti_d...   16  "
      ]
     },
     "execution_count": 33,
     "metadata": {},
     "output_type": "execute_result"
    }
   ],
   "source": [
    "data1.head()"
   ]
  },
  {
   "cell_type": "code",
   "execution_count": 34,
   "id": "82daf3a9-5b76-461a-bc8d-510d841b347c",
   "metadata": {},
   "outputs": [
    {
     "data": {
      "text/html": [
       "<div>\n",
       "<style scoped>\n",
       "    .dataframe tbody tr th:only-of-type {\n",
       "        vertical-align: middle;\n",
       "    }\n",
       "\n",
       "    .dataframe tbody tr th {\n",
       "        vertical-align: top;\n",
       "    }\n",
       "\n",
       "    .dataframe thead th {\n",
       "        text-align: right;\n",
       "    }\n",
       "</style>\n",
       "<table border=\"1\" class=\"dataframe\">\n",
       "  <thead>\n",
       "    <tr style=\"text-align: right;\">\n",
       "      <th></th>\n",
       "      <th>fk_personne</th>\n",
       "      <th>personne</th>\n",
       "      <th>gender</th>\n",
       "      <th>zone_geo</th>\n",
       "      <th>annee_naissance</th>\n",
       "      <th>domaines</th>\n",
       "      <th>eff</th>\n",
       "    </tr>\n",
       "  </thead>\n",
       "  <tbody>\n",
       "    <tr>\n",
       "      <th>0</th>\n",
       "      <td>http://www.wikidata.org/entity/Q231690</td>\n",
       "      <td>Bhimrao Ramji Ambedkar</td>\n",
       "      <td>M</td>\n",
       "      <td>Asie</td>\n",
       "      <td>1891</td>\n",
       "      <td>ecrivain_ne,politique,enseignement,droit,SHS,S...</td>\n",
       "      <td>68</td>\n",
       "    </tr>\n",
       "    <tr>\n",
       "      <th>1</th>\n",
       "      <td>http://www.wikidata.org/entity/Q19526</td>\n",
       "      <td>Maya Angelou</td>\n",
       "      <td>F</td>\n",
       "      <td>Amérique du nord</td>\n",
       "      <td>1928</td>\n",
       "      <td>cinema_TV,ecrivain_ne,politique,enseignement,a...</td>\n",
       "      <td>19</td>\n",
       "    </tr>\n",
       "    <tr>\n",
       "      <th>2</th>\n",
       "      <td>http://www.wikidata.org/entity/Q318509</td>\n",
       "      <td>Henry Rollins</td>\n",
       "      <td>M</td>\n",
       "      <td>Amérique du nord</td>\n",
       "      <td>1961</td>\n",
       "      <td>cinema_TV,cinema_TV,ecrivain_ne,ecrivain_ne,ar...</td>\n",
       "      <td>18</td>\n",
       "    </tr>\n",
       "  </tbody>\n",
       "</table>\n",
       "</div>"
      ],
      "text/plain": [
       "                              fk_personne                personne gender  \\\n",
       "0  http://www.wikidata.org/entity/Q231690  Bhimrao Ramji Ambedkar      M   \n",
       "1   http://www.wikidata.org/entity/Q19526            Maya Angelou      F   \n",
       "2  http://www.wikidata.org/entity/Q318509           Henry Rollins      M   \n",
       "\n",
       "           zone_geo  annee_naissance  \\\n",
       "0             Asie              1891   \n",
       "1  Amérique du nord             1928   \n",
       "2  Amérique du nord             1961   \n",
       "\n",
       "                                            domaines  eff  \n",
       "0  ecrivain_ne,politique,enseignement,droit,SHS,S...   68  \n",
       "1  cinema_TV,ecrivain_ne,politique,enseignement,a...   19  \n",
       "2  cinema_TV,cinema_TV,ecrivain_ne,ecrivain_ne,ar...   18  "
      ]
     },
     "execution_count": 34,
     "metadata": {},
     "output_type": "execute_result"
    }
   ],
   "source": [
    "data_cop = data1[data1['annee_naissance'] < 2000].copy(deep=True)\n",
    "data_cop.head(3)"
   ]
  },
  {
   "cell_type": "code",
   "execution_count": 108,
   "id": "27422bd5-04a3-4627-914d-f86d7fc2d5fb",
   "metadata": {},
   "outputs": [],
   "source": [
    "### passer la dataFrame en liste\n",
    "\n",
    "l = data_cop.values.tolist()"
   ]
  },
  {
   "cell_type": "code",
   "execution_count": 161,
   "id": "867a4393-60cb-40e3-820d-546df01d9425",
   "metadata": {},
   "outputs": [],
   "source": [
    "# domaine de militantisme\n",
    "a = ['acti_climat', 'acti_droits_LGBT', 'acti_droits_femmes', 'acti_droits_humains']\n",
    "\n",
    "# occupation principale. c'est à dire métier\n",
    "b = ['enseignement','ecrivain_ne', 'ecrivain_ne','SHS','sciences_experimentales','sante', 'droit']\n",
    "\n",
    "# autres occupations\n",
    "c = ['cinema_TV', 'religieux_ses', 'artiste', 'feministe',  'politique', 'autre']"
   ]
  },
  {
   "cell_type": "code",
   "execution_count": 182,
   "id": "aafb95ab-81b8-464b-a8d3-d1eb5d5a7359",
   "metadata": {},
   "outputs": [],
   "source": [
    "def coder(l, a, b, c):\n",
    "    \n",
    "    ll = []\n",
    "\n",
    "    ## si il n'y a pas d'autres disciplines\n",
    "    # complète avec disciplines principales additionnelles\n",
    "   \n",
    "    d= b + c\n",
    "    for e in l:\n",
    "\n",
    "        e = list(e)\n",
    "        \n",
    "        o1 = ''\n",
    "        for el in a:\n",
    "            # dès que la variable o1 est remplie sort de la boucle\n",
    "            if el in e[5] and len(o1) == 0:\n",
    "                o1 = el\n",
    "                e.append('d1_'+ el)   \n",
    "        if not(len(o1) > 0):\n",
    "            e.append('d1_nr')\n",
    "\n",
    "        o2 = ''\n",
    "        for el in b:\n",
    "            if el in e[5] and len(o2) == 0:\n",
    "                o2 = el\n",
    "                e.append('d2_'+ o2)\n",
    "        if not(len(o2) > 0):\n",
    "            e.append('d2_nr')\n",
    "\n",
    "\n",
    "        o3 = ''\n",
    "        for el in d:\n",
    "            if el in e[5] and len(o3) == 0\\\n",
    "                    and el != o1:\n",
    "                o3 = el\n",
    "                e.append('d3_'+ o3)\n",
    "        if not(len(o3) > 0):\n",
    "            e.append('d3_nr')\n",
    "\n",
    "        o4 = ''\n",
    "        for el in c:\n",
    "            if len(o4) == 0 and el in e[5]\\\n",
    "                    and el != o3 and el != o1:\n",
    "                o4 = el\n",
    "                e.append('d4_'+ o4)\n",
    "        if not(len(o4) > 0):\n",
    "            e.append('d4_nr')\n",
    "\n",
    "\n",
    "        ll.append(e)\n",
    "\n",
    "    return ll"
   ]
  },
  {
   "cell_type": "markdown",
   "id": "dc837fdd-8265-4c24-9d80-99d37fa9071c",
   "metadata": {},
   "source": [
    "# Problème\n",
    "J'ai enlevé le droit de la colonne comme il prenait beaucoup plus de place que ce qui existe dans la base de donnée ?? pourquoi ?"
   ]
  },
  {
   "cell_type": "code",
   "execution_count": 183,
   "id": "342c8c2d-ca21-41dc-aff0-591bd01c6b52",
   "metadata": {},
   "outputs": [],
   "source": [
    "ll = coder(l, a, b, c)"
   ]
  },
  {
   "cell_type": "code",
   "execution_count": 184,
   "id": "4d26fb43-a756-45d0-8f6a-cdbcfec8cabf",
   "metadata": {},
   "outputs": [
    {
     "name": "stdout",
     "output_type": "stream",
     "text": [
      "[['http://www.wikidata.org/entity/Q103591',\n",
      "  'Germaine Greer',\n",
      "  'F',\n",
      "  'Océanie',\n",
      "  1939,\n",
      "  'cinema_TV,cinema_TV,ecrivain_ne,enseignement,enseignement,ecrivain_ne,autre,ecrivain_ne,autre,acti_droits_femmes,feministe',\n",
      "  11,\n",
      "  'd1_acti_droits_femmes',\n",
      "  'd2_enseignement',\n",
      "  'd3_enseignement',\n",
      "  'd4_cinema_TV'],\n",
      " ['http://www.wikidata.org/entity/Q80900',\n",
      "  'Pearl S. Buck',\n",
      "  'F',\n",
      "  'Amérique du nord',\n",
      "  1892,\n",
      "  'cinema_TV,ecrivain_ne,religieux_ses,ecrivain_ne,acti_droits_humains,ecrivain_ne,ecrivain_ne,ecrivain_ne,ecrivain_ne,ecrivain_ne',\n",
      "  10,\n",
      "  'd1_acti_droits_humains',\n",
      "  'd2_ecrivain_ne',\n",
      "  'd3_ecrivain_ne',\n",
      "  'd4_cinema_TV'],\n",
      " ['http://www.wikidata.org/entity/Q75154532',\n",
      "  'Oscar Soria',\n",
      "  'M',\n",
      "  'Amérique du sud',\n",
      "  1974,\n",
      "  'acti_droits_humains,ecrivain_ne,autre,acti_climat,acti_climat,acti_droits_humains,ecrivain_ne,autre,acti_climat,acti_climat',\n",
      "  10,\n",
      "  'd1_acti_climat',\n",
      "  'd2_ecrivain_ne',\n",
      "  'd3_ecrivain_ne',\n",
      "  'd4_autre'],\n",
      " ['http://www.wikidata.org/entity/Q73733144',\n",
      "  'Rodrigo Cuevas',\n",
      "  'M',\n",
      "  'Europe',\n",
      "  1984,\n",
      "  'artiste,artiste,artiste,artiste,cinema_TV,artiste,SHS,artiste,artiste,acti_droits_LGBT',\n",
      "  10,\n",
      "  'd1_acti_droits_LGBT',\n",
      "  'd2_SHS',\n",
      "  'd3_SHS',\n",
      "  'd4_cinema_TV'],\n",
      " ['http://www.wikidata.org/entity/Q71410',\n",
      "  'Anita Augspurg',\n",
      "  'F',\n",
      "  'Europe',\n",
      "  1857,\n",
      "  'cinema_TV,droit,politique,droit,feministe,ecrivain_ne,ecrivain_ne,cinema_TV,acti_droits_humains,acti_droits_femmes',\n",
      "  10,\n",
      "  'd1_acti_droits_femmes',\n",
      "  'd2_ecrivain_ne',\n",
      "  'd3_ecrivain_ne',\n",
      "  'd4_cinema_TV'],\n",
      " ['http://www.wikidata.org/entity/Q7024866',\n",
      "  'Nichita Smochină',\n",
      "  'M',\n",
      "  'Europe',\n",
      "  1894,\n",
      "  'politique,droit,SHS,ecrivain_ne,acti_droits_humains,enseignement,SHS,enseignement,SHS,SHS',\n",
      "  10,\n",
      "  'd1_acti_droits_humains',\n",
      "  'd2_enseignement',\n",
      "  'd3_enseignement',\n",
      "  'd4_politique'],\n",
      " ['http://www.wikidata.org/entity/Q6759251',\n",
      "  'Margaret Carter',\n",
      "  'F',\n",
      "  'Amérique du nord',\n",
      "  1935,\n",
      "  'enseignement,politique,autre,autre,acti_droits_humains,autre,enseignement,sante,autre,acti_droits_femmes',\n",
      "  10,\n",
      "  'd1_acti_droits_femmes',\n",
      "  'd2_enseignement',\n",
      "  'd3_enseignement',\n",
      "  'd4_politique'],\n",
      " ['http://www.wikidata.org/entity/Q6735122',\n",
      "  'Mai Ghoussoub',\n",
      "  'F',\n",
      "  'Asie ',\n",
      "  1952,\n",
      "  'ecrivain_ne,acti_droits_humains,ecrivain_ne,artiste,acti_droits_femmes,ecrivain_ne,acti_droits_humains,ecrivain_ne,artiste,acti_droits_femmes',\n",
      "  10,\n",
      "  'd1_acti_droits_femmes',\n",
      "  'd2_ecrivain_ne',\n",
      "  'd3_ecrivain_ne',\n",
      "  'd4_artiste'],\n",
      " ['http://www.wikidata.org/entity/Q66624',\n",
      "  'Benedict Friedlaender',\n",
      "  'M',\n",
      "  'Europe',\n",
      "  1866,\n",
      "  'sciences_experimentales,ecrivain_ne,sciences_experimentales,SHS,SHS,sciences_experimentales,SHS,SHS,sciences_experimentales,acti_droits_LGBT',\n",
      "  10,\n",
      "  'd1_acti_droits_LGBT',\n",
      "  'd2_ecrivain_ne',\n",
      "  'd3_ecrivain_ne',\n",
      "  'd4_nr']]\n"
     ]
    }
   ],
   "source": [
    "pprint.pprint(ll[70:79])"
   ]
  },
  {
   "cell_type": "code",
   "execution_count": 185,
   "id": "a1bdf406-aef5-48f5-a83e-d4e1b6ab91b7",
   "metadata": {},
   "outputs": [
    {
     "data": {
      "text/plain": [
       "(6145,\n",
       " 6145,\n",
       " [['http://www.wikidata.org/entity/Q5386557',\n",
       "   'Eric Garcetti',\n",
       "   'M',\n",
       "   'Amérique du nord',\n",
       "   1971,\n",
       "   'SHS,autre,cinema_TV,acti_climat,cinema_TV,politique,enseignement',\n",
       "   7,\n",
       "   'd1_acti_climat',\n",
       "   'd2_enseignement',\n",
       "   'd3_enseignement',\n",
       "   'd4_cinema_TV'],\n",
       "  ['http://www.wikidata.org/entity/Q5376037',\n",
       "   'Waleed Al-Husseini',\n",
       "   'M',\n",
       "   'Asie ',\n",
       "   1989,\n",
       "   'ecrivain_ne,enseignement,autre,SHS,autre,ecrivain_ne,acti_droits_femmes',\n",
       "   7,\n",
       "   'd1_acti_droits_femmes',\n",
       "   'd2_enseignement',\n",
       "   'd3_enseignement',\n",
       "   'd4_autre'],\n",
       "  ['http://www.wikidata.org/entity/Q5253877',\n",
       "   'Delia Grigore',\n",
       "   'F',\n",
       "   'Europe',\n",
       "   1972,\n",
       "   'ecrivain_ne,acti_droits_humains,enseignement,ecrivain_ne,SHS,SHS,SHS',\n",
       "   7,\n",
       "   'd1_acti_droits_humains',\n",
       "   'd2_enseignement',\n",
       "   'd3_enseignement',\n",
       "   'd4_nr'],\n",
       "  ['http://www.wikidata.org/entity/Q5248365',\n",
       "   'Deborah L. Rhode',\n",
       "   'F',\n",
       "   'Amérique du nord',\n",
       "   1952,\n",
       "   'ecrivain_ne,droit,enseignement,enseignement,SHS,acti_droits_femmes,enseignement',\n",
       "   7,\n",
       "   'd1_acti_droits_femmes',\n",
       "   'd2_enseignement',\n",
       "   'd3_enseignement',\n",
       "   'd4_nr']])"
      ]
     },
     "execution_count": 185,
     "metadata": {},
     "output_type": "execute_result"
    }
   ],
   "source": [
    "len(l),len(ll), ll[301:305]"
   ]
  },
  {
   "cell_type": "code",
   "execution_count": 186,
   "id": "fe99e178-4bea-458f-905c-17ff77469d5a",
   "metadata": {},
   "outputs": [
    {
     "name": "stdout",
     "output_type": "stream",
     "text": [
      "<class 'pandas.core.frame.DataFrame'>\n",
      "RangeIndex: 6145 entries, 0 to 6144\n",
      "Data columns (total 11 columns):\n",
      " #   Column           Non-Null Count  Dtype \n",
      "---  ------           --------------  ----- \n",
      " 0   uri              6145 non-null   object\n",
      " 1   nom              6145 non-null   object\n",
      " 2   genre            6145 non-null   object\n",
      " 3   origine_geo      6145 non-null   object\n",
      " 4   annee_nais       6145 non-null   int64 \n",
      " 5   liste_occup      6145 non-null   object\n",
      " 6   eff_occupations  6145 non-null   int64 \n",
      " 7   o1               6145 non-null   object\n",
      " 8   o2               6145 non-null   object\n",
      " 9   o3               6145 non-null   object\n",
      " 10  o4               6145 non-null   object\n",
      "dtypes: int64(2), object(9)\n",
      "memory usage: 528.2+ KB\n"
     ]
    }
   ],
   "source": [
    "df_ll = pd.DataFrame(ll, columns=['uri', 'nom', 'genre', 'origine_geo', 'annee_nais',\n",
    "                      'liste_occup', 'eff_occupations', 'o1', 'o2', 'o3', 'o4'])\n",
    "df_ll.info()\n"
   ]
  },
  {
   "cell_type": "code",
   "execution_count": 187,
   "id": "c04de1eb-3188-4613-8ad4-5fa6c1dc84e9",
   "metadata": {},
   "outputs": [
    {
     "data": {
      "text/plain": [
       "o1\n",
       "d1_acti_droits_humains    2517\n",
       "d1_acti_droits_femmes     2295\n",
       "d1_acti_droits_LGBT       1106\n",
       "d1_acti_climat             227\n",
       "dtype: int64"
      ]
     },
     "execution_count": 187,
     "metadata": {},
     "output_type": "execute_result"
    }
   ],
   "source": [
    "df_ll.groupby(by='o1').size().sort_values(ascending=False)"
   ]
  },
  {
   "cell_type": "code",
   "execution_count": 189,
   "id": "cef970d7-622a-423a-ba97-50ca00d5929c",
   "metadata": {},
   "outputs": [
    {
     "data": {
      "text/plain": [
       "o4\n",
       "d4_nr               3231\n",
       "d4_politique        1375\n",
       "d4_autre             460\n",
       "d4_cinema_TV         430\n",
       "d4_artiste           311\n",
       "d4_feministe         239\n",
       "d4_religieux_ses      99\n",
       "dtype: int64"
      ]
     },
     "execution_count": 189,
     "metadata": {},
     "output_type": "execute_result"
    }
   ],
   "source": [
    "## le résultat est faux, je ne pense pas qu'autant de monde fait du droit --> revoir dans la base de donnée.\n",
    "df_ll.groupby(by='o4').size().sort_values(ascending=False)\n"
   ]
  },
  {
   "cell_type": "code",
   "execution_count": 190,
   "id": "1c816237-c14a-4ef8-93ba-cb85e3a08562",
   "metadata": {},
   "outputs": [
    {
     "data": {
      "text/plain": [
       "(1816, 1999)"
      ]
     },
     "execution_count": 190,
     "metadata": {},
     "output_type": "execute_result"
    }
   ],
   "source": [
    "### Année minimale et maximale dans la population\n",
    "min(df_ll['annee_nais']), max(df_ll['annee_nais'])"
   ]
  },
  {
   "cell_type": "code",
   "execution_count": 191,
   "id": "ae5c519e-024a-4ac4-a387-cc23981369b3",
   "metadata": {},
   "outputs": [
    {
     "data": {
      "text/plain": [
       "([1816, 1841, 1866, 1891, 1916], [1916, 1941, 1966, 1991, 2016])"
      ]
     },
     "execution_count": 191,
     "metadata": {},
     "output_type": "execute_result"
    }
   ],
   "source": [
    "l_25 = list(range(1816, 2017, 25))\n",
    "l_25 [:5], l_25[-5:]"
   ]
  },
  {
   "cell_type": "code",
   "execution_count": 192,
   "id": "6ea02aff-e420-47cb-9e10-feb9e8c569b8",
   "metadata": {},
   "outputs": [
    {
     "data": {
      "text/html": [
       "<div>\n",
       "<style scoped>\n",
       "    .dataframe tbody tr th:only-of-type {\n",
       "        vertical-align: middle;\n",
       "    }\n",
       "\n",
       "    .dataframe tbody tr th {\n",
       "        vertical-align: top;\n",
       "    }\n",
       "\n",
       "    .dataframe thead th {\n",
       "        text-align: right;\n",
       "    }\n",
       "</style>\n",
       "<table border=\"1\" class=\"dataframe\">\n",
       "  <thead>\n",
       "    <tr style=\"text-align: right;\">\n",
       "      <th></th>\n",
       "      <th>uri</th>\n",
       "      <th>nom</th>\n",
       "      <th>genre</th>\n",
       "      <th>origine_geo</th>\n",
       "      <th>annee_nais</th>\n",
       "      <th>liste_occup</th>\n",
       "      <th>eff_occupations</th>\n",
       "      <th>o1</th>\n",
       "      <th>o2</th>\n",
       "      <th>o3</th>\n",
       "      <th>o4</th>\n",
       "      <th>periodes</th>\n",
       "    </tr>\n",
       "  </thead>\n",
       "  <tbody>\n",
       "    <tr>\n",
       "      <th>0</th>\n",
       "      <td>http://www.wikidata.org/entity/Q231690</td>\n",
       "      <td>Bhimrao Ramji Ambedkar</td>\n",
       "      <td>M</td>\n",
       "      <td>Asie</td>\n",
       "      <td>1891</td>\n",
       "      <td>ecrivain_ne,politique,enseignement,droit,SHS,S...</td>\n",
       "      <td>68</td>\n",
       "      <td>d1_acti_droits_femmes</td>\n",
       "      <td>d2_enseignement</td>\n",
       "      <td>d3_enseignement</td>\n",
       "      <td>d4_religieux_ses</td>\n",
       "      <td>1891-1915</td>\n",
       "    </tr>\n",
       "    <tr>\n",
       "      <th>1</th>\n",
       "      <td>http://www.wikidata.org/entity/Q19526</td>\n",
       "      <td>Maya Angelou</td>\n",
       "      <td>F</td>\n",
       "      <td>Amérique du nord</td>\n",
       "      <td>1928</td>\n",
       "      <td>cinema_TV,ecrivain_ne,politique,enseignement,a...</td>\n",
       "      <td>19</td>\n",
       "      <td>d1_acti_droits_humains</td>\n",
       "      <td>d2_enseignement</td>\n",
       "      <td>d3_enseignement</td>\n",
       "      <td>d4_cinema_TV</td>\n",
       "      <td>1916-1940</td>\n",
       "    </tr>\n",
       "    <tr>\n",
       "      <th>2</th>\n",
       "      <td>http://www.wikidata.org/entity/Q318509</td>\n",
       "      <td>Henry Rollins</td>\n",
       "      <td>M</td>\n",
       "      <td>Amérique du nord</td>\n",
       "      <td>1961</td>\n",
       "      <td>cinema_TV,cinema_TV,ecrivain_ne,ecrivain_ne,ar...</td>\n",
       "      <td>18</td>\n",
       "      <td>d1_acti_droits_humains</td>\n",
       "      <td>d2_ecrivain_ne</td>\n",
       "      <td>d3_ecrivain_ne</td>\n",
       "      <td>d4_cinema_TV</td>\n",
       "      <td>1941-1965</td>\n",
       "    </tr>\n",
       "  </tbody>\n",
       "</table>\n",
       "</div>"
      ],
      "text/plain": [
       "                                      uri                     nom genre  \\\n",
       "0  http://www.wikidata.org/entity/Q231690  Bhimrao Ramji Ambedkar     M   \n",
       "1   http://www.wikidata.org/entity/Q19526            Maya Angelou     F   \n",
       "2  http://www.wikidata.org/entity/Q318509           Henry Rollins     M   \n",
       "\n",
       "        origine_geo  annee_nais  \\\n",
       "0             Asie         1891   \n",
       "1  Amérique du nord        1928   \n",
       "2  Amérique du nord        1961   \n",
       "\n",
       "                                         liste_occup  eff_occupations  \\\n",
       "0  ecrivain_ne,politique,enseignement,droit,SHS,S...               68   \n",
       "1  cinema_TV,ecrivain_ne,politique,enseignement,a...               19   \n",
       "2  cinema_TV,cinema_TV,ecrivain_ne,ecrivain_ne,ar...               18   \n",
       "\n",
       "                       o1               o2               o3                o4  \\\n",
       "0   d1_acti_droits_femmes  d2_enseignement  d3_enseignement  d4_religieux_ses   \n",
       "1  d1_acti_droits_humains  d2_enseignement  d3_enseignement      d4_cinema_TV   \n",
       "2  d1_acti_droits_humains   d2_ecrivain_ne   d3_ecrivain_ne      d4_cinema_TV   \n",
       "\n",
       "    periodes  \n",
       "0  1891-1915  \n",
       "1  1916-1940  \n",
       "2  1941-1965  "
      ]
     },
     "execution_count": 192,
     "metadata": {},
     "output_type": "execute_result"
    }
   ],
   "source": [
    "# On ajoute une nouvelle colonne qui contient la période sur la base de la liste précédente\n",
    "# et de la valeur de l'année\n",
    "\n",
    "df_ll['periodes'] = pd.cut(df_ll['annee_nais'], l_25, right=False)\n",
    "\n",
    "### Transformer le code ajouté pour qu'il soit plus lisible\n",
    "# noter qu'on a arrondi les valeurs\n",
    "df_ll['periodes'] = df_ll['periodes'].apply(lambda x : str(int(x.left))+'-'+ str(int(x.right)-1))\n",
    "\n",
    "# Inspection\n",
    "df_ll.head(3)"
   ]
  },
  {
   "cell_type": "code",
   "execution_count": 193,
   "id": "1bfe1db3-c82e-4f0f-9178-424afeb9c186",
   "metadata": {},
   "outputs": [
    {
     "data": {
      "text/html": [
       "<div>\n",
       "<style scoped>\n",
       "    .dataframe tbody tr th:only-of-type {\n",
       "        vertical-align: middle;\n",
       "    }\n",
       "\n",
       "    .dataframe tbody tr th {\n",
       "        vertical-align: top;\n",
       "    }\n",
       "\n",
       "    .dataframe thead th {\n",
       "        text-align: right;\n",
       "    }\n",
       "</style>\n",
       "<table border=\"1\" class=\"dataframe\">\n",
       "  <thead>\n",
       "    <tr style=\"text-align: right;\">\n",
       "      <th></th>\n",
       "      <th>uri</th>\n",
       "      <th>nom</th>\n",
       "      <th>genre</th>\n",
       "      <th>origine_geo</th>\n",
       "      <th>annee_nais</th>\n",
       "      <th>liste_occup</th>\n",
       "      <th>eff_occupations</th>\n",
       "      <th>o1</th>\n",
       "      <th>o2</th>\n",
       "      <th>o3</th>\n",
       "      <th>o4</th>\n",
       "      <th>periodes</th>\n",
       "    </tr>\n",
       "  </thead>\n",
       "  <tbody>\n",
       "    <tr>\n",
       "      <th>6140</th>\n",
       "      <td>http://www.wikidata.org/entity/Q101982314</td>\n",
       "      <td>Vernon Gonsalves</td>\n",
       "      <td>M</td>\n",
       "      <td>Asie</td>\n",
       "      <td>1957</td>\n",
       "      <td>acti_droits_humains</td>\n",
       "      <td>1</td>\n",
       "      <td>d1_acti_droits_humains</td>\n",
       "      <td>d2_droit</td>\n",
       "      <td>d3_droit</td>\n",
       "      <td>d4_nr</td>\n",
       "      <td>1941-1965</td>\n",
       "    </tr>\n",
       "    <tr>\n",
       "      <th>6141</th>\n",
       "      <td>http://www.wikidata.org/entity/Q101612226</td>\n",
       "      <td>Sisto dos Santos</td>\n",
       "      <td>M</td>\n",
       "      <td>Asie</td>\n",
       "      <td>1979</td>\n",
       "      <td>acti_droits_humains</td>\n",
       "      <td>1</td>\n",
       "      <td>d1_acti_droits_humains</td>\n",
       "      <td>d2_droit</td>\n",
       "      <td>d3_droit</td>\n",
       "      <td>d4_nr</td>\n",
       "      <td>1966-1990</td>\n",
       "    </tr>\n",
       "    <tr>\n",
       "      <th>6142</th>\n",
       "      <td>http://www.wikidata.org/entity/Q100742096</td>\n",
       "      <td>Thea Wickel</td>\n",
       "      <td>LGBTQ</td>\n",
       "      <td>Europe</td>\n",
       "      <td>1923</td>\n",
       "      <td>acti_droits_LGBT</td>\n",
       "      <td>1</td>\n",
       "      <td>d1_acti_droits_LGBT</td>\n",
       "      <td>d2_droit</td>\n",
       "      <td>d3_droit</td>\n",
       "      <td>d4_nr</td>\n",
       "      <td>1916-1940</td>\n",
       "    </tr>\n",
       "    <tr>\n",
       "      <th>6143</th>\n",
       "      <td>http://www.wikidata.org/entity/Q1006271</td>\n",
       "      <td>Thich Huyen Quang</td>\n",
       "      <td>M</td>\n",
       "      <td>Asie</td>\n",
       "      <td>1919</td>\n",
       "      <td>acti_droits_humains</td>\n",
       "      <td>1</td>\n",
       "      <td>d1_acti_droits_humains</td>\n",
       "      <td>d2_droit</td>\n",
       "      <td>d3_droit</td>\n",
       "      <td>d4_nr</td>\n",
       "      <td>1916-1940</td>\n",
       "    </tr>\n",
       "    <tr>\n",
       "      <th>6144</th>\n",
       "      <td>http://www.wikidata.org/entity/Q100411437</td>\n",
       "      <td>Alison Gent</td>\n",
       "      <td>F</td>\n",
       "      <td>Océanie</td>\n",
       "      <td>1920</td>\n",
       "      <td>acti_droits_femmes</td>\n",
       "      <td>1</td>\n",
       "      <td>d1_acti_droits_femmes</td>\n",
       "      <td>d2_droit</td>\n",
       "      <td>d3_droit</td>\n",
       "      <td>d4_nr</td>\n",
       "      <td>1916-1940</td>\n",
       "    </tr>\n",
       "  </tbody>\n",
       "</table>\n",
       "</div>"
      ],
      "text/plain": [
       "                                            uri                nom  genre  \\\n",
       "6140  http://www.wikidata.org/entity/Q101982314   Vernon Gonsalves      M   \n",
       "6141  http://www.wikidata.org/entity/Q101612226   Sisto dos Santos      M   \n",
       "6142  http://www.wikidata.org/entity/Q100742096        Thea Wickel  LGBTQ   \n",
       "6143    http://www.wikidata.org/entity/Q1006271  Thich Huyen Quang      M   \n",
       "6144  http://www.wikidata.org/entity/Q100411437        Alison Gent      F   \n",
       "\n",
       "     origine_geo  annee_nais          liste_occup  eff_occupations  \\\n",
       "6140       Asie         1957  acti_droits_humains                1   \n",
       "6141       Asie         1979  acti_droits_humains                1   \n",
       "6142      Europe        1923     acti_droits_LGBT                1   \n",
       "6143       Asie         1919  acti_droits_humains                1   \n",
       "6144     Océanie        1920   acti_droits_femmes                1   \n",
       "\n",
       "                          o1        o2        o3     o4   periodes  \n",
       "6140  d1_acti_droits_humains  d2_droit  d3_droit  d4_nr  1941-1965  \n",
       "6141  d1_acti_droits_humains  d2_droit  d3_droit  d4_nr  1966-1990  \n",
       "6142     d1_acti_droits_LGBT  d2_droit  d3_droit  d4_nr  1916-1940  \n",
       "6143  d1_acti_droits_humains  d2_droit  d3_droit  d4_nr  1916-1940  \n",
       "6144   d1_acti_droits_femmes  d2_droit  d3_droit  d4_nr  1916-1940  "
      ]
     },
     "execution_count": 193,
     "metadata": {},
     "output_type": "execute_result"
    }
   ],
   "source": [
    "df_ll.tail()"
   ]
  },
  {
   "cell_type": "code",
   "execution_count": 194,
   "id": "3fc1aea2-b4a6-4eb1-abdd-b2b020336987",
   "metadata": {},
   "outputs": [
    {
     "data": {
      "image/png": "[encoded data removed]",
      "text/plain": [
       "<Figure size 1600x800 with 1 Axes>"
      ]
     },
     "metadata": {},
     "output_type": "display_data"
    }
   ],
   "source": [
    "### compter les naissances par périodes de 50 ans\n",
    "ax = df_ll.groupby(by='periodes', observed=True).size().plot(kind='bar',rot=60, fontsize=8, figsize=(16,8))\n",
    "ax.bar_label(ax.containers[0], fontsize=12)\n",
    "\n",
    "plt.ylabel('Effectif')\n",
    "plt.xlabel('Périodes')\n",
    "plt.title('Naissances par périodes de 25 ans')\n",
    "plt.show()"
   ]
  },
  {
   "cell_type": "markdown",
   "id": "2a6da916-2325-4724-90db-ca3ac09e843c",
   "metadata": {},
   "source": [
    "Pour garder de la cohérence nous allons analyser que les personnes qui ont vécu lors du 20ème siècle"
   ]
  },
  {
   "cell_type": "code",
   "execution_count": 197,
   "id": "ad03ebc9-873e-45e0-9b08-24f3c1221547",
   "metadata": {},
   "outputs": [
    {
     "data": {
      "text/plain": [
       "o2\n",
       "d2_droit                      2710\n",
       "d2_ecrivain_ne                1314\n",
       "d2_enseignement                594\n",
       "d2_SHS                         250\n",
       "d2_sciences_experimentales     107\n",
       "d2_sante                        85\n",
       "d2_nr                           73\n",
       "dtype: int64"
      ]
     },
     "execution_count": 197,
     "metadata": {},
     "output_type": "execute_result"
    }
   ],
   "source": [
    "### On notera l'effectif trop important des individus pour lesquels cette variable\n",
    "# n'est pas renseignée. Mieux vaudra ne pas l'utiliser\n",
    "df_d2 = df_ll[df_ll.annee_nais > 1890].groupby(by='o2').size().sort_values(ascending=False)\n",
    "df_d2"
   ]
  },
  {
   "cell_type": "markdown",
   "id": "b9cbd24d-268b-4cff-9f8e-e639277cb549",
   "metadata": {},
   "source": [
    "# Le problème avec le droit ?"
   ]
  },
  {
   "cell_type": "code",
   "execution_count": 198,
   "id": "1abfa93c-d2b7-451b-9160-e3851e4f4542",
   "metadata": {},
   "outputs": [
    {
     "name": "stdout",
     "output_type": "stream",
     "text": [
      "['d2_droit', 'd2_ecrivain_ne', 'd2_enseignement', 'd2_SHS', 'd2_sciences_experimentales']\n"
     ]
    }
   ],
   "source": [
    "l_d2 = df_d2.index.to_list()[:-2]\n",
    "print(l_d2)"
   ]
  },
  {
   "cell_type": "code",
   "execution_count": 199,
   "id": "31acddc1-1b65-42bf-b773-c94cac02c05e",
   "metadata": {},
   "outputs": [
    {
     "data": {
      "text/plain": [
       "o3\n",
       "d3_droit                      2710\n",
       "d3_ecrivain_ne                1314\n",
       "d3_enseignement                594\n",
       "d3_SHS                         250\n",
       "d3_sciences_experimentales     107\n",
       "d3_sante                        85\n",
       "d3_nr                           34\n",
       "d3_politique                    13\n",
       "d3_artiste                       9\n",
       "d3_autre                         7\n",
       "d3_cinema_TV                     7\n",
       "d3_feministe                     2\n",
       "d3_religieux_ses                 1\n",
       "dtype: int64"
      ]
     },
     "execution_count": 199,
     "metadata": {},
     "output_type": "execute_result"
    }
   ],
   "source": [
    "df_d3 = df_ll[df_ll.annee_nais > 1890].groupby(by='o3').size().sort_values(ascending=False)\n",
    "df_d3"
   ]
  },
  {
   "cell_type": "code",
   "execution_count": 203,
   "id": "2840165f-3784-4081-ad19-70153768cfdc",
   "metadata": {},
   "outputs": [
    {
     "name": "stdout",
     "output_type": "stream",
     "text": [
      "['d3_droit', 'd3_ecrivain_ne', 'd3_enseignement', 'd3_SHS', 'd3_sciences_experimentales', 'd3_sante']\n"
     ]
    }
   ],
   "source": [
    "## j'enlève la santé et quand c'est pas renseigné.\n",
    "l_d3 = df_d3.index.to_list()[:-7]\n",
    "print(l_d3)"
   ]
  },
  {
   "cell_type": "code",
   "execution_count": 204,
   "id": "afdfcf78-0b4e-46d6-9b4a-06abbd196750",
   "metadata": {},
   "outputs": [
    {
     "data": {
      "text/plain": [
       "o4\n",
       "d4_nr               2776\n",
       "d4_politique        1175\n",
       "d4_cinema_TV         410\n",
       "d4_autre             376\n",
       "d4_artiste           259\n",
       "d4_religieux_ses      85\n",
       "d4_feministe          52\n",
       "dtype: int64"
      ]
     },
     "execution_count": 204,
     "metadata": {},
     "output_type": "execute_result"
    }
   ],
   "source": [
    "df_d4 = df_ll[df_ll.annee_nais > 1890].groupby(by='o4').size().sort_values(ascending=False)\n",
    "df_d4"
   ]
  },
  {
   "cell_type": "markdown",
   "id": "0b3311c5-11fb-4918-8388-268cefb0be6d",
   "metadata": {},
   "source": [
    "## moitié pas renseignée j'abandonne cette donnée ?\n",
    "Ici faut voir avec le prof"
   ]
  },
  {
   "cell_type": "code",
   "execution_count": 276,
   "id": "5eae0de3-7841-4717-8357-5c76331587ba",
   "metadata": {},
   "outputs": [
    {
     "data": {
      "text/plain": [
       "periodes\n",
       "1941-1965    1892\n",
       "1966-1990    1599\n",
       "1916-1940     961\n",
       "1891-1915     425\n",
       "1991-2015     256\n",
       "1866-1890      21\n",
       "dtype: int64"
      ]
     },
     "execution_count": 276,
     "metadata": {},
     "output_type": "execute_result"
    }
   ],
   "source": [
    "df_ll[df_ll.annee_nais > 1889].groupby(by='periodes', observed=True).size().sort_values(ascending=False)"
   ]
  },
  {
   "cell_type": "code",
   "execution_count": 277,
   "id": "b7644916-a703-44a3-9bae-c074cc867b90",
   "metadata": {},
   "outputs": [
    {
     "data": {
      "text/plain": [
       "origine_geo\n",
       "Europe              1849\n",
       "Amérique du nord     982\n",
       "Asie                 961\n",
       "Amérique du sud      709\n",
       "Afrique              507\n",
       "Océanie              125\n",
       "dtype: int64"
      ]
     },
     "execution_count": 277,
     "metadata": {},
     "output_type": "execute_result"
    }
   ],
   "source": [
    "cdf_og = df_ll[df_ll.annee_nais > 1890].groupby(by='origine_geo', observed=True).size().sort_values(ascending=False)\n",
    "cdf_og"
   ]
  },
  {
   "cell_type": "code",
   "execution_count": 278,
   "id": "baa85543-b3fd-4fcc-811b-45a5c1bf14f5",
   "metadata": {},
   "outputs": [
    {
     "name": "stdout",
     "output_type": "stream",
     "text": [
      "['Europe', 'Amérique du nord', 'Asie ', 'Amérique du sud', 'Afrique']\n"
     ]
    }
   ],
   "source": [
    "l_og = cdf_og.index.to_list()[:-1]\n",
    "print(l_og)"
   ]
  },
  {
   "cell_type": "markdown",
   "id": "914bfb19-523e-4db3-9ef3-9e9b6f1cb0a6",
   "metadata": {},
   "source": [
    "## Préparer le tableau à analyser\n",
    "\n",
    "Il est nécessaire de recoder le tableau pour ne pas avoir des variables avec modalités vides: on utilise donc un nouveau tableau avec les individus nés après 1890.\n",
    "\n",
    "Aussi, si on n'enlève pas les modalités les moins fréquentes (cf. distributions ci-dessus) elles impactent massivement l'analyse factorielle des correspondances multiples, car les modalités les moins fréquentes apportent le plus de variation. On doit donc inspecter manuellement les profils rares mais les exclure de l'ACM pour mettre en évidence des structures plus importantes."
   ]
  },
  {
   "cell_type": "code",
   "execution_count": 304,
   "id": "23e817d6-245b-4cd8-954e-28b3a7b6a614",
   "metadata": {},
   "outputs": [
    {
     "name": "stdout",
     "output_type": "stream",
     "text": [
      "4855\n"
     ]
    },
    {
     "data": {
      "text/html": [
       "<div>\n",
       "<style scoped>\n",
       "    .dataframe tbody tr th:only-of-type {\n",
       "        vertical-align: middle;\n",
       "    }\n",
       "\n",
       "    .dataframe tbody tr th {\n",
       "        vertical-align: top;\n",
       "    }\n",
       "\n",
       "    .dataframe thead th {\n",
       "        text-align: right;\n",
       "    }\n",
       "</style>\n",
       "<table border=\"1\" class=\"dataframe\">\n",
       "  <thead>\n",
       "    <tr style=\"text-align: right;\">\n",
       "      <th></th>\n",
       "      <th>orig_index</th>\n",
       "      <th>uri</th>\n",
       "      <th>nom</th>\n",
       "      <th>genre</th>\n",
       "      <th>origine_geo</th>\n",
       "      <th>annee_nais</th>\n",
       "      <th>liste_occup</th>\n",
       "      <th>eff_occupations</th>\n",
       "      <th>o1</th>\n",
       "      <th>o2</th>\n",
       "      <th>o3</th>\n",
       "      <th>o4</th>\n",
       "      <th>periodes</th>\n",
       "    </tr>\n",
       "  </thead>\n",
       "  <tbody>\n",
       "    <tr>\n",
       "      <th>0</th>\n",
       "      <td>0</td>\n",
       "      <td>http://www.wikidata.org/entity/Q231690</td>\n",
       "      <td>Bhimrao Ramji Ambedkar</td>\n",
       "      <td>M</td>\n",
       "      <td>Asie</td>\n",
       "      <td>1891</td>\n",
       "      <td>ecrivain_ne,politique,enseignement,droit,SHS,S...</td>\n",
       "      <td>68</td>\n",
       "      <td>d1_acti_droits_femmes</td>\n",
       "      <td>d2_enseignement</td>\n",
       "      <td>d3_enseignement</td>\n",
       "      <td>d4_religieux_ses</td>\n",
       "      <td>1891-1915</td>\n",
       "    </tr>\n",
       "    <tr>\n",
       "      <th>1</th>\n",
       "      <td>1</td>\n",
       "      <td>http://www.wikidata.org/entity/Q19526</td>\n",
       "      <td>Maya Angelou</td>\n",
       "      <td>F</td>\n",
       "      <td>Amérique du nord</td>\n",
       "      <td>1928</td>\n",
       "      <td>cinema_TV,ecrivain_ne,politique,enseignement,a...</td>\n",
       "      <td>19</td>\n",
       "      <td>d1_acti_droits_humains</td>\n",
       "      <td>d2_enseignement</td>\n",
       "      <td>d3_enseignement</td>\n",
       "      <td>d4_cinema_TV</td>\n",
       "      <td>1916-1940</td>\n",
       "    </tr>\n",
       "    <tr>\n",
       "      <th>2</th>\n",
       "      <td>2</td>\n",
       "      <td>http://www.wikidata.org/entity/Q318509</td>\n",
       "      <td>Henry Rollins</td>\n",
       "      <td>M</td>\n",
       "      <td>Amérique du nord</td>\n",
       "      <td>1961</td>\n",
       "      <td>cinema_TV,cinema_TV,ecrivain_ne,ecrivain_ne,ar...</td>\n",
       "      <td>18</td>\n",
       "      <td>d1_acti_droits_humains</td>\n",
       "      <td>d2_ecrivain_ne</td>\n",
       "      <td>d3_ecrivain_ne</td>\n",
       "      <td>d4_cinema_TV</td>\n",
       "      <td>1941-1965</td>\n",
       "    </tr>\n",
       "  </tbody>\n",
       "</table>\n",
       "</div>"
      ],
      "text/plain": [
       "   orig_index                                     uri                     nom  \\\n",
       "0           0  http://www.wikidata.org/entity/Q231690  Bhimrao Ramji Ambedkar   \n",
       "1           1   http://www.wikidata.org/entity/Q19526            Maya Angelou   \n",
       "2           2  http://www.wikidata.org/entity/Q318509           Henry Rollins   \n",
       "\n",
       "  genre       origine_geo  annee_nais  \\\n",
       "0     M             Asie         1891   \n",
       "1     F  Amérique du nord        1928   \n",
       "2     M  Amérique du nord        1961   \n",
       "\n",
       "                                         liste_occup  eff_occupations  \\\n",
       "0  ecrivain_ne,politique,enseignement,droit,SHS,S...               68   \n",
       "1  cinema_TV,ecrivain_ne,politique,enseignement,a...               19   \n",
       "2  cinema_TV,cinema_TV,ecrivain_ne,ecrivain_ne,ar...               18   \n",
       "\n",
       "                       o1               o2               o3                o4  \\\n",
       "0   d1_acti_droits_femmes  d2_enseignement  d3_enseignement  d4_religieux_ses   \n",
       "1  d1_acti_droits_humains  d2_enseignement  d3_enseignement      d4_cinema_TV   \n",
       "2  d1_acti_droits_humains   d2_ecrivain_ne   d3_ecrivain_ne      d4_cinema_TV   \n",
       "\n",
       "    periodes  \n",
       "0  1891-1915  \n",
       "1  1916-1940  \n",
       "2  1941-1965  "
      ]
     },
     "execution_count": 304,
     "metadata": {},
     "output_type": "execute_result"
    }
   ],
   "source": [
    "### Créer une copie indépendante du DataFrame \n",
    "# tout en éliminant les modalités peu fréquentes \n",
    "cdf_mod = df_ll[(df_ll['annee_nais'] > 1890)\\\n",
    "                & (df_ll.origine_geo.isin(l_og))\\\n",
    "                & (df_ll.o2.isin(l_d2))\\\n",
    "                & (df_ll.o3.isin(l_d3))]\\\n",
    "                    .copy(deep=True).reset_index(names='orig_index')\n",
    "print(len(cdf_mod))\n",
    "cdf_mod.head(3)"
   ]
  },
  {
   "cell_type": "code",
   "execution_count": 305,
   "id": "5c62542c-11aa-41f8-ac91-af24262da216",
   "metadata": {},
   "outputs": [
    {
     "data": {
      "text/html": [
       "<div>\n",
       "<style scoped>\n",
       "    .dataframe tbody tr th:only-of-type {\n",
       "        vertical-align: middle;\n",
       "    }\n",
       "\n",
       "    .dataframe tbody tr th {\n",
       "        vertical-align: top;\n",
       "    }\n",
       "\n",
       "    .dataframe thead th {\n",
       "        text-align: right;\n",
       "    }\n",
       "</style>\n",
       "<table border=\"1\" class=\"dataframe\">\n",
       "  <thead>\n",
       "    <tr style=\"text-align: right;\">\n",
       "      <th></th>\n",
       "      <th>orig_index</th>\n",
       "      <th>uri</th>\n",
       "      <th>nom</th>\n",
       "      <th>genre</th>\n",
       "      <th>origine_geo</th>\n",
       "      <th>annee_nais</th>\n",
       "      <th>liste_occup</th>\n",
       "      <th>eff_occupations</th>\n",
       "      <th>o1</th>\n",
       "      <th>o2</th>\n",
       "      <th>o3</th>\n",
       "      <th>o4</th>\n",
       "      <th>periodes</th>\n",
       "    </tr>\n",
       "  </thead>\n",
       "  <tbody>\n",
       "    <tr>\n",
       "      <th>4850</th>\n",
       "      <td>6137</td>\n",
       "      <td>http://www.wikidata.org/entity/Q102282163</td>\n",
       "      <td>Nadeen Ashraf</td>\n",
       "      <td>F</td>\n",
       "      <td>Afrique</td>\n",
       "      <td>1998</td>\n",
       "      <td>acti_droits_femmes</td>\n",
       "      <td>1</td>\n",
       "      <td>d1_acti_droits_femmes</td>\n",
       "      <td>d2_droit</td>\n",
       "      <td>d3_droit</td>\n",
       "      <td>d4_nr</td>\n",
       "      <td>1991-2015</td>\n",
       "    </tr>\n",
       "    <tr>\n",
       "      <th>4851</th>\n",
       "      <td>6140</td>\n",
       "      <td>http://www.wikidata.org/entity/Q101982314</td>\n",
       "      <td>Vernon Gonsalves</td>\n",
       "      <td>M</td>\n",
       "      <td>Asie</td>\n",
       "      <td>1957</td>\n",
       "      <td>acti_droits_humains</td>\n",
       "      <td>1</td>\n",
       "      <td>d1_acti_droits_humains</td>\n",
       "      <td>d2_droit</td>\n",
       "      <td>d3_droit</td>\n",
       "      <td>d4_nr</td>\n",
       "      <td>1941-1965</td>\n",
       "    </tr>\n",
       "    <tr>\n",
       "      <th>4852</th>\n",
       "      <td>6141</td>\n",
       "      <td>http://www.wikidata.org/entity/Q101612226</td>\n",
       "      <td>Sisto dos Santos</td>\n",
       "      <td>M</td>\n",
       "      <td>Asie</td>\n",
       "      <td>1979</td>\n",
       "      <td>acti_droits_humains</td>\n",
       "      <td>1</td>\n",
       "      <td>d1_acti_droits_humains</td>\n",
       "      <td>d2_droit</td>\n",
       "      <td>d3_droit</td>\n",
       "      <td>d4_nr</td>\n",
       "      <td>1966-1990</td>\n",
       "    </tr>\n",
       "    <tr>\n",
       "      <th>4853</th>\n",
       "      <td>6142</td>\n",
       "      <td>http://www.wikidata.org/entity/Q100742096</td>\n",
       "      <td>Thea Wickel</td>\n",
       "      <td>LGBTQ</td>\n",
       "      <td>Europe</td>\n",
       "      <td>1923</td>\n",
       "      <td>acti_droits_LGBT</td>\n",
       "      <td>1</td>\n",
       "      <td>d1_acti_droits_LGBT</td>\n",
       "      <td>d2_droit</td>\n",
       "      <td>d3_droit</td>\n",
       "      <td>d4_nr</td>\n",
       "      <td>1916-1940</td>\n",
       "    </tr>\n",
       "    <tr>\n",
       "      <th>4854</th>\n",
       "      <td>6143</td>\n",
       "      <td>http://www.wikidata.org/entity/Q1006271</td>\n",
       "      <td>Thich Huyen Quang</td>\n",
       "      <td>M</td>\n",
       "      <td>Asie</td>\n",
       "      <td>1919</td>\n",
       "      <td>acti_droits_humains</td>\n",
       "      <td>1</td>\n",
       "      <td>d1_acti_droits_humains</td>\n",
       "      <td>d2_droit</td>\n",
       "      <td>d3_droit</td>\n",
       "      <td>d4_nr</td>\n",
       "      <td>1916-1940</td>\n",
       "    </tr>\n",
       "  </tbody>\n",
       "</table>\n",
       "</div>"
      ],
      "text/plain": [
       "      orig_index                                        uri  \\\n",
       "4850        6137  http://www.wikidata.org/entity/Q102282163   \n",
       "4851        6140  http://www.wikidata.org/entity/Q101982314   \n",
       "4852        6141  http://www.wikidata.org/entity/Q101612226   \n",
       "4853        6142  http://www.wikidata.org/entity/Q100742096   \n",
       "4854        6143    http://www.wikidata.org/entity/Q1006271   \n",
       "\n",
       "                    nom  genre origine_geo  annee_nais          liste_occup  \\\n",
       "4850      Nadeen Ashraf      F     Afrique        1998   acti_droits_femmes   \n",
       "4851   Vernon Gonsalves      M       Asie         1957  acti_droits_humains   \n",
       "4852   Sisto dos Santos      M       Asie         1979  acti_droits_humains   \n",
       "4853        Thea Wickel  LGBTQ      Europe        1923     acti_droits_LGBT   \n",
       "4854  Thich Huyen Quang      M       Asie         1919  acti_droits_humains   \n",
       "\n",
       "      eff_occupations                      o1        o2        o3     o4  \\\n",
       "4850                1   d1_acti_droits_femmes  d2_droit  d3_droit  d4_nr   \n",
       "4851                1  d1_acti_droits_humains  d2_droit  d3_droit  d4_nr   \n",
       "4852                1  d1_acti_droits_humains  d2_droit  d3_droit  d4_nr   \n",
       "4853                1     d1_acti_droits_LGBT  d2_droit  d3_droit  d4_nr   \n",
       "4854                1  d1_acti_droits_humains  d2_droit  d3_droit  d4_nr   \n",
       "\n",
       "       periodes  \n",
       "4850  1991-2015  \n",
       "4851  1941-1965  \n",
       "4852  1966-1990  \n",
       "4853  1916-1940  \n",
       "4854  1916-1940  "
      ]
     },
     "execution_count": 305,
     "metadata": {},
     "output_type": "execute_result"
    }
   ],
   "source": [
    "cdf_mod.tail()"
   ]
  },
  {
   "cell_type": "code",
   "execution_count": 306,
   "id": "eb7b1904-7bf7-452a-b782-832b3c79b78d",
   "metadata": {},
   "outputs": [
    {
     "data": {
      "text/plain": [
       "4854"
      ]
     },
     "execution_count": 306,
     "metadata": {},
     "output_type": "execute_result"
    }
   ],
   "source": [
    "## max d'individus\n",
    "max(cdf_mod.index)"
   ]
  },
  {
   "cell_type": "code",
   "execution_count": 311,
   "id": "9ae5d054-ff88-470c-9cf8-2a0beaedd129",
   "metadata": {},
   "outputs": [
    {
     "data": {
      "text/plain": [
       "(1891, 1999)"
      ]
     },
     "execution_count": 311,
     "metadata": {},
     "output_type": "execute_result"
    }
   ],
   "source": [
    "### Année minimale et maximale dans la population\n",
    "min(cdf_mod['annee_nais']), max(cdf_mod['annee_nais'])"
   ]
  },
  {
   "cell_type": "code",
   "execution_count": 313,
   "id": "cd3df372-3111-4ac0-9948-de3ee383fcca",
   "metadata": {},
   "outputs": [
    {
     "data": {
      "text/plain": [
       "([1891, 1911, 1931, 1951, 1971], [1931, 1951, 1971, 1991, 2011])"
      ]
     },
     "execution_count": 313,
     "metadata": {},
     "output_type": "execute_result"
    }
   ],
   "source": [
    "### Créer une liste d'années pour séparer en périodes de 20 ans\n",
    "# noter que la dernière année sera exclue, \n",
    "# elle donc doit être supérieure à la valeur maximale \n",
    "l_20 = list(range(1891, 2021, 20))\n",
    "l_20[:5],l_20[-5:]"
   ]
  },
  {
   "cell_type": "code",
   "execution_count": 316,
   "id": "3c975106-0fa9-4967-a6c9-077742832456",
   "metadata": {},
   "outputs": [
    {
     "data": {
      "text/html": [
       "<div>\n",
       "<style scoped>\n",
       "    .dataframe tbody tr th:only-of-type {\n",
       "        vertical-align: middle;\n",
       "    }\n",
       "\n",
       "    .dataframe tbody tr th {\n",
       "        vertical-align: top;\n",
       "    }\n",
       "\n",
       "    .dataframe thead th {\n",
       "        text-align: right;\n",
       "    }\n",
       "</style>\n",
       "<table border=\"1\" class=\"dataframe\">\n",
       "  <thead>\n",
       "    <tr style=\"text-align: right;\">\n",
       "      <th></th>\n",
       "      <th>orig_index</th>\n",
       "      <th>uri</th>\n",
       "      <th>nom</th>\n",
       "      <th>genre</th>\n",
       "      <th>origine_geo</th>\n",
       "      <th>annee_nais</th>\n",
       "      <th>liste_occup</th>\n",
       "      <th>eff_occupations</th>\n",
       "      <th>o1</th>\n",
       "      <th>o2</th>\n",
       "      <th>o3</th>\n",
       "      <th>o4</th>\n",
       "      <th>periodes</th>\n",
       "      <th>periodes_20</th>\n",
       "    </tr>\n",
       "  </thead>\n",
       "  <tbody>\n",
       "    <tr>\n",
       "      <th>0</th>\n",
       "      <td>0</td>\n",
       "      <td>http://www.wikidata.org/entity/Q231690</td>\n",
       "      <td>Bhimrao Ramji Ambedkar</td>\n",
       "      <td>M</td>\n",
       "      <td>Asie</td>\n",
       "      <td>1891</td>\n",
       "      <td>ecrivain_ne,politique,enseignement,droit,SHS,S...</td>\n",
       "      <td>68</td>\n",
       "      <td>d1_acti_droits_femmes</td>\n",
       "      <td>d2_enseignement</td>\n",
       "      <td>d3_enseignement</td>\n",
       "      <td>d4_religieux_ses</td>\n",
       "      <td>1891-1915</td>\n",
       "      <td>1891-1910</td>\n",
       "    </tr>\n",
       "    <tr>\n",
       "      <th>1</th>\n",
       "      <td>1</td>\n",
       "      <td>http://www.wikidata.org/entity/Q19526</td>\n",
       "      <td>Maya Angelou</td>\n",
       "      <td>F</td>\n",
       "      <td>Amérique du nord</td>\n",
       "      <td>1928</td>\n",
       "      <td>cinema_TV,ecrivain_ne,politique,enseignement,a...</td>\n",
       "      <td>19</td>\n",
       "      <td>d1_acti_droits_humains</td>\n",
       "      <td>d2_enseignement</td>\n",
       "      <td>d3_enseignement</td>\n",
       "      <td>d4_cinema_TV</td>\n",
       "      <td>1916-1940</td>\n",
       "      <td>1911-1930</td>\n",
       "    </tr>\n",
       "    <tr>\n",
       "      <th>2</th>\n",
       "      <td>2</td>\n",
       "      <td>http://www.wikidata.org/entity/Q318509</td>\n",
       "      <td>Henry Rollins</td>\n",
       "      <td>M</td>\n",
       "      <td>Amérique du nord</td>\n",
       "      <td>1961</td>\n",
       "      <td>cinema_TV,cinema_TV,ecrivain_ne,ecrivain_ne,ar...</td>\n",
       "      <td>18</td>\n",
       "      <td>d1_acti_droits_humains</td>\n",
       "      <td>d2_ecrivain_ne</td>\n",
       "      <td>d3_ecrivain_ne</td>\n",
       "      <td>d4_cinema_TV</td>\n",
       "      <td>1941-1965</td>\n",
       "      <td>1951-1970</td>\n",
       "    </tr>\n",
       "  </tbody>\n",
       "</table>\n",
       "</div>"
      ],
      "text/plain": [
       "   orig_index                                     uri                     nom  \\\n",
       "0           0  http://www.wikidata.org/entity/Q231690  Bhimrao Ramji Ambedkar   \n",
       "1           1   http://www.wikidata.org/entity/Q19526            Maya Angelou   \n",
       "2           2  http://www.wikidata.org/entity/Q318509           Henry Rollins   \n",
       "\n",
       "  genre       origine_geo  annee_nais  \\\n",
       "0     M             Asie         1891   \n",
       "1     F  Amérique du nord        1928   \n",
       "2     M  Amérique du nord        1961   \n",
       "\n",
       "                                         liste_occup  eff_occupations  \\\n",
       "0  ecrivain_ne,politique,enseignement,droit,SHS,S...               68   \n",
       "1  cinema_TV,ecrivain_ne,politique,enseignement,a...               19   \n",
       "2  cinema_TV,cinema_TV,ecrivain_ne,ecrivain_ne,ar...               18   \n",
       "\n",
       "                       o1               o2               o3                o4  \\\n",
       "0   d1_acti_droits_femmes  d2_enseignement  d3_enseignement  d4_religieux_ses   \n",
       "1  d1_acti_droits_humains  d2_enseignement  d3_enseignement      d4_cinema_TV   \n",
       "2  d1_acti_droits_humains   d2_ecrivain_ne   d3_ecrivain_ne      d4_cinema_TV   \n",
       "\n",
       "    periodes periodes_20  \n",
       "0  1891-1915   1891-1910  \n",
       "1  1916-1940   1911-1930  \n",
       "2  1941-1965   1951-1970  "
      ]
     },
     "execution_count": 316,
     "metadata": {},
     "output_type": "execute_result"
    }
   ],
   "source": [
    "\n",
    "cdf_mod['periodes_20'] = pd.cut(cdf_mod['annee_nais'], l_20, right=False)\n",
    "\n",
    "### Transformer le code ajouté pour qu'il soit plus lisible\n",
    "# noter qu'on a arrondi les valeurs\n",
    "cdf_mod['periodes_20'] = cdf_mod['periodes_20'].apply(lambda x : str(int(x.left))+'-'+ str(int(x.right)-1))\n",
    "\n",
    "# Inspection\n",
    "cdf_mod.head(3)"
   ]
  },
  {
   "cell_type": "code",
   "execution_count": 317,
   "id": "ccc575cb-74cf-4dc6-aef3-65137b6d3b91",
   "metadata": {},
   "outputs": [
    {
     "data": {
      "image/png": "[encoded data removed]",
      "text/plain": [
       "<Figure size 1600x800 with 1 Axes>"
      ]
     },
     "metadata": {},
     "output_type": "display_data"
    }
   ],
   "source": [
    "ax = cdf_mod.groupby(by='periodes_20', observed=True).size().plot(kind='bar',rot=60, fontsize=8, figsize=(16,8))\n",
    "ax.bar_label(ax.containers[0], fontsize=12)\n",
    "\n",
    "plt.ylabel('Effectif')\n",
    "plt.xlabel('Périodes')\n",
    "plt.title('Naissances par périodes de cinquante ans')\n",
    "plt.show()"
   ]
  },
  {
   "cell_type": "code",
   "execution_count": 318,
   "id": "d199050e-280f-4b40-97b0-caf20532d55d",
   "metadata": {},
   "outputs": [],
   "source": [
    "DActives = cdf_mod[['periodes_20', 'origine_geo',\n",
    " 'o1', 'o2', 'o3']].copy(deep=True)"
   ]
  },
  {
   "cell_type": "code",
   "execution_count": 320,
   "id": "5d972c09-bf93-4014-a2ee-0a86c2cbeb68",
   "metadata": {},
   "outputs": [
    {
     "data": {
      "text/plain": [
       "periodes_20\n",
       "1891-1910     311\n",
       "1911-1930     526\n",
       "1931-1950    1193\n",
       "1951-1970    1421\n",
       "1971-1990    1179\n",
       "1991-2010     225\n",
       "dtype: int64"
      ]
     },
     "execution_count": 320,
     "metadata": {},
     "output_type": "execute_result"
    }
   ],
   "source": [
    "## période avant 20ème pas enlevée on verra si c'est grave\n",
    "DActives.groupby(by='periodes_20', observed=False).size()"
   ]
  },
  {
   "cell_type": "code",
   "execution_count": 321,
   "id": "7ff9029d-0260-4c9e-b125-78c9ba6a9144",
   "metadata": {},
   "outputs": [
    {
     "name": "stdout",
     "output_type": "stream",
     "text": [
      "Nombre variables: 5 Nombre lignes: 4855\n"
     ]
    }
   ],
   "source": [
    "### Structure du tableau à analyser\n",
    "# nombre de variables\n",
    "p = DActives.shape[1]\n",
    "# nombre d'observations\n",
    "n = DActives.shape[0]\n",
    "print('Nombre variables:', p, 'Nombre lignes:', n)\n",
    "# codage en 0/1\n",
    "X = pd.get_dummies(DActives,prefix='',prefix_sep='')*1"
   ]
  },
  {
   "cell_type": "markdown",
   "id": "5b87d922-0493-4873-8fc2-d78b0414bc94",
   "metadata": {},
   "source": [
    "### Distance des individus par rapport au profil moyen"
   ]
  },
  {
   "cell_type": "code",
   "execution_count": 322,
   "id": "84368460-e982-48ae-8206-58c1190008da",
   "metadata": {},
   "outputs": [
    {
     "name": "stdout",
     "output_type": "stream",
     "text": [
      "[0.01281153 0.02166838 0.04914521 0.05853759 0.04856849 0.0092688\n",
      " 0.01932029 0.03938208 0.0284655  0.0384758  0.07435633 0.00568486\n",
      " 0.0430484  0.05396498 0.09730175 0.01005149 0.10904222 0.05301751\n",
      " 0.02360453 0.00428424 0.01005149 0.10904222 0.05301751 0.02360453\n",
      " 0.00428424]\n"
     ]
    }
   ],
   "source": [
    "#Calcul du profil de l'individu moyen\n",
    "ind_moy = np.sum(X.values,axis=0)/(n*p)\n",
    "print(ind_moy)"
   ]
  },
  {
   "cell_type": "code",
   "execution_count": 323,
   "id": "a11287a3-64c4-497f-a2e9-28cc5515480f",
   "metadata": {},
   "outputs": [],
   "source": [
    "### Ajouter une colonne avec la distance chi-2 de chaque individu par rapport à l'individu moyen\n",
    "# pour chaque individu: les individus plus éloignés sont plus rares\n",
    "X['dist_org'] = X.apply(lambda x: round(np.sum(1/ind_moy*(x/p-ind_moy)**2),4), raw=True, axis=1)"
   ]
  },
  {
   "cell_type": "code",
   "execution_count": 324,
   "id": "63756e55-2f5f-4511-97f1-1eabe1ddaec9",
   "metadata": {},
   "outputs": [
    {
     "data": {
      "text/plain": [
       "1401    31.0952\n",
       "1992    31.0952\n",
       "2433    29.5628\n",
       "1690    27.6033\n",
       "750     26.9381\n",
       "519     26.7978\n",
       "298     26.5486\n",
       "3393    26.5486\n",
       "2597    26.5389\n",
       "1745    26.5389\n",
       "Name: dist_org, dtype: float64"
      ]
     },
     "execution_count": 324,
     "metadata": {},
     "output_type": "execute_result"
    }
   ],
   "source": [
    "### Inspecter le tableau\n",
    "X.sort_values(by='dist_org', ascending=False).head(10)['dist_org']"
   ]
  },
  {
   "cell_type": "code",
   "execution_count": 325,
   "id": "20b7ecce-e98f-422f-ae5f-e8bf5fabd981",
   "metadata": {},
   "outputs": [
    {
     "name": "stdout",
     "output_type": "stream",
     "text": [
      "count    4855.000000\n",
      "mean        4.000001\n",
      "std         3.434630\n",
      "min         1.366000\n",
      "25%         2.197800\n",
      "50%         2.858800\n",
      "75%         4.512300\n",
      "max        31.095200\n",
      "Name: dist_org, dtype: float64\n"
     ]
    },
    {
     "data": {
      "image/png": "[encoded data removed]",
      "text/plain": [
       "<Figure size 1000x200 with 1 Axes>"
      ]
     },
     "metadata": {},
     "output_type": "display_data"
    }
   ],
   "source": [
    "### Distribution de la distance chi-2\n",
    "\n",
    "sns.set_theme(style=\"whitegrid\",rc={\"figure.figsize\":(10,2)} )\n",
    "\n",
    "\n",
    "a = X['dist_org']\n",
    "# a = X['dist_org'][X['dist_org']< 20]\n",
    "\n",
    "print(a.describe())\n",
    "\n",
    "ax = sns.violinplot(x=a)\n",
    "\n",
    "### Noter que au delà des limites les valeurs sont coupées car postulées\n",
    "ax.set_xlim(left=min(a), right=max(a))\n",
    "\n",
    "plt.show()"
   ]
  },
  {
   "cell_type": "code",
   "execution_count": 326,
   "id": "90903530-3a22-4900-8d5e-d3346b3780f0",
   "metadata": {},
   "outputs": [
    {
     "data": {
      "text/html": [
       "<div>\n",
       "<style scoped>\n",
       "    .dataframe tbody tr th:only-of-type {\n",
       "        vertical-align: middle;\n",
       "    }\n",
       "\n",
       "    .dataframe tbody tr th {\n",
       "        vertical-align: top;\n",
       "    }\n",
       "\n",
       "    .dataframe thead th {\n",
       "        text-align: right;\n",
       "    }\n",
       "</style>\n",
       "<table border=\"1\" class=\"dataframe\">\n",
       "  <thead>\n",
       "    <tr style=\"text-align: right;\">\n",
       "      <th></th>\n",
       "      <th>orig_index</th>\n",
       "      <th>uri</th>\n",
       "      <th>nom</th>\n",
       "      <th>genre</th>\n",
       "      <th>origine_geo</th>\n",
       "      <th>annee_nais</th>\n",
       "      <th>liste_occup</th>\n",
       "      <th>eff_occupations</th>\n",
       "      <th>o1</th>\n",
       "      <th>o2</th>\n",
       "      <th>o3</th>\n",
       "      <th>o4</th>\n",
       "      <th>periodes</th>\n",
       "      <th>periodes_20</th>\n",
       "      <th>dist_org</th>\n",
       "    </tr>\n",
       "  </thead>\n",
       "  <tbody>\n",
       "    <tr>\n",
       "      <th>0</th>\n",
       "      <td>0</td>\n",
       "      <td>http://www.wikidata.org/entity/Q231690</td>\n",
       "      <td>Bhimrao Ramji Ambedkar</td>\n",
       "      <td>M</td>\n",
       "      <td>Asie</td>\n",
       "      <td>1891</td>\n",
       "      <td>ecrivain_ne,politique,enseignement,droit,SHS,S...</td>\n",
       "      <td>68</td>\n",
       "      <td>d1_acti_droits_femmes</td>\n",
       "      <td>d2_enseignement</td>\n",
       "      <td>d3_enseignement</td>\n",
       "      <td>d4_religieux_ses</td>\n",
       "      <td>1891-1915</td>\n",
       "      <td>1891-1910</td>\n",
       "      <td>7.2922</td>\n",
       "    </tr>\n",
       "    <tr>\n",
       "      <th>1</th>\n",
       "      <td>1</td>\n",
       "      <td>http://www.wikidata.org/entity/Q19526</td>\n",
       "      <td>Maya Angelou</td>\n",
       "      <td>F</td>\n",
       "      <td>Amérique du nord</td>\n",
       "      <td>1928</td>\n",
       "      <td>cinema_TV,ecrivain_ne,politique,enseignement,a...</td>\n",
       "      <td>19</td>\n",
       "      <td>d1_acti_droits_humains</td>\n",
       "      <td>d2_enseignement</td>\n",
       "      <td>d3_enseignement</td>\n",
       "      <td>d4_cinema_TV</td>\n",
       "      <td>1916-1940</td>\n",
       "      <td>1911-1930</td>\n",
       "      <td>5.6620</td>\n",
       "    </tr>\n",
       "    <tr>\n",
       "      <th>2</th>\n",
       "      <td>2</td>\n",
       "      <td>http://www.wikidata.org/entity/Q318509</td>\n",
       "      <td>Henry Rollins</td>\n",
       "      <td>M</td>\n",
       "      <td>Amérique du nord</td>\n",
       "      <td>1961</td>\n",
       "      <td>cinema_TV,cinema_TV,ecrivain_ne,ecrivain_ne,ar...</td>\n",
       "      <td>18</td>\n",
       "      <td>d1_acti_droits_humains</td>\n",
       "      <td>d2_ecrivain_ne</td>\n",
       "      <td>d3_ecrivain_ne</td>\n",
       "      <td>d4_cinema_TV</td>\n",
       "      <td>1941-1965</td>\n",
       "      <td>1951-1970</td>\n",
       "      <td>2.6190</td>\n",
       "    </tr>\n",
       "  </tbody>\n",
       "</table>\n",
       "</div>"
      ],
      "text/plain": [
       "   orig_index                                     uri                     nom  \\\n",
       "0           0  http://www.wikidata.org/entity/Q231690  Bhimrao Ramji Ambedkar   \n",
       "1           1   http://www.wikidata.org/entity/Q19526            Maya Angelou   \n",
       "2           2  http://www.wikidata.org/entity/Q318509           Henry Rollins   \n",
       "\n",
       "  genre       origine_geo  annee_nais  \\\n",
       "0     M             Asie         1891   \n",
       "1     F  Amérique du nord        1928   \n",
       "2     M  Amérique du nord        1961   \n",
       "\n",
       "                                         liste_occup  eff_occupations  \\\n",
       "0  ecrivain_ne,politique,enseignement,droit,SHS,S...               68   \n",
       "1  cinema_TV,ecrivain_ne,politique,enseignement,a...               19   \n",
       "2  cinema_TV,cinema_TV,ecrivain_ne,ecrivain_ne,ar...               18   \n",
       "\n",
       "                       o1               o2               o3                o4  \\\n",
       "0   d1_acti_droits_femmes  d2_enseignement  d3_enseignement  d4_religieux_ses   \n",
       "1  d1_acti_droits_humains  d2_enseignement  d3_enseignement      d4_cinema_TV   \n",
       "2  d1_acti_droits_humains   d2_ecrivain_ne   d3_ecrivain_ne      d4_cinema_TV   \n",
       "\n",
       "    periodes periodes_20  dist_org  \n",
       "0  1891-1915   1891-1910    7.2922  \n",
       "1  1916-1940   1911-1930    5.6620  \n",
       "2  1941-1965   1951-1970    2.6190  "
      ]
     },
     "execution_count": 326,
     "metadata": {},
     "output_type": "execute_result"
    }
   ],
   "source": [
    "### Ajouter la distance des individus à leur données\n",
    "# On créé un nouveau DataFrame qui résulte de la jointure des deux précédents\n",
    "cdf_mod_dist= pd.merge(cdf_mod, X.dist_org, left_index=True, right_index=True)\n",
    "cdf_mod_dist[:3]"
   ]
  },
  {
   "cell_type": "code",
   "execution_count": 327,
   "id": "708be84b-57ed-48ed-b65d-bb77c0b8a064",
   "metadata": {},
   "outputs": [
    {
     "name": "stdout",
     "output_type": "stream",
     "text": [
      "878\n"
     ]
    },
    {
     "data": {
      "text/html": [
       "<div>\n",
       "<style scoped>\n",
       "    .dataframe tbody tr th:only-of-type {\n",
       "        vertical-align: middle;\n",
       "    }\n",
       "\n",
       "    .dataframe tbody tr th {\n",
       "        vertical-align: top;\n",
       "    }\n",
       "\n",
       "    .dataframe thead th {\n",
       "        text-align: right;\n",
       "    }\n",
       "</style>\n",
       "<table border=\"1\" class=\"dataframe\">\n",
       "  <thead>\n",
       "    <tr style=\"text-align: right;\">\n",
       "      <th></th>\n",
       "      <th>orig_index</th>\n",
       "      <th>uri</th>\n",
       "      <th>nom</th>\n",
       "      <th>genre</th>\n",
       "      <th>origine_geo</th>\n",
       "      <th>annee_nais</th>\n",
       "      <th>liste_occup</th>\n",
       "      <th>eff_occupations</th>\n",
       "      <th>o1</th>\n",
       "      <th>o2</th>\n",
       "      <th>o3</th>\n",
       "      <th>o4</th>\n",
       "      <th>periodes</th>\n",
       "      <th>periodes_20</th>\n",
       "      <th>dist_org</th>\n",
       "    </tr>\n",
       "  </thead>\n",
       "  <tbody>\n",
       "    <tr>\n",
       "      <th>4689</th>\n",
       "      <td>5943</td>\n",
       "      <td>http://www.wikidata.org/entity/Q15815037</td>\n",
       "      <td>Dunja Mijatović</td>\n",
       "      <td>F</td>\n",
       "      <td>Europe</td>\n",
       "      <td>1964</td>\n",
       "      <td>acti_droits_humains</td>\n",
       "      <td>1</td>\n",
       "      <td>d1_acti_droits_humains</td>\n",
       "      <td>d2_droit</td>\n",
       "      <td>d3_droit</td>\n",
       "      <td>d4_nr</td>\n",
       "      <td>1941-1965</td>\n",
       "      <td>1951-1970</td>\n",
       "      <td>1.366</td>\n",
       "    </tr>\n",
       "    <tr>\n",
       "      <th>4651</th>\n",
       "      <td>5898</td>\n",
       "      <td>http://www.wikidata.org/entity/Q16206950</td>\n",
       "      <td>Shane Ryan</td>\n",
       "      <td>M</td>\n",
       "      <td>Europe</td>\n",
       "      <td>1969</td>\n",
       "      <td>acti_droits_humains</td>\n",
       "      <td>1</td>\n",
       "      <td>d1_acti_droits_humains</td>\n",
       "      <td>d2_droit</td>\n",
       "      <td>d3_droit</td>\n",
       "      <td>d4_nr</td>\n",
       "      <td>1966-1990</td>\n",
       "      <td>1951-1970</td>\n",
       "      <td>1.366</td>\n",
       "    </tr>\n",
       "    <tr>\n",
       "      <th>4100</th>\n",
       "      <td>5265</td>\n",
       "      <td>http://www.wikidata.org/entity/Q5993645</td>\n",
       "      <td>Igor Rotar</td>\n",
       "      <td>M</td>\n",
       "      <td>Europe</td>\n",
       "      <td>1965</td>\n",
       "      <td>acti_droits_humains</td>\n",
       "      <td>1</td>\n",
       "      <td>d1_acti_droits_humains</td>\n",
       "      <td>d2_droit</td>\n",
       "      <td>d3_droit</td>\n",
       "      <td>d4_nr</td>\n",
       "      <td>1941-1965</td>\n",
       "      <td>1951-1970</td>\n",
       "      <td>1.366</td>\n",
       "    </tr>\n",
       "    <tr>\n",
       "      <th>4726</th>\n",
       "      <td>5985</td>\n",
       "      <td>http://www.wikidata.org/entity/Q1249140</td>\n",
       "      <td>Monika Lüke</td>\n",
       "      <td>F</td>\n",
       "      <td>Europe</td>\n",
       "      <td>1969</td>\n",
       "      <td>acti_droits_humains</td>\n",
       "      <td>1</td>\n",
       "      <td>d1_acti_droits_humains</td>\n",
       "      <td>d2_droit</td>\n",
       "      <td>d3_droit</td>\n",
       "      <td>d4_nr</td>\n",
       "      <td>1966-1990</td>\n",
       "      <td>1951-1970</td>\n",
       "      <td>1.366</td>\n",
       "    </tr>\n",
       "    <tr>\n",
       "      <th>1829</th>\n",
       "      <td>2414</td>\n",
       "      <td>http://www.wikidata.org/entity/Q440597</td>\n",
       "      <td>Oswaldo Payá</td>\n",
       "      <td>M</td>\n",
       "      <td>Europe</td>\n",
       "      <td>1952</td>\n",
       "      <td>politique,acti_droits_humains,autre</td>\n",
       "      <td>3</td>\n",
       "      <td>d1_acti_droits_humains</td>\n",
       "      <td>d2_droit</td>\n",
       "      <td>d3_droit</td>\n",
       "      <td>d4_politique</td>\n",
       "      <td>1941-1965</td>\n",
       "      <td>1951-1970</td>\n",
       "      <td>1.366</td>\n",
       "    </tr>\n",
       "  </tbody>\n",
       "</table>\n",
       "</div>"
      ],
      "text/plain": [
       "      orig_index                                       uri              nom  \\\n",
       "4689        5943  http://www.wikidata.org/entity/Q15815037  Dunja Mijatović   \n",
       "4651        5898  http://www.wikidata.org/entity/Q16206950       Shane Ryan   \n",
       "4100        5265   http://www.wikidata.org/entity/Q5993645       Igor Rotar   \n",
       "4726        5985   http://www.wikidata.org/entity/Q1249140      Monika Lüke   \n",
       "1829        2414    http://www.wikidata.org/entity/Q440597     Oswaldo Payá   \n",
       "\n",
       "     genre origine_geo  annee_nais                          liste_occup  \\\n",
       "4689     F      Europe        1964                  acti_droits_humains   \n",
       "4651     M      Europe        1969                  acti_droits_humains   \n",
       "4100     M      Europe        1965                  acti_droits_humains   \n",
       "4726     F      Europe        1969                  acti_droits_humains   \n",
       "1829     M      Europe        1952  politique,acti_droits_humains,autre   \n",
       "\n",
       "      eff_occupations                      o1        o2        o3  \\\n",
       "4689                1  d1_acti_droits_humains  d2_droit  d3_droit   \n",
       "4651                1  d1_acti_droits_humains  d2_droit  d3_droit   \n",
       "4100                1  d1_acti_droits_humains  d2_droit  d3_droit   \n",
       "4726                1  d1_acti_droits_humains  d2_droit  d3_droit   \n",
       "1829                3  d1_acti_droits_humains  d2_droit  d3_droit   \n",
       "\n",
       "                o4   periodes periodes_20  dist_org  \n",
       "4689         d4_nr  1941-1965   1951-1970     1.366  \n",
       "4651         d4_nr  1966-1990   1951-1970     1.366  \n",
       "4100         d4_nr  1941-1965   1951-1970     1.366  \n",
       "4726         d4_nr  1966-1990   1951-1970     1.366  \n",
       "1829  d4_politique  1941-1965   1951-1970     1.366  "
      ]
     },
     "execution_count": 327,
     "metadata": {},
     "output_type": "execute_result"
    }
   ],
   "source": [
    "## Individus proches du profil moyen\n",
    "#  donc fréquents\n",
    "df_filtered = cdf_mod_dist[cdf_mod_dist.dist_org<2]\n",
    "print(len(df_filtered))\n",
    "df_filtered.sort_values(by='dist_org')[:5]"
   ]
  },
  {
   "cell_type": "code",
   "execution_count": 330,
   "id": "6083f6e3-affd-4d68-8b50-263db9d685f6",
   "metadata": {},
   "outputs": [
    {
     "data": {
      "text/plain": [
       "periodes_20  origine_geo      o1                      o2              o3            \n",
       "1951-1970    Asie             d1_acti_droits_humains  d2_droit        d3_droit          160\n",
       "1971-1990    Asie             d1_acti_droits_humains  d2_droit        d3_droit          138\n",
       "             Europe           d1_acti_droits_humains  d2_droit        d3_droit           93\n",
       "1951-1970    Europe           d1_acti_droits_humains  d2_droit        d3_droit           92\n",
       "                              d1_acti_droits_LGBT     d2_droit        d3_droit           86\n",
       "1931-1950    Asie             d1_acti_droits_humains  d2_droit        d3_droit           83\n",
       "             Europe           d1_acti_droits_humains  d2_droit        d3_droit           79\n",
       "1971-1990    Europe           d1_acti_droits_LGBT     d2_droit        d3_droit           77\n",
       "1951-1970    Amérique du sud  d1_acti_droits_humains  d2_droit        d3_droit           76\n",
       "1931-1950    Europe           d1_acti_droits_humains  d2_ecrivain_ne  d3_ecrivain_ne     71\n",
       "dtype: int64"
      ]
     },
     "execution_count": 330,
     "metadata": {},
     "output_type": "execute_result"
    }
   ],
   "source": [
    "## Inspecter les combinaisons les plus fréquentes\n",
    "cdf_mod_dist.groupby(by=['periodes_20','origine_geo','o1','o2','o3'],\\\n",
    "                       observed=True).size().sort_values(ascending=False).head(10)"
   ]
  },
  {
   "cell_type": "code",
   "execution_count": null,
   "id": "4b8aaca0-0f02-4fde-809a-b8246cfb532d",
   "metadata": {},
   "outputs": [],
   "source": []
  }
 ],
 "metadata": {
  "kernelspec": {
   "display_name": "py311_data_analysis",
   "language": "python",
   "name": "py311_data_analysis"
  },
  "language_info": {
   "codemirror_mode": {
    "name": "ipython",
    "version": 3
   },
   "file_extension": ".py",
   "mimetype": "text/x-python",
   "name": "python",
   "nbconvert_exporter": "python",
   "pygments_lexer": "ipython3",
   "version": "3.11.8"
  }
 },
 "nbformat": 4,
 "nbformat_minor": 5
}
