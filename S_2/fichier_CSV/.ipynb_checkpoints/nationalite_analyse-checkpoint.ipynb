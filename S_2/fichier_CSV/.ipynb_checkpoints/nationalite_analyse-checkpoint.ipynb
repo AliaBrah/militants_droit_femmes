{
 "cells": [
  {
   "cell_type": "markdown",
   "id": "d713c806-b1bc-4861-a872-19b51aeaac02",
   "metadata": {},
   "source": [
    "# Analyse des nationalités et leur évolution dans le temps\n",
    "\n",
    "Dans ce carnet est proposée une analyse de la place des nationalités sous forme de présences dans les aires géographiques en fonction du temps.\n",
    "\n"
   ]
  },
  {
   "cell_type": "code",
   "execution_count": 5,
   "id": "7321aa2c-ac69-440f-af74-afb42f9a1a4f",
   "metadata": {},
   "outputs": [],
   "source": [
    "import pandas as pd\n",
    "import matplotlib.pyplot as plt\n",
    "import numpy as np\n",
    "import seaborn as sns\n",
    "import scipy.stats as stats\n",
    "\n",
    "### Librairies déjà installées avec Python\n",
    "import pprint\n",
    "import csv\n",
    "import sys\n",
    "\n",
    "import sqlite3 as sql\n",
    "\n",
    "import time\n",
    "import datetime\n",
    "from dateutil import parser\n",
    "\n",
    "from importlib import reload\n",
    "from shutil import copyfile\n",
    "# Importation du fichier csv qui se trouve dans le même dossier que le notebook\n",
    "data1 = pd.read_csv(\"analyse_geo_personne.csv\")"
   ]
  },
  {
   "cell_type": "code",
   "execution_count": 10,
   "id": "54186ebd-b458-423c-b84c-a0557a6afa94",
   "metadata": {},
   "outputs": [
    {
     "data": {
      "text/html": [
       "<div>\n",
       "<style scoped>\n",
       "    .dataframe tbody tr th:only-of-type {\n",
       "        vertical-align: middle;\n",
       "    }\n",
       "\n",
       "    .dataframe tbody tr th {\n",
       "        vertical-align: top;\n",
       "    }\n",
       "\n",
       "    .dataframe thead th {\n",
       "        text-align: right;\n",
       "    }\n",
       "</style>\n",
       "<table border=\"1\" class=\"dataframe\">\n",
       "  <thead>\n",
       "    <tr style=\"text-align: right;\">\n",
       "      <th></th>\n",
       "      <th>pk</th>\n",
       "      <th>nom</th>\n",
       "      <th>gender</th>\n",
       "      <th>zone_geo</th>\n",
       "      <th>annee_naissance</th>\n",
       "    </tr>\n",
       "  </thead>\n",
       "  <tbody>\n",
       "    <tr>\n",
       "      <th>0</th>\n",
       "      <td>http://www.wikidata.org/entity/Q4962236</td>\n",
       "      <td>Fredrika Limnell</td>\n",
       "      <td>F</td>\n",
       "      <td>Europe</td>\n",
       "      <td>1816</td>\n",
       "    </tr>\n",
       "    <tr>\n",
       "      <th>1</th>\n",
       "      <td>http://www.wikidata.org/entity/Q12315607</td>\n",
       "      <td>Hansine Andræ</td>\n",
       "      <td>F</td>\n",
       "      <td>Europe</td>\n",
       "      <td>1817</td>\n",
       "    </tr>\n",
       "    <tr>\n",
       "      <th>2</th>\n",
       "      <td>http://www.wikidata.org/entity/Q19403912</td>\n",
       "      <td>Mary Taylor (1817-1893)</td>\n",
       "      <td>F</td>\n",
       "      <td>Europe</td>\n",
       "      <td>1817</td>\n",
       "    </tr>\n",
       "    <tr>\n",
       "      <th>3</th>\n",
       "      <td>http://www.wikidata.org/entity/Q255221</td>\n",
       "      <td>Táhirih</td>\n",
       "      <td>F</td>\n",
       "      <td>Asie</td>\n",
       "      <td>1817</td>\n",
       "    </tr>\n",
       "    <tr>\n",
       "      <th>4</th>\n",
       "      <td>http://www.wikidata.org/entity/Q43302262</td>\n",
       "      <td>Violante Atabalipa Ximenes de Bivar e Vellasco</td>\n",
       "      <td>F</td>\n",
       "      <td>Amérique du sud</td>\n",
       "      <td>1817</td>\n",
       "    </tr>\n",
       "  </tbody>\n",
       "</table>\n",
       "</div>"
      ],
      "text/plain": [
       "                                         pk  \\\n",
       "0   http://www.wikidata.org/entity/Q4962236   \n",
       "1  http://www.wikidata.org/entity/Q12315607   \n",
       "2  http://www.wikidata.org/entity/Q19403912   \n",
       "3    http://www.wikidata.org/entity/Q255221   \n",
       "4  http://www.wikidata.org/entity/Q43302262   \n",
       "\n",
       "                                              nom gender         zone_geo  \\\n",
       "0                                Fredrika Limnell      F           Europe   \n",
       "1                                   Hansine Andræ      F           Europe   \n",
       "2                         Mary Taylor (1817-1893)      F           Europe   \n",
       "3                                         Táhirih      F            Asie    \n",
       "4  Violante Atabalipa Ximenes de Bivar e Vellasco      F  Amérique du sud   \n",
       "\n",
       "   annee_naissance  \n",
       "0             1816  \n",
       "1             1817  \n",
       "2             1817  \n",
       "3             1817  \n",
       "4             1817  "
      ]
     },
     "execution_count": 10,
     "metadata": {},
     "output_type": "execute_result"
    }
   ],
   "source": [
    "data1.head()"
   ]
  },
  {
   "cell_type": "code",
   "execution_count": 19,
   "id": "1a80b179-0de1-4f76-b918-e9122a959df8",
   "metadata": {},
   "outputs": [
    {
     "data": {
      "text/html": [
       "<div>\n",
       "<style scoped>\n",
       "    .dataframe tbody tr th:only-of-type {\n",
       "        vertical-align: middle;\n",
       "    }\n",
       "\n",
       "    .dataframe tbody tr th {\n",
       "        vertical-align: top;\n",
       "    }\n",
       "\n",
       "    .dataframe thead th {\n",
       "        text-align: right;\n",
       "    }\n",
       "</style>\n",
       "<table border=\"1\" class=\"dataframe\">\n",
       "  <thead>\n",
       "    <tr style=\"text-align: right;\">\n",
       "      <th></th>\n",
       "      <th>pk</th>\n",
       "      <th>nom</th>\n",
       "      <th>gender</th>\n",
       "      <th>zone_geo</th>\n",
       "      <th>annee_naissance</th>\n",
       "    </tr>\n",
       "  </thead>\n",
       "  <tbody>\n",
       "    <tr>\n",
       "      <th>6140</th>\n",
       "      <td>http://www.wikidata.org/entity/Q60451813</td>\n",
       "      <td>Rukshana Kapali</td>\n",
       "      <td>LGBTQ</td>\n",
       "      <td>Asie</td>\n",
       "      <td>1999</td>\n",
       "    </tr>\n",
       "    <tr>\n",
       "      <th>6141</th>\n",
       "      <td>http://www.wikidata.org/entity/Q60614820</td>\n",
       "      <td>Kyra Gantois</td>\n",
       "      <td>F</td>\n",
       "      <td>Europe</td>\n",
       "      <td>1999</td>\n",
       "    </tr>\n",
       "    <tr>\n",
       "      <th>6142</th>\n",
       "      <td>http://www.wikidata.org/entity/Q61997527</td>\n",
       "      <td>Frederika Alexis Cull</td>\n",
       "      <td>F</td>\n",
       "      <td>Asie</td>\n",
       "      <td>1999</td>\n",
       "    </tr>\n",
       "    <tr>\n",
       "      <th>6143</th>\n",
       "      <td>http://www.wikidata.org/entity/Q64748736</td>\n",
       "      <td>Malak al-Kashif</td>\n",
       "      <td>LGBTQ</td>\n",
       "      <td>Afrique</td>\n",
       "      <td>1999</td>\n",
       "    </tr>\n",
       "    <tr>\n",
       "      <th>6144</th>\n",
       "      <td>http://www.wikidata.org/entity/Q81941579</td>\n",
       "      <td>Aliénor Rougeot</td>\n",
       "      <td>F</td>\n",
       "      <td>Europe</td>\n",
       "      <td>1999</td>\n",
       "    </tr>\n",
       "  </tbody>\n",
       "</table>\n",
       "</div>"
      ],
      "text/plain": [
       "                                            pk                    nom gender  \\\n",
       "6140  http://www.wikidata.org/entity/Q60451813        Rukshana Kapali  LGBTQ   \n",
       "6141  http://www.wikidata.org/entity/Q60614820           Kyra Gantois      F   \n",
       "6142  http://www.wikidata.org/entity/Q61997527  Frederika Alexis Cull      F   \n",
       "6143  http://www.wikidata.org/entity/Q64748736        Malak al-Kashif  LGBTQ   \n",
       "6144  http://www.wikidata.org/entity/Q81941579        Aliénor Rougeot      F   \n",
       "\n",
       "     zone_geo  annee_naissance  \n",
       "6140    Asie              1999  \n",
       "6141   Europe             1999  \n",
       "6142    Asie              1999  \n",
       "6143  Afrique             1999  \n",
       "6144   Europe             1999  "
      ]
     },
     "execution_count": 19,
     "metadata": {},
     "output_type": "execute_result"
    }
   ],
   "source": [
    "data1.tail()"
   ]
  },
  {
   "cell_type": "code",
   "execution_count": 12,
   "id": "64779817-7da2-46d0-8ae2-c657b47b9eb9",
   "metadata": {},
   "outputs": [
    {
     "name": "stdout",
     "output_type": "stream",
     "text": [
      "<class 'pandas.core.frame.DataFrame'>\n",
      "RangeIndex: 6145 entries, 0 to 6144\n",
      "Data columns (total 5 columns):\n",
      " #   Column           Non-Null Count  Dtype \n",
      "---  ------           --------------  ----- \n",
      " 0   pk               6145 non-null   object\n",
      " 1   nom              6145 non-null   object\n",
      " 2   gender           6145 non-null   object\n",
      " 3   zone_geo         6145 non-null   object\n",
      " 4   annee_naissance  6145 non-null   int64 \n",
      "dtypes: int64(1), object(4)\n",
      "memory usage: 240.2+ KB\n"
     ]
    }
   ],
   "source": [
    "### information sur le type de données\n",
    "data1.info()"
   ]
  },
  {
   "cell_type": "code",
   "execution_count": 13,
   "id": "3ba1c841-f476-4f66-a699-125922d7bdcd",
   "metadata": {},
   "outputs": [
    {
     "data": {
      "text/plain": [
       "zone_geo\n",
       "Europe              2628\n",
       "Amérique du nord    1093\n",
       "Asie                1000\n",
       "Amérique du sud      751\n",
       "Afrique              510\n",
       "Océanie              163\n",
       "dtype: int64"
      ]
     },
     "execution_count": 13,
     "metadata": {},
     "output_type": "execute_result"
    }
   ],
   "source": [
    "### Distribution des aires géographiques d'origine\n",
    "data1.groupby(by='zone_geo').size().sort_values(ascending=False)"
   ]
  },
  {
   "cell_type": "markdown",
   "id": "0e1293d3-473d-4cf5-8751-dff6058741c1",
   "metadata": {},
   "source": [
    "# Coder les différentes générations (25 ans)"
   ]
  },
  {
   "cell_type": "code",
   "execution_count": 26,
   "id": "6035fcdf-2b04-42c3-ace2-07def86c2e10",
   "metadata": {},
   "outputs": [
    {
     "data": {
      "text/html": [
       "<div>\n",
       "<style scoped>\n",
       "    .dataframe tbody tr th:only-of-type {\n",
       "        vertical-align: middle;\n",
       "    }\n",
       "\n",
       "    .dataframe tbody tr th {\n",
       "        vertical-align: top;\n",
       "    }\n",
       "\n",
       "    .dataframe thead th {\n",
       "        text-align: right;\n",
       "    }\n",
       "</style>\n",
       "<table border=\"1\" class=\"dataframe\">\n",
       "  <thead>\n",
       "    <tr style=\"text-align: right;\">\n",
       "      <th></th>\n",
       "      <th>pk</th>\n",
       "      <th>nom</th>\n",
       "      <th>gender</th>\n",
       "      <th>zone_geo</th>\n",
       "      <th>annee_naissance</th>\n",
       "    </tr>\n",
       "  </thead>\n",
       "  <tbody>\n",
       "    <tr>\n",
       "      <th>0</th>\n",
       "      <td>http://www.wikidata.org/entity/Q4962236</td>\n",
       "      <td>Fredrika Limnell</td>\n",
       "      <td>F</td>\n",
       "      <td>Europe</td>\n",
       "      <td>1816</td>\n",
       "    </tr>\n",
       "    <tr>\n",
       "      <th>1</th>\n",
       "      <td>http://www.wikidata.org/entity/Q12315607</td>\n",
       "      <td>Hansine Andræ</td>\n",
       "      <td>F</td>\n",
       "      <td>Europe</td>\n",
       "      <td>1817</td>\n",
       "    </tr>\n",
       "    <tr>\n",
       "      <th>2</th>\n",
       "      <td>http://www.wikidata.org/entity/Q19403912</td>\n",
       "      <td>Mary Taylor (1817-1893)</td>\n",
       "      <td>F</td>\n",
       "      <td>Europe</td>\n",
       "      <td>1817</td>\n",
       "    </tr>\n",
       "  </tbody>\n",
       "</table>\n",
       "</div>"
      ],
      "text/plain": [
       "                                         pk                      nom gender  \\\n",
       "0   http://www.wikidata.org/entity/Q4962236         Fredrika Limnell      F   \n",
       "1  http://www.wikidata.org/entity/Q12315607            Hansine Andræ      F   \n",
       "2  http://www.wikidata.org/entity/Q19403912  Mary Taylor (1817-1893)      F   \n",
       "\n",
       "  zone_geo  annee_naissance  \n",
       "0   Europe             1816  \n",
       "1   Europe             1817  \n",
       "2   Europe             1817  "
      ]
     },
     "execution_count": 26,
     "metadata": {},
     "output_type": "execute_result"
    }
   ],
   "source": [
    "### Créer une copie indépendante du DataFrame, comme on va la modifier\n",
    "data_cop = data1[data1['annee_naissance'] < 2000].copy(deep=True)\n",
    "data_cop.head(3)"
   ]
  },
  {
   "cell_type": "code",
   "execution_count": 28,
   "id": "38ac8183-ef01-4312-aad0-613d11331b81",
   "metadata": {},
   "outputs": [
    {
     "data": {
      "text/html": [
       "<div>\n",
       "<style scoped>\n",
       "    .dataframe tbody tr th:only-of-type {\n",
       "        vertical-align: middle;\n",
       "    }\n",
       "\n",
       "    .dataframe tbody tr th {\n",
       "        vertical-align: top;\n",
       "    }\n",
       "\n",
       "    .dataframe thead th {\n",
       "        text-align: right;\n",
       "    }\n",
       "</style>\n",
       "<table border=\"1\" class=\"dataframe\">\n",
       "  <thead>\n",
       "    <tr style=\"text-align: right;\">\n",
       "      <th></th>\n",
       "      <th>pk</th>\n",
       "      <th>nom</th>\n",
       "      <th>gender</th>\n",
       "      <th>zone_geo</th>\n",
       "      <th>annee_naissance</th>\n",
       "    </tr>\n",
       "  </thead>\n",
       "  <tbody>\n",
       "    <tr>\n",
       "      <th>6142</th>\n",
       "      <td>http://www.wikidata.org/entity/Q61997527</td>\n",
       "      <td>Frederika Alexis Cull</td>\n",
       "      <td>F</td>\n",
       "      <td>Asie</td>\n",
       "      <td>1999</td>\n",
       "    </tr>\n",
       "    <tr>\n",
       "      <th>6143</th>\n",
       "      <td>http://www.wikidata.org/entity/Q64748736</td>\n",
       "      <td>Malak al-Kashif</td>\n",
       "      <td>LGBTQ</td>\n",
       "      <td>Afrique</td>\n",
       "      <td>1999</td>\n",
       "    </tr>\n",
       "    <tr>\n",
       "      <th>6144</th>\n",
       "      <td>http://www.wikidata.org/entity/Q81941579</td>\n",
       "      <td>Aliénor Rougeot</td>\n",
       "      <td>F</td>\n",
       "      <td>Europe</td>\n",
       "      <td>1999</td>\n",
       "    </tr>\n",
       "  </tbody>\n",
       "</table>\n",
       "</div>"
      ],
      "text/plain": [
       "                                            pk                    nom gender  \\\n",
       "6142  http://www.wikidata.org/entity/Q61997527  Frederika Alexis Cull      F   \n",
       "6143  http://www.wikidata.org/entity/Q64748736        Malak al-Kashif  LGBTQ   \n",
       "6144  http://www.wikidata.org/entity/Q81941579        Aliénor Rougeot      F   \n",
       "\n",
       "     zone_geo  annee_naissance  \n",
       "6142    Asie              1999  \n",
       "6143  Afrique             1999  \n",
       "6144   Europe             1999  "
      ]
     },
     "execution_count": 28,
     "metadata": {},
     "output_type": "execute_result"
    }
   ],
   "source": [
    "data_cop.tail(3)"
   ]
  },
  {
   "cell_type": "code",
   "execution_count": 29,
   "id": "c0bda8a5-776a-4ca0-a9be-ccdd3e2cc6c6",
   "metadata": {},
   "outputs": [
    {
     "data": {
      "text/plain": [
       "(1816, 1999)"
      ]
     },
     "execution_count": 29,
     "metadata": {},
     "output_type": "execute_result"
    }
   ],
   "source": [
    "### Année minimale et maximale dans la population\n",
    "min(data1['annee_naissance']), max(data1['annee_naissance'])\n"
   ]
  },
  {
   "cell_type": "code",
   "execution_count": 30,
   "id": "ee54bd7a-0794-461e-be9f-6ad2137958eb",
   "metadata": {},
   "outputs": [
    {
     "data": {
      "text/plain": [
       "([1816, 1841, 1866, 1891, 1916], [1916, 1941, 1966, 1991, 2016])"
      ]
     },
     "execution_count": 30,
     "metadata": {},
     "output_type": "execute_result"
    }
   ],
   "source": [
    "l_25 = list(range(1816, 2017, 25))\n",
    "l_25 [:5], l_25[-5:]"
   ]
  },
  {
   "cell_type": "code",
   "execution_count": 31,
   "id": "ff92cbf2-c1e9-41cf-a6ab-2720b2ed3466",
   "metadata": {},
   "outputs": [
    {
     "data": {
      "text/html": [
       "<div>\n",
       "<style scoped>\n",
       "    .dataframe tbody tr th:only-of-type {\n",
       "        vertical-align: middle;\n",
       "    }\n",
       "\n",
       "    .dataframe tbody tr th {\n",
       "        vertical-align: top;\n",
       "    }\n",
       "\n",
       "    .dataframe thead th {\n",
       "        text-align: right;\n",
       "    }\n",
       "</style>\n",
       "<table border=\"1\" class=\"dataframe\">\n",
       "  <thead>\n",
       "    <tr style=\"text-align: right;\">\n",
       "      <th></th>\n",
       "      <th>pk</th>\n",
       "      <th>nom</th>\n",
       "      <th>gender</th>\n",
       "      <th>zone_geo</th>\n",
       "      <th>annee_naissance</th>\n",
       "      <th>periodes</th>\n",
       "    </tr>\n",
       "  </thead>\n",
       "  <tbody>\n",
       "    <tr>\n",
       "      <th>0</th>\n",
       "      <td>http://www.wikidata.org/entity/Q4962236</td>\n",
       "      <td>Fredrika Limnell</td>\n",
       "      <td>F</td>\n",
       "      <td>Europe</td>\n",
       "      <td>1816</td>\n",
       "      <td>1816-1840</td>\n",
       "    </tr>\n",
       "    <tr>\n",
       "      <th>1</th>\n",
       "      <td>http://www.wikidata.org/entity/Q12315607</td>\n",
       "      <td>Hansine Andræ</td>\n",
       "      <td>F</td>\n",
       "      <td>Europe</td>\n",
       "      <td>1817</td>\n",
       "      <td>1816-1840</td>\n",
       "    </tr>\n",
       "    <tr>\n",
       "      <th>2</th>\n",
       "      <td>http://www.wikidata.org/entity/Q19403912</td>\n",
       "      <td>Mary Taylor (1817-1893)</td>\n",
       "      <td>F</td>\n",
       "      <td>Europe</td>\n",
       "      <td>1817</td>\n",
       "      <td>1816-1840</td>\n",
       "    </tr>\n",
       "  </tbody>\n",
       "</table>\n",
       "</div>"
      ],
      "text/plain": [
       "                                         pk                      nom gender  \\\n",
       "0   http://www.wikidata.org/entity/Q4962236         Fredrika Limnell      F   \n",
       "1  http://www.wikidata.org/entity/Q12315607            Hansine Andræ      F   \n",
       "2  http://www.wikidata.org/entity/Q19403912  Mary Taylor (1817-1893)      F   \n",
       "\n",
       "  zone_geo  annee_naissance   periodes  \n",
       "0   Europe             1816  1816-1840  \n",
       "1   Europe             1817  1816-1840  \n",
       "2   Europe             1817  1816-1840  "
      ]
     },
     "execution_count": 31,
     "metadata": {},
     "output_type": "execute_result"
    }
   ],
   "source": [
    "# On ajoute une nouvelle colonne qui contient la période sur la base de la liste précédente\n",
    "# et de la valeur de l'année\n",
    "\n",
    "data_cop['periodes'] = pd.cut(data_cop['annee_naissance'], l_25, right=False)\n",
    "\n",
    "### Transformer le code ajouté pour qu'il soit plus lisible\n",
    "# noter qu'on a arrondi les valeurs\n",
    "data_cop['periodes'] = data_cop['periodes'].apply(lambda x : str(int(x.left))+'-'+ str(int(x.right)-1))\n",
    "\n",
    "# Inspection\n",
    "data_cop.head(3)"
   ]
  },
  {
   "cell_type": "code",
   "execution_count": 32,
   "id": "d027c5bc-a71f-460f-a6a8-df02395a21a5",
   "metadata": {},
   "outputs": [
    {
     "data": {
      "text/plain": [
       "periodes\n",
       "1816-1840     138\n",
       "1841-1865     382\n",
       "1866-1890     492\n",
       "1891-1915     425\n",
       "1916-1940     961\n",
       "1941-1965    1892\n",
       "1966-1990    1599\n",
       "1991-2015     256\n",
       "dtype: int64"
      ]
     },
     "execution_count": 32,
     "metadata": {},
     "output_type": "execute_result"
    }
   ],
   "source": [
    "### compter les naissances par périodes de 25 ans\n",
    "data_cop.groupby(by='periodes', observed=True).size()"
   ]
  },
  {
   "cell_type": "code",
   "execution_count": 33,
   "id": "cba8a9dc-281e-49f5-9efc-1f3d038d6619",
   "metadata": {},
   "outputs": [
    {
     "data": {
      "image/png": "[encoded data removed]",
      "text/plain": [
       "<Figure size 600x400 with 1 Axes>"
      ]
     },
     "metadata": {},
     "output_type": "display_data"
    }
   ],
   "source": [
    "# Graphique qui démontre les effectifs par génération\n",
    "ax = data_cop.groupby(by='periodes', observed=True).size().plot(kind='bar',rot=60, fontsize=8, figsize=(6,4))\n",
    "plt.ylabel('Effectif')\n",
    "plt.xlabel('Périodes')\n",
    "plt.title('Naissances par périodes de cinquante ans')\n",
    "plt.show()"
   ]
  },
  {
   "cell_type": "markdown",
   "id": "0d43f878-00c7-44a1-a9d7-308693935c9c",
   "metadata": {},
   "source": [
    "## Distribution des origines géographiques par périodes"
   ]
  },
  {
   "cell_type": "code",
   "execution_count": 36,
   "id": "ede61675-ae12-4cee-ab5c-58ca4b408f2d",
   "metadata": {},
   "outputs": [
    {
     "name": "stderr",
     "output_type": "stream",
     "text": [
      "/var/folders/8b/5g0mv7wd0xs17dz5xzhfppjm0000gn/T/ipykernel_21131/343432698.py:5: FutureWarning: The default value of observed=False is deprecated and will change to observed=True in a future version of pandas. Specify observed=False to silence this warning and retain the current behavior\n",
      "  ddf = data_cop[[Y,X]].pivot_table(index=Y,columns=X,aggfunc=len,margins=True,margins_name=\"Total\").fillna(0).astype(int)\n"
     ]
    },
    {
     "data": {
      "text/html": [
       "<div>\n",
       "<style scoped>\n",
       "    .dataframe tbody tr th:only-of-type {\n",
       "        vertical-align: middle;\n",
       "    }\n",
       "\n",
       "    .dataframe tbody tr th {\n",
       "        vertical-align: top;\n",
       "    }\n",
       "\n",
       "    .dataframe thead th {\n",
       "        text-align: right;\n",
       "    }\n",
       "</style>\n",
       "<table border=\"1\" class=\"dataframe\">\n",
       "  <thead>\n",
       "    <tr style=\"text-align: right;\">\n",
       "      <th>periodes</th>\n",
       "      <th>1816-1840</th>\n",
       "      <th>1841-1865</th>\n",
       "      <th>1866-1890</th>\n",
       "      <th>1891-1915</th>\n",
       "      <th>1916-1940</th>\n",
       "      <th>1941-1965</th>\n",
       "      <th>1966-1990</th>\n",
       "      <th>1991-2015</th>\n",
       "      <th>Total</th>\n",
       "    </tr>\n",
       "    <tr>\n",
       "      <th>zone_geo</th>\n",
       "      <th></th>\n",
       "      <th></th>\n",
       "      <th></th>\n",
       "      <th></th>\n",
       "      <th></th>\n",
       "      <th></th>\n",
       "      <th></th>\n",
       "      <th></th>\n",
       "      <th></th>\n",
       "    </tr>\n",
       "  </thead>\n",
       "  <tbody>\n",
       "    <tr>\n",
       "      <th>Afrique</th>\n",
       "      <td>0</td>\n",
       "      <td>2</td>\n",
       "      <td>1</td>\n",
       "      <td>20</td>\n",
       "      <td>71</td>\n",
       "      <td>188</td>\n",
       "      <td>182</td>\n",
       "      <td>46</td>\n",
       "      <td>510</td>\n",
       "    </tr>\n",
       "    <tr>\n",
       "      <th>Amérique du nord</th>\n",
       "      <td>27</td>\n",
       "      <td>27</td>\n",
       "      <td>57</td>\n",
       "      <td>71</td>\n",
       "      <td>250</td>\n",
       "      <td>401</td>\n",
       "      <td>231</td>\n",
       "      <td>29</td>\n",
       "      <td>1093</td>\n",
       "    </tr>\n",
       "    <tr>\n",
       "      <th>Amérique du sud</th>\n",
       "      <td>4</td>\n",
       "      <td>9</td>\n",
       "      <td>29</td>\n",
       "      <td>70</td>\n",
       "      <td>117</td>\n",
       "      <td>257</td>\n",
       "      <td>230</td>\n",
       "      <td>35</td>\n",
       "      <td>751</td>\n",
       "    </tr>\n",
       "    <tr>\n",
       "      <th>Asie</th>\n",
       "      <td>1</td>\n",
       "      <td>10</td>\n",
       "      <td>28</td>\n",
       "      <td>56</td>\n",
       "      <td>114</td>\n",
       "      <td>335</td>\n",
       "      <td>394</td>\n",
       "      <td>62</td>\n",
       "      <td>1000</td>\n",
       "    </tr>\n",
       "    <tr>\n",
       "      <th>Europe</th>\n",
       "      <td>101</td>\n",
       "      <td>320</td>\n",
       "      <td>358</td>\n",
       "      <td>194</td>\n",
       "      <td>377</td>\n",
       "      <td>654</td>\n",
       "      <td>544</td>\n",
       "      <td>80</td>\n",
       "      <td>2628</td>\n",
       "    </tr>\n",
       "    <tr>\n",
       "      <th>Océanie</th>\n",
       "      <td>5</td>\n",
       "      <td>14</td>\n",
       "      <td>19</td>\n",
       "      <td>14</td>\n",
       "      <td>32</td>\n",
       "      <td>57</td>\n",
       "      <td>18</td>\n",
       "      <td>4</td>\n",
       "      <td>163</td>\n",
       "    </tr>\n",
       "    <tr>\n",
       "      <th>Total</th>\n",
       "      <td>138</td>\n",
       "      <td>382</td>\n",
       "      <td>492</td>\n",
       "      <td>425</td>\n",
       "      <td>961</td>\n",
       "      <td>1892</td>\n",
       "      <td>1599</td>\n",
       "      <td>256</td>\n",
       "      <td>6145</td>\n",
       "    </tr>\n",
       "  </tbody>\n",
       "</table>\n",
       "</div>"
      ],
      "text/plain": [
       "periodes          1816-1840  1841-1865  1866-1890  1891-1915  1916-1940  \\\n",
       "zone_geo                                                                  \n",
       "Afrique                   0          2          1         20         71   \n",
       "Amérique du nord         27         27         57         71        250   \n",
       "Amérique du sud           4          9         29         70        117   \n",
       "Asie                      1         10         28         56        114   \n",
       "Europe                  101        320        358        194        377   \n",
       "Océanie                   5         14         19         14         32   \n",
       "Total                   138        382        492        425        961   \n",
       "\n",
       "periodes          1941-1965  1966-1990  1991-2015  Total  \n",
       "zone_geo                                                  \n",
       "Afrique                 188        182         46    510  \n",
       "Amérique du nord        401        231         29   1093  \n",
       "Amérique du sud         257        230         35    751  \n",
       "Asie                    335        394         62   1000  \n",
       "Europe                  654        544         80   2628  \n",
       "Océanie                  57         18          4    163  \n",
       "Total                  1892       1599        256   6145  "
      ]
     },
     "execution_count": 36,
     "metadata": {},
     "output_type": "execute_result"
    }
   ],
   "source": [
    "### Tableau de contingence\n",
    "X = \"periodes\"  # \"0\"\n",
    "Y = \"zone_geo\"\n",
    "\n",
    "ddf = data_cop[[Y,X]].pivot_table(index=Y,columns=X,aggfunc=len,margins=True,margins_name=\"Total\").fillna(0).astype(int)\n",
    "ddf"
   ]
  },
  {
   "cell_type": "code",
   "execution_count": 46,
   "id": "5f689ea2-070f-4681-a722-129dfa019f45",
   "metadata": {},
   "outputs": [
    {
     "name": "stdout",
     "output_type": "stream",
     "text": [
      "Dimensions: ( 7 , 9 ), effectif: 24580 , nombre max. facteurs: 6\n"
     ]
    }
   ],
   "source": [
    "## Nombre de modalités ligne\n",
    "K = ddf.shape[0]\n",
    "## Nombre de modalités colonnes\n",
    "L = ddf.shape[1]\n",
    "# Effectif total\n",
    "n = np.sum(ddf.values)\n",
    "# Nombre max. de facteur\n",
    "Hmax = np.min([K-1,L-1])\n",
    "\n",
    "print('Dimensions: (', K, ',', L, '), effectif:', n, ', nombre max. facteurs:', Hmax)"
   ]
  },
  {
   "cell_type": "code",
   "execution_count": 47,
   "id": "eb44f6e2-a246-40e0-a3bf-4aa0295e9c78",
   "metadata": {},
   "outputs": [
    {
     "name": "stdout",
     "output_type": "stream",
     "text": [
      "Chi2 : 881.6680131510063 , dof : 48\n",
      "p-value : 9.49009402104545e-154\n",
      "phi2 = inertie (variance totale) : 0.035869325189219134\n",
      "Cramer:  0.07731895540467328\n"
     ]
    }
   ],
   "source": [
    "### Valeurs produites par la fonction de la librairie 'stats'\n",
    "statistic, p, dof, expected = stats.chi2_contingency(ddf)\n",
    "\n",
    "print('Chi2 :', statistic, ', dof :',dof)\n",
    "print('p-value :', p)\n",
    "\n",
    "\n",
    "print('phi2 = inertie (variance totale) :', statistic/n)\n",
    "\n",
    "\n",
    "### Tableau à l'indépendance\n",
    "dff = round(pd.DataFrame(expected),4)\n",
    "\n",
    "### Coéfficient de Cramer\n",
    "# https://docs.scipy.org/doc/scipy/reference/generated/scipy.stats.contingency.association.html\n",
    "\n",
    "vc = stats.contingency.association(ddf, method='cramer')\n",
    "print('Cramer: ', vc)"
   ]
  },
  {
   "cell_type": "code",
   "execution_count": 52,
   "id": "15e3620e-b26e-4f14-9b2e-e2075955dfbd",
   "metadata": {},
   "outputs": [
    {
     "ename": "NameError",
     "evalue": "name 'CA' is not defined",
     "output_type": "error",
     "traceback": [
      "\u001b[0;31m---------------------------------------------------------------------------\u001b[0m",
      "\u001b[0;31mNameError\u001b[0m                                 Traceback (most recent call last)",
      "Cell \u001b[0;32mIn[52], line 2\u001b[0m\n\u001b[1;32m      1\u001b[0m \u001b[38;5;66;03m## je ne comprends pas ce que c'est ce CA ?\u001b[39;00m\n\u001b[0;32m----> 2\u001b[0m afc \u001b[38;5;241m=\u001b[39m \u001b[43mCA\u001b[49m(row_labels\u001b[38;5;241m=\u001b[39mddf\u001b[38;5;241m.\u001b[39mindex,col_labels\u001b[38;5;241m=\u001b[39mddf\u001b[38;5;241m.\u001b[39mcolumns)\n\u001b[1;32m      3\u001b[0m afc\u001b[38;5;241m.\u001b[39mfit(ddf\u001b[38;5;241m.\u001b[39mvalues)\n",
      "\u001b[0;31mNameError\u001b[0m: name 'CA' is not defined"
     ]
    }
   ],
   "source": [
    "## je ne comprends pas ce que c'est ce CA ?\n",
    "afc = CA(row_labels=ddf.index,col_labels=ddf.columns)\n",
    "afc.fit(ddf.values)"
   ]
  },
  {
   "cell_type": "code",
   "execution_count": 43,
   "id": "7100d0fc-a5e2-4dde-81b6-d08be1985d31",
   "metadata": {},
   "outputs": [
    {
     "ename": "NameError",
     "evalue": "name 'afc' is not defined",
     "output_type": "error",
     "traceback": [
      "\u001b[0;31m---------------------------------------------------------------------------\u001b[0m",
      "\u001b[0;31mNameError\u001b[0m                                 Traceback (most recent call last)",
      "Cell \u001b[0;32mIn[43], line 1\u001b[0m\n\u001b[0;32m----> 1\u001b[0m eig \u001b[38;5;241m=\u001b[39m pd\u001b[38;5;241m.\u001b[39mDataFrame(\u001b[43mafc\u001b[49m\u001b[38;5;241m.\u001b[39meig_)\n\u001b[1;32m      3\u001b[0m r1 \u001b[38;5;241m=\u001b[39m \u001b[38;5;28mround\u001b[39m(eig\u001b[38;5;241m.\u001b[39miloc[\u001b[38;5;241m0\u001b[39m], \u001b[38;5;241m3\u001b[39m)\n\u001b[1;32m      4\u001b[0m r2 \u001b[38;5;241m=\u001b[39m \u001b[38;5;28mround\u001b[39m(eig\u001b[38;5;241m.\u001b[39miloc[\u001b[38;5;241m2\u001b[39m], \u001b[38;5;241m2\u001b[39m)\n",
      "\u001b[0;31mNameError\u001b[0m: name 'afc' is not defined"
     ]
    }
   ],
   "source": [
    "eig = pd.DataFrame(afc.eig_)\n",
    "\n",
    "r1 = round(eig.iloc[0], 3)\n",
    "r2 = round(eig.iloc[2], 2)\n",
    "s=list(range(1,len(r1)+1))\n",
    "r1.index=s\n",
    "r2.index=s\n",
    "\n",
    "# https://www.statology.org/pandas-subplots/\n",
    "fig, axes = plt.subplots(nrows=1, ncols=2, figsize=(12,3))\n",
    "\n",
    "ax1 = r1.plot(kind='bar', ax=axes[0], title='Eigenvalue des axes')\n",
    "ax2 = r2.plot(kind='bar', ax=axes[1], title=\"Frequence cumulative de l'eigenvalue \")\n",
    "\n",
    "\n",
    "ax1.bar_label(ax1.containers[0])\n",
    "ax2.bar_label(ax2.containers[0])\n",
    "\n",
    "\n",
    "# Met les valeurs xticks en vertical\n",
    "fig.autofmt_xdate(rotation=0)\n",
    "plt.show()"
   ]
  },
  {
   "cell_type": "code",
   "execution_count": 51,
   "id": "e5459d42-e307-4d90-8fab-5e474609d50f",
   "metadata": {},
   "outputs": [
    {
     "ename": "NameError",
     "evalue": "name 'dfe' is not defined",
     "output_type": "error",
     "traceback": [
      "\u001b[0;31m---------------------------------------------------------------------------\u001b[0m",
      "\u001b[0;31mNameError\u001b[0m                                 Traceback (most recent call last)",
      "Cell \u001b[0;32mIn[51], line 1\u001b[0m\n\u001b[0;32m----> 1\u001b[0m residus_ponderes \u001b[38;5;241m=\u001b[39m (\u001b[38;5;28mround\u001b[39m((ddf\u001b[38;5;241m.\u001b[39mvalues\u001b[38;5;241m-\u001b[39m\u001b[43mdfe\u001b[49m)\u001b[38;5;241m/\u001b[39mnp\u001b[38;5;241m.\u001b[39msqrt(dfe),\u001b[38;5;241m2\u001b[39m))\n\u001b[1;32m      2\u001b[0m residus_ponderes\u001b[38;5;241m.\u001b[39mcolumns\u001b[38;5;241m=\u001b[39m ddf\u001b[38;5;241m.\u001b[39mcolumns\n\u001b[1;32m      3\u001b[0m residus_ponderes\u001b[38;5;241m.\u001b[39mindex\u001b[38;5;241m=\u001b[39mddf\u001b[38;5;241m.\u001b[39mindex\n",
      "\u001b[0;31mNameError\u001b[0m: name 'dfe' is not defined"
     ]
    }
   ],
   "source": [
    "residus_ponderes = (round((ddf.values-dfe)/np.sqrt(dfe),2))\n",
    "residus_ponderes.columns= ddf.columns\n",
    "residus_ponderes.index=ddf.index\n",
    "\n",
    "\n",
    "fig, ax = plt.subplots(figsize=(6,4))         \n",
    "# Sample figsize in inches\n",
    "g = sns.heatmap(residus_ponderes, annot=residus_ponderes, cmap=\"coolwarm\", linewidths=.5, ax=ax)\n",
    "labelsx = residus_ponderes.columns\n",
    "labelsy = residus_ponderes.index\n",
    "xt = g.set_xticklabels(labelsx, rotation=45, fontsize=8)\n",
    "yt = g.set_yticklabels(labelsy, rotation=45, fontsize=8)\n",
    "\n",
    "plt.savefig('images/mod_periode_aire_resid_ponderes.jpg', bbox_inches='tight')\n",
    "plt.show()"
   ]
  },
  {
   "cell_type": "code",
   "execution_count": null,
   "id": "e20c21d0-4071-4fd6-9fdd-da0585e695ef",
   "metadata": {},
   "outputs": [],
   "source": []
  }
 ],
 "metadata": {
  "kernelspec": {
   "display_name": "py311_data_analysis",
   "language": "python",
   "name": "py311_data_analysis"
  },
  "language_info": {
   "codemirror_mode": {
    "name": "ipython",
    "version": 3
   },
   "file_extension": ".py",
   "mimetype": "text/x-python",
   "name": "python",
   "nbconvert_exporter": "python",
   "pygments_lexer": "ipython3",
   "version": "3.11.8"
  }
 },
 "nbformat": 4,
 "nbformat_minor": 5
}
