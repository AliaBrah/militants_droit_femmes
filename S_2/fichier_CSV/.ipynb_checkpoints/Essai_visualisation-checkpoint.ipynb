{
 "cells": [
  {
   "cell_type": "markdown",
   "id": "f424d9fa-a2ca-43d1-9aec-241f290c24a2",
   "metadata": {},
   "source": [
    "# Essai visualisation graphique des donnees"
   ]
  },
  {
   "cell_type": "code",
   "execution_count": 26,
   "id": "16464641-92ce-495e-91e0-9597fbd537ba",
   "metadata": {},
   "outputs": [],
   "source": [
    "import numpy as np\n",
    "import matplotlib.pyplot as plt\n",
    "import pandas as pd\n",
    "# Importation du fichier csv qui se trouve dans le même dossier que le notebook\n",
    "data = pd.read_csv(\"personne_wiki_import.csv\")"
   ]
  },
  {
   "cell_type": "code",
   "execution_count": 3,
   "id": "26f17ef3-5f7f-42ee-b6cf-0d18017822c6",
   "metadata": {},
   "outputs": [
    {
     "data": {
      "text/html": [
       "<div>\n",
       "<style scoped>\n",
       "    .dataframe tbody tr th:only-of-type {\n",
       "        vertical-align: middle;\n",
       "    }\n",
       "\n",
       "    .dataframe tbody tr th {\n",
       "        vertical-align: top;\n",
       "    }\n",
       "\n",
       "    .dataframe thead th {\n",
       "        text-align: right;\n",
       "    }\n",
       "</style>\n",
       "<table border=\"1\" class=\"dataframe\">\n",
       "  <thead>\n",
       "    <tr style=\"text-align: right;\">\n",
       "      <th></th>\n",
       "      <th>item</th>\n",
       "      <th>itemLabel</th>\n",
       "      <th>year</th>\n",
       "      <th>genreLabel</th>\n",
       "    </tr>\n",
       "  </thead>\n",
       "  <tbody>\n",
       "    <tr>\n",
       "      <th>0</th>\n",
       "      <td>http://www.wikidata.org/entity/Q4962236</td>\n",
       "      <td>Fredrika Limnell</td>\n",
       "      <td>1816</td>\n",
       "      <td>female</td>\n",
       "    </tr>\n",
       "    <tr>\n",
       "      <th>1</th>\n",
       "      <td>http://www.wikidata.org/entity/Q20980160</td>\n",
       "      <td>Emma Isler</td>\n",
       "      <td>1816</td>\n",
       "      <td>female</td>\n",
       "    </tr>\n",
       "    <tr>\n",
       "      <th>2</th>\n",
       "      <td>http://www.wikidata.org/entity/Q94772529</td>\n",
       "      <td>Amalie Krüger</td>\n",
       "      <td>1816</td>\n",
       "      <td>female</td>\n",
       "    </tr>\n",
       "    <tr>\n",
       "      <th>3</th>\n",
       "      <td>http://www.wikidata.org/entity/Q255221</td>\n",
       "      <td>Táhirih</td>\n",
       "      <td>1817</td>\n",
       "      <td>female</td>\n",
       "    </tr>\n",
       "    <tr>\n",
       "      <th>4</th>\n",
       "      <td>http://www.wikidata.org/entity/Q43302262</td>\n",
       "      <td>Violante Atabalipa Ximenes de Bivar e Vellasco</td>\n",
       "      <td>1817</td>\n",
       "      <td>female</td>\n",
       "    </tr>\n",
       "    <tr>\n",
       "      <th>...</th>\n",
       "      <td>...</td>\n",
       "      <td>...</td>\n",
       "      <td>...</td>\n",
       "      <td>...</td>\n",
       "    </tr>\n",
       "    <tr>\n",
       "      <th>2506</th>\n",
       "      <td>http://www.wikidata.org/entity/Q116142444</td>\n",
       "      <td>Lamya Ben Malek</td>\n",
       "      <td>1998</td>\n",
       "      <td>female</td>\n",
       "    </tr>\n",
       "    <tr>\n",
       "      <th>2507</th>\n",
       "      <td>http://www.wikidata.org/entity/Q120500674</td>\n",
       "      <td>Kamila Gołdyka</td>\n",
       "      <td>1998</td>\n",
       "      <td>female</td>\n",
       "    </tr>\n",
       "    <tr>\n",
       "      <th>2508</th>\n",
       "      <td>http://www.wikidata.org/entity/Q59513631</td>\n",
       "      <td>Cecilie Martinessen</td>\n",
       "      <td>1998</td>\n",
       "      <td>female</td>\n",
       "    </tr>\n",
       "    <tr>\n",
       "      <th>2509</th>\n",
       "      <td>http://www.wikidata.org/entity/Q71330636</td>\n",
       "      <td>Saba Kord Afshari</td>\n",
       "      <td>1998</td>\n",
       "      <td>female</td>\n",
       "    </tr>\n",
       "    <tr>\n",
       "      <th>2510</th>\n",
       "      <td>http://www.wikidata.org/entity/Q102282163</td>\n",
       "      <td>Nadeen Ashraf</td>\n",
       "      <td>1998</td>\n",
       "      <td>female</td>\n",
       "    </tr>\n",
       "  </tbody>\n",
       "</table>\n",
       "<p>2511 rows × 4 columns</p>\n",
       "</div>"
      ],
      "text/plain": [
       "                                           item  \\\n",
       "0       http://www.wikidata.org/entity/Q4962236   \n",
       "1      http://www.wikidata.org/entity/Q20980160   \n",
       "2      http://www.wikidata.org/entity/Q94772529   \n",
       "3        http://www.wikidata.org/entity/Q255221   \n",
       "4      http://www.wikidata.org/entity/Q43302262   \n",
       "...                                         ...   \n",
       "2506  http://www.wikidata.org/entity/Q116142444   \n",
       "2507  http://www.wikidata.org/entity/Q120500674   \n",
       "2508   http://www.wikidata.org/entity/Q59513631   \n",
       "2509   http://www.wikidata.org/entity/Q71330636   \n",
       "2510  http://www.wikidata.org/entity/Q102282163   \n",
       "\n",
       "                                           itemLabel  year genreLabel  \n",
       "0                                   Fredrika Limnell  1816     female  \n",
       "1                                         Emma Isler  1816     female  \n",
       "2                                      Amalie Krüger  1816     female  \n",
       "3                                            Táhirih  1817     female  \n",
       "4     Violante Atabalipa Ximenes de Bivar e Vellasco  1817     female  \n",
       "...                                              ...   ...        ...  \n",
       "2506                                 Lamya Ben Malek  1998     female  \n",
       "2507                                  Kamila Gołdyka  1998     female  \n",
       "2508                             Cecilie Martinessen  1998     female  \n",
       "2509                               Saba Kord Afshari  1998     female  \n",
       "2510                                   Nadeen Ashraf  1998     female  \n",
       "\n",
       "[2511 rows x 4 columns]"
      ]
     },
     "metadata": {},
     "output_type": "display_data"
    }
   ],
   "source": [
    "display(data)"
   ]
  },
  {
   "cell_type": "markdown",
   "id": "6ef0d476-80bd-4e53-9737-5e18a5f0324c",
   "metadata": {},
   "source": [
    "# Premier graphique sur l'année de naissance et le nombre de personnes\n"
   ]
  },
  {
   "cell_type": "code",
   "execution_count": 5,
   "id": "6314061a-8342-419a-a5c2-d113819de3f9",
   "metadata": {},
   "outputs": [
    {
     "name": "stdout",
     "output_type": "stream",
     "text": [
      "<class 'pandas.core.series.Series'>\n",
      "RangeIndex: 2511 entries, 0 to 2510\n",
      "Series name: year\n",
      "Non-Null Count  Dtype\n",
      "--------------  -----\n",
      "2511 non-null   int64\n",
      "dtypes: int64(1)\n",
      "memory usage: 19.7 KB\n"
     ]
    }
   ],
   "source": [
    "# l'année de naissance est déjà de type int donc pas besoin de changer quel type de données c'est\n",
    "data[\"year\"].info()"
   ]
  },
  {
   "cell_type": "code",
   "execution_count": 4,
   "id": "e4b7fb80-8a67-4685-ae3d-ac3eba8403cc",
   "metadata": {},
   "outputs": [
    {
     "data": {
      "text/plain": [
       "item          object\n",
       "itemLabel     object\n",
       "year           int64\n",
       "genreLabel    object\n",
       "dtype: object"
      ]
     },
     "execution_count": 4,
     "metadata": {},
     "output_type": "execute_result"
    }
   ],
   "source": [
    "data.dtypes"
   ]
  },
  {
   "cell_type": "code",
   "execution_count": 10,
   "id": "c5114cb2-e375-47b8-9671-5f4aaa65c052",
   "metadata": {},
   "outputs": [
    {
     "data": {
      "text/plain": [
       "2511"
      ]
     },
     "execution_count": 10,
     "metadata": {},
     "output_type": "execute_result"
    }
   ],
   "source": [
    "data[\"year\"].count()\n"
   ]
  },
  {
   "cell_type": "code",
   "execution_count": 13,
   "id": "7cf1dc4f-6214-4f9a-9165-a234350ccd0e",
   "metadata": {},
   "outputs": [
    {
     "data": {
      "text/html": [
       "<div>\n",
       "<style scoped>\n",
       "    .dataframe tbody tr th:only-of-type {\n",
       "        vertical-align: middle;\n",
       "    }\n",
       "\n",
       "    .dataframe tbody tr th {\n",
       "        vertical-align: top;\n",
       "    }\n",
       "\n",
       "    .dataframe thead th {\n",
       "        text-align: right;\n",
       "    }\n",
       "</style>\n",
       "<table border=\"1\" class=\"dataframe\">\n",
       "  <thead>\n",
       "    <tr style=\"text-align: right;\">\n",
       "      <th></th>\n",
       "      <th>year</th>\n",
       "      <th>effectif</th>\n",
       "    </tr>\n",
       "  </thead>\n",
       "  <tbody>\n",
       "    <tr>\n",
       "      <th>0</th>\n",
       "      <td>1816</td>\n",
       "      <td>3</td>\n",
       "    </tr>\n",
       "    <tr>\n",
       "      <th>1</th>\n",
       "      <td>1817</td>\n",
       "      <td>4</td>\n",
       "    </tr>\n",
       "    <tr>\n",
       "      <th>2</th>\n",
       "      <td>1818</td>\n",
       "      <td>4</td>\n",
       "    </tr>\n",
       "    <tr>\n",
       "      <th>3</th>\n",
       "      <td>1819</td>\n",
       "      <td>5</td>\n",
       "    </tr>\n",
       "    <tr>\n",
       "      <th>4</th>\n",
       "      <td>1820</td>\n",
       "      <td>4</td>\n",
       "    </tr>\n",
       "    <tr>\n",
       "      <th>...</th>\n",
       "      <td>...</td>\n",
       "      <td>...</td>\n",
       "    </tr>\n",
       "    <tr>\n",
       "      <th>178</th>\n",
       "      <td>1994</td>\n",
       "      <td>8</td>\n",
       "    </tr>\n",
       "    <tr>\n",
       "      <th>179</th>\n",
       "      <td>1995</td>\n",
       "      <td>5</td>\n",
       "    </tr>\n",
       "    <tr>\n",
       "      <th>180</th>\n",
       "      <td>1996</td>\n",
       "      <td>6</td>\n",
       "    </tr>\n",
       "    <tr>\n",
       "      <th>181</th>\n",
       "      <td>1997</td>\n",
       "      <td>7</td>\n",
       "    </tr>\n",
       "    <tr>\n",
       "      <th>182</th>\n",
       "      <td>1998</td>\n",
       "      <td>5</td>\n",
       "    </tr>\n",
       "  </tbody>\n",
       "</table>\n",
       "<p>183 rows × 2 columns</p>\n",
       "</div>"
      ],
      "text/plain": [
       "     year  effectif\n",
       "0    1816         3\n",
       "1    1817         4\n",
       "2    1818         4\n",
       "3    1819         5\n",
       "4    1820         4\n",
       "..    ...       ...\n",
       "178  1994         8\n",
       "179  1995         5\n",
       "180  1996         6\n",
       "181  1997         7\n",
       "182  1998         5\n",
       "\n",
       "[183 rows x 2 columns]"
      ]
     },
     "execution_count": 13,
     "metadata": {},
     "output_type": "execute_result"
    }
   ],
   "source": [
    "annee_eff= pd.DataFrame(data[data['year'] < 2001].groupby('year').size())\\\n",
    "                .reset_index(drop=False)\n",
    "annee_eff.columns=['year','effectif']\n",
    "annee_eff"
   ]
  },
  {
   "cell_type": "code",
   "execution_count": 25,
   "id": "e7eec9df-aa4a-45b3-9432-c435ef6e46de",
   "metadata": {},
   "outputs": [
    {
     "data": {
      "image/png": "[encoded data removed]",
      "text/plain": [
       "<Figure size 1600x800 with 1 Axes>"
      ]
     },
     "metadata": {},
     "output_type": "display_data"
    }
   ],
   "source": [
    "# Premier graphique\n",
    "graph1 = annee_eff.plot(x=\"year\", y=\"effectif\", kind= \"bar\",rot=60, fontsize=10, figsize=(16,8))\n",
    "\n",
    "\n",
    "max_xticks = 10\n",
    "xloc = plt.MaxNLocator(max_xticks)\n",
    "graph1.xaxis.set_major_locator(xloc)\n",
    "\n",
    "plt.ylabel('Effectif')\n",
    "plt.xlabel('Année de naissance')\n",
    "plt.title(\"Nombre de militant.e.s pour le droit des femmes par années de naissance\")\n",
    "plt.show()"
   ]
  },
  {
   "cell_type": "code",
   "execution_count": null,
   "id": "56fe3b64-afc5-4b22-a0a1-b09bcc25c700",
   "metadata": {},
   "outputs": [],
   "source": []
  }
 ],
 "metadata": {
  "kernelspec": {
   "display_name": "py311_data_analysis",
   "language": "python",
   "name": "py311_data_analysis"
  },
  "language_info": {
   "codemirror_mode": {
    "name": "ipython",
    "version": 3
   },
   "file_extension": ".py",
   "mimetype": "text/x-python",
   "name": "python",
   "nbconvert_exporter": "python",
   "pygments_lexer": "ipython3",
   "version": "3.11.8"
  }
 },
 "nbformat": 4,
 "nbformat_minor": 5
}
