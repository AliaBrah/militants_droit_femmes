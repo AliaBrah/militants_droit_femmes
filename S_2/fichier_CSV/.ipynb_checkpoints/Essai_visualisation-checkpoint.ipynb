{
 "cells": [
  {
   "cell_type": "markdown",
   "id": "f424d9fa-a2ca-43d1-9aec-241f290c24a2",
   "metadata": {},
   "source": [
    "# Distribution des naissances das le temps\n",
    "Dans ce carnet est proposée une analyse de la dstribution dans le temps des années de naissance des militant.es et la mise en évidence de générations.\n",
    "De plus, la proportion des genres dans l'implciation militante sera aussi mise en évidence."
   ]
  },
  {
   "cell_type": "code",
   "execution_count": 1,
   "id": "16464641-92ce-495e-91e0-9597fbd537ba",
   "metadata": {},
   "outputs": [],
   "source": [
    "import numpy as np\n",
    "import matplotlib.pyplot as plt\n",
    "import pandas as pd\n",
    "# Importation du fichier csv qui se trouve dans le même dossier que le notebook\n",
    "data = pd.read_csv(\"personne_wiki_import.csv\")"
   ]
  },
  {
   "cell_type": "code",
   "execution_count": 3,
   "id": "26f17ef3-5f7f-42ee-b6cf-0d18017822c6",
   "metadata": {},
   "outputs": [
    {
     "data": {
      "text/html": [
       "<div>\n",
       "<style scoped>\n",
       "    .dataframe tbody tr th:only-of-type {\n",
       "        vertical-align: middle;\n",
       "    }\n",
       "\n",
       "    .dataframe tbody tr th {\n",
       "        vertical-align: top;\n",
       "    }\n",
       "\n",
       "    .dataframe thead th {\n",
       "        text-align: right;\n",
       "    }\n",
       "</style>\n",
       "<table border=\"1\" class=\"dataframe\">\n",
       "  <thead>\n",
       "    <tr style=\"text-align: right;\">\n",
       "      <th></th>\n",
       "      <th>item</th>\n",
       "      <th>itemLabel</th>\n",
       "      <th>year</th>\n",
       "      <th>genre</th>\n",
       "      <th>genreLabel</th>\n",
       "    </tr>\n",
       "  </thead>\n",
       "  <tbody>\n",
       "    <tr>\n",
       "      <th>0</th>\n",
       "      <td>http://www.wikidata.org/entity/Q4962236</td>\n",
       "      <td>Fredrika Limnell</td>\n",
       "      <td>1816</td>\n",
       "      <td>http://www.wikidata.org/entity/Q6581072</td>\n",
       "      <td>female</td>\n",
       "    </tr>\n",
       "    <tr>\n",
       "      <th>1</th>\n",
       "      <td>http://www.wikidata.org/entity/Q20980160</td>\n",
       "      <td>Emma Isler</td>\n",
       "      <td>1816</td>\n",
       "      <td>http://www.wikidata.org/entity/Q6581072</td>\n",
       "      <td>female</td>\n",
       "    </tr>\n",
       "    <tr>\n",
       "      <th>2</th>\n",
       "      <td>http://www.wikidata.org/entity/Q94772529</td>\n",
       "      <td>Amalie Krüger</td>\n",
       "      <td>1816</td>\n",
       "      <td>http://www.wikidata.org/entity/Q6581072</td>\n",
       "      <td>female</td>\n",
       "    </tr>\n",
       "    <tr>\n",
       "      <th>3</th>\n",
       "      <td>http://www.wikidata.org/entity/Q255221</td>\n",
       "      <td>Táhirih</td>\n",
       "      <td>1817</td>\n",
       "      <td>http://www.wikidata.org/entity/Q6581072</td>\n",
       "      <td>female</td>\n",
       "    </tr>\n",
       "    <tr>\n",
       "      <th>4</th>\n",
       "      <td>http://www.wikidata.org/entity/Q43302262</td>\n",
       "      <td>Violante Atabalipa Ximenes de Bivar e Vellasco</td>\n",
       "      <td>1817</td>\n",
       "      <td>http://www.wikidata.org/entity/Q6581072</td>\n",
       "      <td>female</td>\n",
       "    </tr>\n",
       "    <tr>\n",
       "      <th>...</th>\n",
       "      <td>...</td>\n",
       "      <td>...</td>\n",
       "      <td>...</td>\n",
       "      <td>...</td>\n",
       "      <td>...</td>\n",
       "    </tr>\n",
       "    <tr>\n",
       "      <th>6912</th>\n",
       "      <td>http://www.wikidata.org/entity/Q110101013</td>\n",
       "      <td>Melanie Berentz</td>\n",
       "      <td>1999</td>\n",
       "      <td>http://www.wikidata.org/entity/Q6581072</td>\n",
       "      <td>female</td>\n",
       "    </tr>\n",
       "    <tr>\n",
       "      <th>6913</th>\n",
       "      <td>http://www.wikidata.org/entity/Q61997527</td>\n",
       "      <td>Frederika Alexis Cull</td>\n",
       "      <td>1999</td>\n",
       "      <td>http://www.wikidata.org/entity/Q6581072</td>\n",
       "      <td>female</td>\n",
       "    </tr>\n",
       "    <tr>\n",
       "      <th>6914</th>\n",
       "      <td>http://www.wikidata.org/entity/Q64748736</td>\n",
       "      <td>Malak al-Kashif</td>\n",
       "      <td>1999</td>\n",
       "      <td>http://www.wikidata.org/entity/Q1052281</td>\n",
       "      <td>trans woman</td>\n",
       "    </tr>\n",
       "    <tr>\n",
       "      <th>6915</th>\n",
       "      <td>http://www.wikidata.org/entity/Q107037238</td>\n",
       "      <td>Zhiar Ali</td>\n",
       "      <td>1999</td>\n",
       "      <td>http://www.wikidata.org/entity/Q6581097</td>\n",
       "      <td>male</td>\n",
       "    </tr>\n",
       "    <tr>\n",
       "      <th>6916</th>\n",
       "      <td>http://www.wikidata.org/entity/Q22809921</td>\n",
       "      <td>Muzoon Almellehan</td>\n",
       "      <td>1999</td>\n",
       "      <td>http://www.wikidata.org/entity/Q6581072</td>\n",
       "      <td>female</td>\n",
       "    </tr>\n",
       "  </tbody>\n",
       "</table>\n",
       "<p>6917 rows × 5 columns</p>\n",
       "</div>"
      ],
      "text/plain": [
       "                                           item  \\\n",
       "0       http://www.wikidata.org/entity/Q4962236   \n",
       "1      http://www.wikidata.org/entity/Q20980160   \n",
       "2      http://www.wikidata.org/entity/Q94772529   \n",
       "3        http://www.wikidata.org/entity/Q255221   \n",
       "4      http://www.wikidata.org/entity/Q43302262   \n",
       "...                                         ...   \n",
       "6912  http://www.wikidata.org/entity/Q110101013   \n",
       "6913   http://www.wikidata.org/entity/Q61997527   \n",
       "6914   http://www.wikidata.org/entity/Q64748736   \n",
       "6915  http://www.wikidata.org/entity/Q107037238   \n",
       "6916   http://www.wikidata.org/entity/Q22809921   \n",
       "\n",
       "                                           itemLabel  year  \\\n",
       "0                                   Fredrika Limnell  1816   \n",
       "1                                         Emma Isler  1816   \n",
       "2                                      Amalie Krüger  1816   \n",
       "3                                            Táhirih  1817   \n",
       "4     Violante Atabalipa Ximenes de Bivar e Vellasco  1817   \n",
       "...                                              ...   ...   \n",
       "6912                                 Melanie Berentz  1999   \n",
       "6913                           Frederika Alexis Cull  1999   \n",
       "6914                                 Malak al-Kashif  1999   \n",
       "6915                                       Zhiar Ali  1999   \n",
       "6916                               Muzoon Almellehan  1999   \n",
       "\n",
       "                                        genre   genreLabel  \n",
       "0     http://www.wikidata.org/entity/Q6581072       female  \n",
       "1     http://www.wikidata.org/entity/Q6581072       female  \n",
       "2     http://www.wikidata.org/entity/Q6581072       female  \n",
       "3     http://www.wikidata.org/entity/Q6581072       female  \n",
       "4     http://www.wikidata.org/entity/Q6581072       female  \n",
       "...                                       ...          ...  \n",
       "6912  http://www.wikidata.org/entity/Q6581072       female  \n",
       "6913  http://www.wikidata.org/entity/Q6581072       female  \n",
       "6914  http://www.wikidata.org/entity/Q1052281  trans woman  \n",
       "6915  http://www.wikidata.org/entity/Q6581097         male  \n",
       "6916  http://www.wikidata.org/entity/Q6581072       female  \n",
       "\n",
       "[6917 rows x 5 columns]"
      ]
     },
     "metadata": {},
     "output_type": "display_data"
    }
   ],
   "source": [
    "display(data)"
   ]
  },
  {
   "cell_type": "markdown",
   "id": "6ef0d476-80bd-4e53-9737-5e18a5f0324c",
   "metadata": {},
   "source": [
    "# Premier graphique sur l'année de naissance et le nombre de personnes\n"
   ]
  },
  {
   "cell_type": "code",
   "execution_count": 5,
   "id": "6314061a-8342-419a-a5c2-d113819de3f9",
   "metadata": {},
   "outputs": [
    {
     "name": "stdout",
     "output_type": "stream",
     "text": [
      "<class 'pandas.core.series.Series'>\n",
      "RangeIndex: 6917 entries, 0 to 6916\n",
      "Series name: year\n",
      "Non-Null Count  Dtype\n",
      "--------------  -----\n",
      "6917 non-null   int64\n",
      "dtypes: int64(1)\n",
      "memory usage: 54.2 KB\n"
     ]
    }
   ],
   "source": [
    "# l'année de naissance est déjà de type int donc pas besoin de changer le type de la donnée\n",
    "data[\"year\"].info()"
   ]
  },
  {
   "cell_type": "code",
   "execution_count": 6,
   "id": "e4b7fb80-8a67-4685-ae3d-ac3eba8403cc",
   "metadata": {},
   "outputs": [
    {
     "data": {
      "text/plain": [
       "item          object\n",
       "itemLabel     object\n",
       "year           int64\n",
       "genre         object\n",
       "genreLabel    object\n",
       "dtype: object"
      ]
     },
     "execution_count": 6,
     "metadata": {},
     "output_type": "execute_result"
    }
   ],
   "source": [
    "data.dtypes"
   ]
  },
  {
   "cell_type": "code",
   "execution_count": 7,
   "id": "c5114cb2-e375-47b8-9671-5f4aaa65c052",
   "metadata": {},
   "outputs": [
    {
     "data": {
      "text/plain": [
       "6917"
      ]
     },
     "execution_count": 7,
     "metadata": {},
     "output_type": "execute_result"
    }
   ],
   "source": [
    "data[\"year\"].count()\n"
   ]
  },
  {
   "cell_type": "code",
   "execution_count": 8,
   "id": "7cf1dc4f-6214-4f9a-9165-a234350ccd0e",
   "metadata": {},
   "outputs": [
    {
     "data": {
      "text/html": [
       "<div>\n",
       "<style scoped>\n",
       "    .dataframe tbody tr th:only-of-type {\n",
       "        vertical-align: middle;\n",
       "    }\n",
       "\n",
       "    .dataframe tbody tr th {\n",
       "        vertical-align: top;\n",
       "    }\n",
       "\n",
       "    .dataframe thead th {\n",
       "        text-align: right;\n",
       "    }\n",
       "</style>\n",
       "<table border=\"1\" class=\"dataframe\">\n",
       "  <thead>\n",
       "    <tr style=\"text-align: right;\">\n",
       "      <th></th>\n",
       "      <th>year</th>\n",
       "      <th>effectif</th>\n",
       "    </tr>\n",
       "  </thead>\n",
       "  <tbody>\n",
       "    <tr>\n",
       "      <th>0</th>\n",
       "      <td>1816</td>\n",
       "      <td>3</td>\n",
       "    </tr>\n",
       "    <tr>\n",
       "      <th>1</th>\n",
       "      <td>1817</td>\n",
       "      <td>4</td>\n",
       "    </tr>\n",
       "    <tr>\n",
       "      <th>2</th>\n",
       "      <td>1818</td>\n",
       "      <td>6</td>\n",
       "    </tr>\n",
       "    <tr>\n",
       "      <th>3</th>\n",
       "      <td>1819</td>\n",
       "      <td>5</td>\n",
       "    </tr>\n",
       "    <tr>\n",
       "      <th>4</th>\n",
       "      <td>1820</td>\n",
       "      <td>4</td>\n",
       "    </tr>\n",
       "    <tr>\n",
       "      <th>...</th>\n",
       "      <td>...</td>\n",
       "      <td>...</td>\n",
       "    </tr>\n",
       "    <tr>\n",
       "      <th>179</th>\n",
       "      <td>1995</td>\n",
       "      <td>39</td>\n",
       "    </tr>\n",
       "    <tr>\n",
       "      <th>180</th>\n",
       "      <td>1996</td>\n",
       "      <td>30</td>\n",
       "    </tr>\n",
       "    <tr>\n",
       "      <th>181</th>\n",
       "      <td>1997</td>\n",
       "      <td>23</td>\n",
       "    </tr>\n",
       "    <tr>\n",
       "      <th>182</th>\n",
       "      <td>1998</td>\n",
       "      <td>24</td>\n",
       "    </tr>\n",
       "    <tr>\n",
       "      <th>183</th>\n",
       "      <td>1999</td>\n",
       "      <td>16</td>\n",
       "    </tr>\n",
       "  </tbody>\n",
       "</table>\n",
       "<p>184 rows × 2 columns</p>\n",
       "</div>"
      ],
      "text/plain": [
       "     year  effectif\n",
       "0    1816         3\n",
       "1    1817         4\n",
       "2    1818         6\n",
       "3    1819         5\n",
       "4    1820         4\n",
       "..    ...       ...\n",
       "179  1995        39\n",
       "180  1996        30\n",
       "181  1997        23\n",
       "182  1998        24\n",
       "183  1999        16\n",
       "\n",
       "[184 rows x 2 columns]"
      ]
     },
     "execution_count": 8,
     "metadata": {},
     "output_type": "execute_result"
    }
   ],
   "source": [
    "annee_eff= pd.DataFrame(data[data['year'] < 2001].groupby('year').size())\\\n",
    "                .reset_index(drop=False)\n",
    "annee_eff.columns=['year','effectif']\n",
    "annee_eff"
   ]
  },
  {
   "cell_type": "code",
   "execution_count": 9,
   "id": "e7eec9df-aa4a-45b3-9432-c435ef6e46de",
   "metadata": {},
   "outputs": [
    {
     "data": {
      "image/png": "[encoded data removed]",
      "text/plain": [
       "<Figure size 1600x800 with 1 Axes>"
      ]
     },
     "metadata": {},
     "output_type": "display_data"
    }
   ],
   "source": [
    "# Premier graphique\n",
    "graph1 = annee_eff.plot(x=\"year\", y=\"effectif\", kind= \"bar\",rot=60, fontsize=10, figsize=(16,8),color=['sandybrown'])\n",
    "\n",
    "\n",
    "max_xticks = 10\n",
    "xloc = plt.MaxNLocator(max_xticks)\n",
    "graph1.xaxis.set_major_locator(xloc)\n",
    "\n",
    "plt.ylabel('Effectif')\n",
    "plt.xlabel('Année de naissance')\n",
    "plt.title(\"Nombre de militant.e.s pour le droit des femmes par années de naissance\")\n",
    "plt.show()"
   ]
  },
  {
   "cell_type": "markdown",
   "id": "ec0572df-695a-4d96-bdf8-b2176fedfe94",
   "metadata": {},
   "source": [
    "## Code pour faire un graphique par génération"
   ]
  },
  {
   "cell_type": "code",
   "execution_count": 10,
   "id": "c192d02e-1275-45b0-859f-10aca7791f98",
   "metadata": {},
   "outputs": [],
   "source": [
    "### Créer une copie indépendante du DataFrame (attention aux copies de variables qui sont seulement des alias) \n",
    "cdf_p = data[data['year'] < 2001].copy(deep=True)"
   ]
  },
  {
   "cell_type": "code",
   "execution_count": 11,
   "id": "4975814c-14c1-43e7-9bd2-b798d497fd30",
   "metadata": {},
   "outputs": [
    {
     "data": {
      "text/html": [
       "<div>\n",
       "<style scoped>\n",
       "    .dataframe tbody tr th:only-of-type {\n",
       "        vertical-align: middle;\n",
       "    }\n",
       "\n",
       "    .dataframe tbody tr th {\n",
       "        vertical-align: top;\n",
       "    }\n",
       "\n",
       "    .dataframe thead th {\n",
       "        text-align: right;\n",
       "    }\n",
       "</style>\n",
       "<table border=\"1\" class=\"dataframe\">\n",
       "  <thead>\n",
       "    <tr style=\"text-align: right;\">\n",
       "      <th></th>\n",
       "      <th>item</th>\n",
       "      <th>itemLabel</th>\n",
       "      <th>year</th>\n",
       "      <th>genre</th>\n",
       "      <th>genreLabel</th>\n",
       "    </tr>\n",
       "  </thead>\n",
       "  <tbody>\n",
       "    <tr>\n",
       "      <th>0</th>\n",
       "      <td>http://www.wikidata.org/entity/Q4962236</td>\n",
       "      <td>Fredrika Limnell</td>\n",
       "      <td>1816</td>\n",
       "      <td>http://www.wikidata.org/entity/Q6581072</td>\n",
       "      <td>female</td>\n",
       "    </tr>\n",
       "    <tr>\n",
       "      <th>1</th>\n",
       "      <td>http://www.wikidata.org/entity/Q20980160</td>\n",
       "      <td>Emma Isler</td>\n",
       "      <td>1816</td>\n",
       "      <td>http://www.wikidata.org/entity/Q6581072</td>\n",
       "      <td>female</td>\n",
       "    </tr>\n",
       "    <tr>\n",
       "      <th>2</th>\n",
       "      <td>http://www.wikidata.org/entity/Q94772529</td>\n",
       "      <td>Amalie Krüger</td>\n",
       "      <td>1816</td>\n",
       "      <td>http://www.wikidata.org/entity/Q6581072</td>\n",
       "      <td>female</td>\n",
       "    </tr>\n",
       "  </tbody>\n",
       "</table>\n",
       "</div>"
      ],
      "text/plain": [
       "                                       item         itemLabel  year  \\\n",
       "0   http://www.wikidata.org/entity/Q4962236  Fredrika Limnell  1816   \n",
       "1  http://www.wikidata.org/entity/Q20980160        Emma Isler  1816   \n",
       "2  http://www.wikidata.org/entity/Q94772529     Amalie Krüger  1816   \n",
       "\n",
       "                                     genre genreLabel  \n",
       "0  http://www.wikidata.org/entity/Q6581072     female  \n",
       "1  http://www.wikidata.org/entity/Q6581072     female  \n",
       "2  http://www.wikidata.org/entity/Q6581072     female  "
      ]
     },
     "execution_count": 11,
     "metadata": {},
     "output_type": "execute_result"
    }
   ],
   "source": [
    "cdf_p.head(3)"
   ]
  },
  {
   "cell_type": "code",
   "execution_count": 12,
   "id": "d0df7ddd-0f02-4878-a587-eac0bf7eef6e",
   "metadata": {},
   "outputs": [
    {
     "data": {
      "text/plain": [
       "(1816, 1999)"
      ]
     },
     "execution_count": 12,
     "metadata": {},
     "output_type": "execute_result"
    }
   ],
   "source": [
    "### Année minimale et maximale dans la population\n",
    "min(cdf_p['year']), max(cdf_p['year'])"
   ]
  },
  {
   "cell_type": "code",
   "execution_count": 13,
   "id": "05dd30dc-5459-4332-b114-001353a6d21a",
   "metadata": {},
   "outputs": [
    {
     "data": {
      "text/plain": [
       "([1816, 1841, 1866, 1891, 1916], [1916, 1941, 1966, 1991, 2016])"
      ]
     },
     "execution_count": 13,
     "metadata": {},
     "output_type": "execute_result"
    }
   ],
   "source": [
    "### Créer une liste d'années pour séparer en périodes de 25 ans\n",
    "# noter que la dernière année sera exclue, \n",
    "# elle donc doit être supérieure à la valeur maximale \n",
    "l_25 = list(range(1816, 2017, 25))\n",
    "l_25[:5],l_25[-5:]"
   ]
  },
  {
   "cell_type": "code",
   "execution_count": 14,
   "id": "ddcbfd49-9a6d-453d-987d-6c13605bc593",
   "metadata": {},
   "outputs": [
    {
     "data": {
      "text/html": [
       "<div>\n",
       "<style scoped>\n",
       "    .dataframe tbody tr th:only-of-type {\n",
       "        vertical-align: middle;\n",
       "    }\n",
       "\n",
       "    .dataframe tbody tr th {\n",
       "        vertical-align: top;\n",
       "    }\n",
       "\n",
       "    .dataframe thead th {\n",
       "        text-align: right;\n",
       "    }\n",
       "</style>\n",
       "<table border=\"1\" class=\"dataframe\">\n",
       "  <thead>\n",
       "    <tr style=\"text-align: right;\">\n",
       "      <th></th>\n",
       "      <th>item</th>\n",
       "      <th>itemLabel</th>\n",
       "      <th>year</th>\n",
       "      <th>genre</th>\n",
       "      <th>genreLabel</th>\n",
       "      <th>periodes</th>\n",
       "    </tr>\n",
       "  </thead>\n",
       "  <tbody>\n",
       "    <tr>\n",
       "      <th>0</th>\n",
       "      <td>http://www.wikidata.org/entity/Q4962236</td>\n",
       "      <td>Fredrika Limnell</td>\n",
       "      <td>1816</td>\n",
       "      <td>http://www.wikidata.org/entity/Q6581072</td>\n",
       "      <td>female</td>\n",
       "      <td>1816-1840</td>\n",
       "    </tr>\n",
       "    <tr>\n",
       "      <th>1</th>\n",
       "      <td>http://www.wikidata.org/entity/Q20980160</td>\n",
       "      <td>Emma Isler</td>\n",
       "      <td>1816</td>\n",
       "      <td>http://www.wikidata.org/entity/Q6581072</td>\n",
       "      <td>female</td>\n",
       "      <td>1816-1840</td>\n",
       "    </tr>\n",
       "    <tr>\n",
       "      <th>2</th>\n",
       "      <td>http://www.wikidata.org/entity/Q94772529</td>\n",
       "      <td>Amalie Krüger</td>\n",
       "      <td>1816</td>\n",
       "      <td>http://www.wikidata.org/entity/Q6581072</td>\n",
       "      <td>female</td>\n",
       "      <td>1816-1840</td>\n",
       "    </tr>\n",
       "  </tbody>\n",
       "</table>\n",
       "</div>"
      ],
      "text/plain": [
       "                                       item         itemLabel  year  \\\n",
       "0   http://www.wikidata.org/entity/Q4962236  Fredrika Limnell  1816   \n",
       "1  http://www.wikidata.org/entity/Q20980160        Emma Isler  1816   \n",
       "2  http://www.wikidata.org/entity/Q94772529     Amalie Krüger  1816   \n",
       "\n",
       "                                     genre genreLabel   periodes  \n",
       "0  http://www.wikidata.org/entity/Q6581072     female  1816-1840  \n",
       "1  http://www.wikidata.org/entity/Q6581072     female  1816-1840  \n",
       "2  http://www.wikidata.org/entity/Q6581072     female  1816-1840  "
      ]
     },
     "execution_count": 14,
     "metadata": {},
     "output_type": "execute_result"
    }
   ],
   "source": [
    "### fonction pd.cut : https://pandas.pydata.org/pandas-docs/stable/reference/api/pandas.cut.html\n",
    "# On ajoute une nouvelle colonne qui contient la période sur la base de la liste précédente\n",
    "# et de la valeur de l'année\n",
    "\n",
    "cdf_p['periodes'] = pd.cut(cdf_p['year'], l_25, right=False)\n",
    "\n",
    "### Transformer le code ajouté pour qu'il soit plus lisible\n",
    "# noter qu'on a arrondi les valeurs\n",
    "cdf_p['periodes'] = cdf_p['periodes'].apply(lambda x : str(int(x.left))+'-'+ str(int(x.right)-1))\n",
    "\n",
    "# Inspection\n",
    "cdf_p.head(3)"
   ]
  },
  {
   "cell_type": "code",
   "execution_count": 18,
   "id": "8b73a2a6-00d8-43da-95cc-0641cf855c32",
   "metadata": {},
   "outputs": [
    {
     "data": {
      "text/html": [
       "<div>\n",
       "<style scoped>\n",
       "    .dataframe tbody tr th:only-of-type {\n",
       "        vertical-align: middle;\n",
       "    }\n",
       "\n",
       "    .dataframe tbody tr th {\n",
       "        vertical-align: top;\n",
       "    }\n",
       "\n",
       "    .dataframe thead th {\n",
       "        text-align: right;\n",
       "    }\n",
       "</style>\n",
       "<table border=\"1\" class=\"dataframe\">\n",
       "  <thead>\n",
       "    <tr style=\"text-align: right;\">\n",
       "      <th></th>\n",
       "      <th>item</th>\n",
       "      <th>itemLabel</th>\n",
       "      <th>year</th>\n",
       "      <th>genre</th>\n",
       "      <th>genreLabel</th>\n",
       "      <th>periodes</th>\n",
       "    </tr>\n",
       "  </thead>\n",
       "  <tbody>\n",
       "    <tr>\n",
       "      <th>6901</th>\n",
       "      <td>http://www.wikidata.org/entity/Q105622678</td>\n",
       "      <td>Samantha Hudson</td>\n",
       "      <td>1999</td>\n",
       "      <td>http://www.wikidata.org/entity/Q48270</td>\n",
       "      <td>non-binary</td>\n",
       "      <td>1991-2015</td>\n",
       "    </tr>\n",
       "    <tr>\n",
       "      <th>6902</th>\n",
       "      <td>http://www.wikidata.org/entity/Q117455951</td>\n",
       "      <td>Nissa Bek</td>\n",
       "      <td>1999</td>\n",
       "      <td>http://www.wikidata.org/entity/Q6581072</td>\n",
       "      <td>female</td>\n",
       "      <td>1991-2015</td>\n",
       "    </tr>\n",
       "    <tr>\n",
       "      <th>6903</th>\n",
       "      <td>http://www.wikidata.org/entity/Q112651488</td>\n",
       "      <td>Pierrick Berteloot</td>\n",
       "      <td>1999</td>\n",
       "      <td>http://www.wikidata.org/entity/Q6581097</td>\n",
       "      <td>male</td>\n",
       "      <td>1991-2015</td>\n",
       "    </tr>\n",
       "  </tbody>\n",
       "</table>\n",
       "</div>"
      ],
      "text/plain": [
       "                                           item           itemLabel  year  \\\n",
       "6901  http://www.wikidata.org/entity/Q105622678     Samantha Hudson  1999   \n",
       "6902  http://www.wikidata.org/entity/Q117455951           Nissa Bek  1999   \n",
       "6903  http://www.wikidata.org/entity/Q112651488  Pierrick Berteloot  1999   \n",
       "\n",
       "                                        genre  genreLabel   periodes  \n",
       "6901    http://www.wikidata.org/entity/Q48270  non-binary  1991-2015  \n",
       "6902  http://www.wikidata.org/entity/Q6581072      female  1991-2015  \n",
       "6903  http://www.wikidata.org/entity/Q6581097        male  1991-2015  "
      ]
     },
     "execution_count": 18,
     "metadata": {},
     "output_type": "execute_result"
    }
   ],
   "source": [
    "cdf_p[cdf_p.year == 1999][:3]"
   ]
  },
  {
   "cell_type": "code",
   "execution_count": 19,
   "id": "106904b6-3032-4b2e-b3ce-a3cc679cffa5",
   "metadata": {},
   "outputs": [
    {
     "name": "stderr",
     "output_type": "stream",
     "text": [
      "/var/folders/8b/5g0mv7wd0xs17dz5xzhfppjm0000gn/T/ipykernel_13585/3799892700.py:2: FutureWarning: The default of observed=False is deprecated and will be changed to True in a future version of pandas. Pass observed=False to retain current behavior or observed=True to adopt the future default and silence this warning.\n",
      "  cdf_p.groupby(by='periodes').size()\n"
     ]
    },
    {
     "data": {
      "text/plain": [
       "periodes\n",
       "1816-1840     154\n",
       "1841-1865     418\n",
       "1866-1890     542\n",
       "1891-1915     469\n",
       "1916-1940    1069\n",
       "1941-1965    2142\n",
       "1966-1990    1830\n",
       "1991-2015     293\n",
       "dtype: int64"
      ]
     },
     "execution_count": 19,
     "metadata": {},
     "output_type": "execute_result"
    }
   ],
   "source": [
    "### compter les naissances par périodes de 25 ans\n",
    "cdf_p.groupby(by='periodes').size()"
   ]
  },
  {
   "cell_type": "code",
   "execution_count": 20,
   "id": "96c3e978-ff63-409a-ac0b-a2f33f433dff",
   "metadata": {},
   "outputs": [
    {
     "name": "stderr",
     "output_type": "stream",
     "text": [
      "/var/folders/8b/5g0mv7wd0xs17dz5xzhfppjm0000gn/T/ipykernel_13585/4144223239.py:1: FutureWarning: The default of observed=False is deprecated and will be changed to True in a future version of pandas. Pass observed=False to retain current behavior or observed=True to adopt the future default and silence this warning.\n",
      "  ax = cdf_p.groupby(by='periodes').size().plot(kind='bar',rot=60, fontsize=8, figsize=(16,8),color=['salmon']\n"
     ]
    },
    {
     "data": {
      "image/png": "[encoded data removed]",
      "text/plain": [
       "<Figure size 1600x800 with 1 Axes>"
      ]
     },
     "metadata": {},
     "output_type": "display_data"
    }
   ],
   "source": [
    "ax = cdf_p.groupby(by='periodes').size().plot(kind='bar',rot=60, fontsize=8, figsize=(16,8),color=['salmon']\n",
    ")\n",
    "plt.ylabel('Effectif')\n",
    "plt.xlabel('Périodes')\n",
    "plt.title('Nombre de militant.es nés par périodes de ving-cinq ans')\n",
    "plt.show()"
   ]
  },
  {
   "cell_type": "markdown",
   "id": "244d6a20-5a23-40d7-9918-708d5f187e96",
   "metadata": {},
   "source": [
    "## Représentation par genre"
   ]
  },
  {
   "cell_type": "code",
   "execution_count": 21,
   "id": "fbc8b7d0-387e-4e95-922a-e57dc7f76909",
   "metadata": {},
   "outputs": [
    {
     "name": "stderr",
     "output_type": "stream",
     "text": [
      "/var/folders/8b/5g0mv7wd0xs17dz5xzhfppjm0000gn/T/ipykernel_13585/3251164921.py:3: FutureWarning: The default of observed=False is deprecated and will be changed to True in a future version of pandas. Pass observed=False to retain current behavior or observed=True to adopt the future default and silence this warning.\n",
      "  gender_m = pd.DataFrame(cdf_p[cdf_p.genreLabel == 'female'].groupby('periodes').size())\n"
     ]
    },
    {
     "data": {
      "text/html": [
       "<div>\n",
       "<style scoped>\n",
       "    .dataframe tbody tr th:only-of-type {\n",
       "        vertical-align: middle;\n",
       "    }\n",
       "\n",
       "    .dataframe tbody tr th {\n",
       "        vertical-align: top;\n",
       "    }\n",
       "\n",
       "    .dataframe thead th {\n",
       "        text-align: right;\n",
       "    }\n",
       "</style>\n",
       "<table border=\"1\" class=\"dataframe\">\n",
       "  <thead>\n",
       "    <tr style=\"text-align: right;\">\n",
       "      <th></th>\n",
       "      <th>gen_f</th>\n",
       "    </tr>\n",
       "    <tr>\n",
       "      <th>periodes</th>\n",
       "      <th></th>\n",
       "    </tr>\n",
       "  </thead>\n",
       "  <tbody>\n",
       "    <tr>\n",
       "      <th>1891-1915</th>\n",
       "      <td>364</td>\n",
       "    </tr>\n",
       "    <tr>\n",
       "      <th>1916-1940</th>\n",
       "      <td>633</td>\n",
       "    </tr>\n",
       "    <tr>\n",
       "      <th>1941-1965</th>\n",
       "      <td>1115</td>\n",
       "    </tr>\n",
       "    <tr>\n",
       "      <th>1966-1990</th>\n",
       "      <td>948</td>\n",
       "    </tr>\n",
       "    <tr>\n",
       "      <th>1991-2015</th>\n",
       "      <td>154</td>\n",
       "    </tr>\n",
       "  </tbody>\n",
       "</table>\n",
       "</div>"
      ],
      "text/plain": [
       "           gen_f\n",
       "periodes        \n",
       "1891-1915    364\n",
       "1916-1940    633\n",
       "1941-1965   1115\n",
       "1966-1990    948\n",
       "1991-2015    154"
      ]
     },
     "execution_count": 21,
     "metadata": {},
     "output_type": "execute_result"
    }
   ],
   "source": [
    "### Regrouper et compter avec un fitre sur le genre féminin\n",
    "# Je ne sais pas pourquoi y a des générations qui disparaissent !!!!\n",
    "gender_m = pd.DataFrame(cdf_p[cdf_p.genreLabel == 'female'].groupby('periodes').size())\n",
    "gender_m.columns = ['gen_f']\n",
    "gender_m.tail()"
   ]
  },
  {
   "cell_type": "code",
   "execution_count": 24,
   "id": "7858e27e-9253-48d7-ac0a-e9144e0fecb8",
   "metadata": {},
   "outputs": [
    {
     "name": "stderr",
     "output_type": "stream",
     "text": [
      "/var/folders/8b/5g0mv7wd0xs17dz5xzhfppjm0000gn/T/ipykernel_13585/658440589.py:2: FutureWarning: The default of observed=False is deprecated and will be changed to True in a future version of pandas. Pass observed=False to retain current behavior or observed=True to adopt the future default and silence this warning.\n",
      "  gender_f = pd.DataFrame(cdf_p[cdf_p.genreLabel == 'male'].groupby('periodes').size())\n"
     ]
    },
    {
     "data": {
      "text/html": [
       "<div>\n",
       "<style scoped>\n",
       "    .dataframe tbody tr th:only-of-type {\n",
       "        vertical-align: middle;\n",
       "    }\n",
       "\n",
       "    .dataframe tbody tr th {\n",
       "        vertical-align: top;\n",
       "    }\n",
       "\n",
       "    .dataframe thead th {\n",
       "        text-align: right;\n",
       "    }\n",
       "</style>\n",
       "<table border=\"1\" class=\"dataframe\">\n",
       "  <thead>\n",
       "    <tr style=\"text-align: right;\">\n",
       "      <th></th>\n",
       "      <th>gen_m</th>\n",
       "    </tr>\n",
       "    <tr>\n",
       "      <th>periodes</th>\n",
       "      <th></th>\n",
       "    </tr>\n",
       "  </thead>\n",
       "  <tbody>\n",
       "    <tr>\n",
       "      <th>1891-1915</th>\n",
       "      <td>101</td>\n",
       "    </tr>\n",
       "    <tr>\n",
       "      <th>1916-1940</th>\n",
       "      <td>423</td>\n",
       "    </tr>\n",
       "    <tr>\n",
       "      <th>1941-1965</th>\n",
       "      <td>929</td>\n",
       "    </tr>\n",
       "    <tr>\n",
       "      <th>1966-1990</th>\n",
       "      <td>681</td>\n",
       "    </tr>\n",
       "    <tr>\n",
       "      <th>1991-2015</th>\n",
       "      <td>77</td>\n",
       "    </tr>\n",
       "  </tbody>\n",
       "</table>\n",
       "</div>"
      ],
      "text/plain": [
       "           gen_m\n",
       "periodes        \n",
       "1891-1915    101\n",
       "1916-1940    423\n",
       "1941-1965    929\n",
       "1966-1990    681\n",
       "1991-2015     77"
      ]
     },
     "execution_count": 24,
     "metadata": {},
     "output_type": "execute_result"
    }
   ],
   "source": [
    "### Regrouper et compter avec un fitre sur le genre masculin\n",
    "gender_f = pd.DataFrame(cdf_p[cdf_p.genreLabel == 'male'].groupby('periodes').size())\n",
    "gender_f.columns = ['gen_m']\n",
    "gender_f.tail()"
   ]
  },
  {
   "cell_type": "code",
   "execution_count": 25,
   "id": "3afeaea2-90a3-42f0-b870-0d8f2adbccd0",
   "metadata": {},
   "outputs": [
    {
     "data": {
      "text/html": [
       "<div>\n",
       "<style scoped>\n",
       "    .dataframe tbody tr th:only-of-type {\n",
       "        vertical-align: middle;\n",
       "    }\n",
       "\n",
       "    .dataframe tbody tr th {\n",
       "        vertical-align: top;\n",
       "    }\n",
       "\n",
       "    .dataframe thead th {\n",
       "        text-align: right;\n",
       "    }\n",
       "</style>\n",
       "<table border=\"1\" class=\"dataframe\">\n",
       "  <thead>\n",
       "    <tr style=\"text-align: right;\">\n",
       "      <th></th>\n",
       "      <th>gen_f</th>\n",
       "      <th>gen_m</th>\n",
       "    </tr>\n",
       "    <tr>\n",
       "      <th>periodes</th>\n",
       "      <th></th>\n",
       "      <th></th>\n",
       "    </tr>\n",
       "  </thead>\n",
       "  <tbody>\n",
       "    <tr>\n",
       "      <th>1891-1915</th>\n",
       "      <td>364</td>\n",
       "      <td>101</td>\n",
       "    </tr>\n",
       "    <tr>\n",
       "      <th>1916-1940</th>\n",
       "      <td>633</td>\n",
       "      <td>423</td>\n",
       "    </tr>\n",
       "    <tr>\n",
       "      <th>1941-1965</th>\n",
       "      <td>1115</td>\n",
       "      <td>929</td>\n",
       "    </tr>\n",
       "    <tr>\n",
       "      <th>1966-1990</th>\n",
       "      <td>948</td>\n",
       "      <td>681</td>\n",
       "    </tr>\n",
       "    <tr>\n",
       "      <th>1991-2015</th>\n",
       "      <td>154</td>\n",
       "      <td>77</td>\n",
       "    </tr>\n",
       "  </tbody>\n",
       "</table>\n",
       "</div>"
      ],
      "text/plain": [
       "           gen_f  gen_m\n",
       "periodes               \n",
       "1891-1915    364    101\n",
       "1916-1940    633    423\n",
       "1941-1965   1115    929\n",
       "1966-1990    948    681\n",
       "1991-2015    154     77"
      ]
     },
     "execution_count": 25,
     "metadata": {},
     "output_type": "execute_result"
    }
   ],
   "source": [
    "### Fusionner les deux tableaux en utilisant l'index comme clé de jointure\n",
    "merged = pd.merge(gender_m, gender_f, left_index=True, right_index=True)\n",
    "merged.tail()"
   ]
  },
  {
   "cell_type": "code",
   "execution_count": 26,
   "id": "982726bd-968e-477e-9fdf-c510cb98bc0f",
   "metadata": {},
   "outputs": [
    {
     "data": {
      "text/html": [
       "<div>\n",
       "<style scoped>\n",
       "    .dataframe tbody tr th:only-of-type {\n",
       "        vertical-align: middle;\n",
       "    }\n",
       "\n",
       "    .dataframe tbody tr th {\n",
       "        vertical-align: top;\n",
       "    }\n",
       "\n",
       "    .dataframe thead th {\n",
       "        text-align: right;\n",
       "    }\n",
       "</style>\n",
       "<table border=\"1\" class=\"dataframe\">\n",
       "  <thead>\n",
       "    <tr style=\"text-align: right;\">\n",
       "      <th></th>\n",
       "      <th>gen_f</th>\n",
       "      <th>gen_m</th>\n",
       "    </tr>\n",
       "    <tr>\n",
       "      <th>periodes</th>\n",
       "      <th></th>\n",
       "      <th></th>\n",
       "    </tr>\n",
       "  </thead>\n",
       "  <tbody>\n",
       "    <tr>\n",
       "      <th>1891-1915</th>\n",
       "      <td>364</td>\n",
       "      <td>101</td>\n",
       "    </tr>\n",
       "    <tr>\n",
       "      <th>1916-1940</th>\n",
       "      <td>633</td>\n",
       "      <td>423</td>\n",
       "    </tr>\n",
       "    <tr>\n",
       "      <th>1941-1965</th>\n",
       "      <td>1115</td>\n",
       "      <td>929</td>\n",
       "    </tr>\n",
       "    <tr>\n",
       "      <th>1966-1990</th>\n",
       "      <td>948</td>\n",
       "      <td>681</td>\n",
       "    </tr>\n",
       "    <tr>\n",
       "      <th>1991-2015</th>\n",
       "      <td>154</td>\n",
       "      <td>77</td>\n",
       "    </tr>\n",
       "  </tbody>\n",
       "</table>\n",
       "</div>"
      ],
      "text/plain": [
       "           gen_f  gen_m\n",
       "periodes               \n",
       "1891-1915    364    101\n",
       "1916-1940    633    423\n",
       "1941-1965   1115    929\n",
       "1966-1990    948    681\n",
       "1991-2015    154     77"
      ]
     },
     "execution_count": 26,
     "metadata": {},
     "output_type": "execute_result"
    }
   ],
   "source": [
    "### Transformer l'index de séquence à chaîne de caractères\n",
    "# ce qui est indispensable pour l'affichage dans un graphique\n",
    "merged.index = merged.index.map(str)\n",
    "merged.tail()"
   ]
  },
  {
   "cell_type": "code",
   "execution_count": 27,
   "id": "84a096bb-7316-4d42-9514-90d5ae1913ce",
   "metadata": {},
   "outputs": [
    {
     "data": {
      "image/png": "[encoded data removed]",
      "text/plain": [
       "<Figure size 2000x600 with 1 Axes>"
      ]
     },
     "metadata": {},
     "output_type": "display_data"
    }
   ],
   "source": [
    "ax = merged.plot.bar(stacked=True, rot=70, fontsize=20, figsize=(20,6), color=['lavender', 'gold'])\n",
    "plt.show()"
   ]
  },
  {
   "cell_type": "markdown",
   "id": "53b9af40-d90c-49cc-a7ed-fd02f5ce84f1",
   "metadata": {},
   "source": [
    "# Commentaire\n",
    "Bizarrement tout s'affiche"
   ]
  },
  {
   "cell_type": "code",
   "execution_count": 28,
   "id": "a598f053-8312-4af6-b1cc-b6a1273f880f",
   "metadata": {},
   "outputs": [
    {
     "data": {
      "text/plain": [
       "([1816, 1826, 1836, 1846, 1856], [1966, 1976, 1986, 1996, 2006])"
      ]
     },
     "execution_count": 28,
     "metadata": {},
     "output_type": "execute_result"
    }
   ],
   "source": [
    "l_10 = list(range(1816, 2007, 10))\n",
    "l_10[:5],l_10[-5:]"
   ]
  },
  {
   "cell_type": "code",
   "execution_count": 29,
   "id": "603c0c92-f31f-451d-9f1c-85153f103a51",
   "metadata": {},
   "outputs": [
    {
     "data": {
      "text/html": [
       "<div>\n",
       "<style scoped>\n",
       "    .dataframe tbody tr th:only-of-type {\n",
       "        vertical-align: middle;\n",
       "    }\n",
       "\n",
       "    .dataframe tbody tr th {\n",
       "        vertical-align: top;\n",
       "    }\n",
       "\n",
       "    .dataframe thead th {\n",
       "        text-align: right;\n",
       "    }\n",
       "</style>\n",
       "<table border=\"1\" class=\"dataframe\">\n",
       "  <thead>\n",
       "    <tr style=\"text-align: right;\">\n",
       "      <th></th>\n",
       "      <th>item</th>\n",
       "      <th>itemLabel</th>\n",
       "      <th>year</th>\n",
       "      <th>genre</th>\n",
       "      <th>genreLabel</th>\n",
       "      <th>periodes</th>\n",
       "      <th>per_10</th>\n",
       "    </tr>\n",
       "  </thead>\n",
       "  <tbody>\n",
       "    <tr>\n",
       "      <th>0</th>\n",
       "      <td>http://www.wikidata.org/entity/Q4962236</td>\n",
       "      <td>Fredrika Limnell</td>\n",
       "      <td>1816</td>\n",
       "      <td>http://www.wikidata.org/entity/Q6581072</td>\n",
       "      <td>female</td>\n",
       "      <td>1816-1840</td>\n",
       "      <td>1816-1825</td>\n",
       "    </tr>\n",
       "    <tr>\n",
       "      <th>1</th>\n",
       "      <td>http://www.wikidata.org/entity/Q20980160</td>\n",
       "      <td>Emma Isler</td>\n",
       "      <td>1816</td>\n",
       "      <td>http://www.wikidata.org/entity/Q6581072</td>\n",
       "      <td>female</td>\n",
       "      <td>1816-1840</td>\n",
       "      <td>1816-1825</td>\n",
       "    </tr>\n",
       "    <tr>\n",
       "      <th>2</th>\n",
       "      <td>http://www.wikidata.org/entity/Q94772529</td>\n",
       "      <td>Amalie Krüger</td>\n",
       "      <td>1816</td>\n",
       "      <td>http://www.wikidata.org/entity/Q6581072</td>\n",
       "      <td>female</td>\n",
       "      <td>1816-1840</td>\n",
       "      <td>1816-1825</td>\n",
       "    </tr>\n",
       "  </tbody>\n",
       "</table>\n",
       "</div>"
      ],
      "text/plain": [
       "                                       item         itemLabel  year  \\\n",
       "0   http://www.wikidata.org/entity/Q4962236  Fredrika Limnell  1816   \n",
       "1  http://www.wikidata.org/entity/Q20980160        Emma Isler  1816   \n",
       "2  http://www.wikidata.org/entity/Q94772529     Amalie Krüger  1816   \n",
       "\n",
       "                                     genre genreLabel   periodes     per_10  \n",
       "0  http://www.wikidata.org/entity/Q6581072     female  1816-1840  1816-1825  \n",
       "1  http://www.wikidata.org/entity/Q6581072     female  1816-1840  1816-1825  \n",
       "2  http://www.wikidata.org/entity/Q6581072     female  1816-1840  1816-1825  "
      ]
     },
     "execution_count": 29,
     "metadata": {},
     "output_type": "execute_result"
    }
   ],
   "source": [
    "\n",
    "cdf_p['per_10'] = pd.cut(cdf_p['year'], l_10, right=False)\n",
    "\n",
    "### Transformer le code ajouté pour qu'il soit plus lisible\n",
    "# noter qu'on a arrondi les valeurs\n",
    "cdf_p['per_10'] = cdf_p['per_10'].apply(lambda x : str(int(x.left))+'-'+ str(int(x.right)-1))\n",
    "\n",
    "# Inspection\n",
    "cdf_p.head(3)"
   ]
  },
  {
   "cell_type": "code",
   "execution_count": 30,
   "id": "35bedbe9-5c8d-4ba8-8a43-6da7e5b36214",
   "metadata": {},
   "outputs": [
    {
     "name": "stderr",
     "output_type": "stream",
     "text": [
      "/var/folders/8b/5g0mv7wd0xs17dz5xzhfppjm0000gn/T/ipykernel_13585/1621639571.py:3: FutureWarning: The default of observed=False is deprecated and will be changed to True in a future version of pandas. Pass observed=False to retain current behavior or observed=True to adopt the future default and silence this warning.\n",
      "  gender_m_10 = pd.DataFrame(cdf_p[(cdf_p.genreLabel == 'female') & (cdf_p.year > 1815)].groupby('per_10').size())\n"
     ]
    },
    {
     "data": {
      "text/html": [
       "<div>\n",
       "<style scoped>\n",
       "    .dataframe tbody tr th:only-of-type {\n",
       "        vertical-align: middle;\n",
       "    }\n",
       "\n",
       "    .dataframe tbody tr th {\n",
       "        vertical-align: top;\n",
       "    }\n",
       "\n",
       "    .dataframe thead th {\n",
       "        text-align: right;\n",
       "    }\n",
       "</style>\n",
       "<table border=\"1\" class=\"dataframe\">\n",
       "  <thead>\n",
       "    <tr style=\"text-align: right;\">\n",
       "      <th></th>\n",
       "      <th>gen_f</th>\n",
       "    </tr>\n",
       "    <tr>\n",
       "      <th>per_10</th>\n",
       "      <th></th>\n",
       "    </tr>\n",
       "  </thead>\n",
       "  <tbody>\n",
       "    <tr>\n",
       "      <th>1956-1965</th>\n",
       "      <td>403</td>\n",
       "    </tr>\n",
       "    <tr>\n",
       "      <th>1966-1975</th>\n",
       "      <td>383</td>\n",
       "    </tr>\n",
       "    <tr>\n",
       "      <th>1976-1985</th>\n",
       "      <td>390</td>\n",
       "    </tr>\n",
       "    <tr>\n",
       "      <th>1986-1995</th>\n",
       "      <td>270</td>\n",
       "    </tr>\n",
       "    <tr>\n",
       "      <th>1996-2005</th>\n",
       "      <td>59</td>\n",
       "    </tr>\n",
       "  </tbody>\n",
       "</table>\n",
       "</div>"
      ],
      "text/plain": [
       "           gen_f\n",
       "per_10          \n",
       "1956-1965    403\n",
       "1966-1975    383\n",
       "1976-1985    390\n",
       "1986-1995    270\n",
       "1996-2005     59"
      ]
     },
     "execution_count": 30,
     "metadata": {},
     "output_type": "execute_result"
    }
   ],
   "source": [
    "### On regroupe par genre comme ci-dessus\n",
    "## Même problème qu'avant ? des périodes disparaissent !!!!!\n",
    "gender_m_10 = pd.DataFrame(cdf_p[(cdf_p.genreLabel == 'female') & (cdf_p.year > 1815)].groupby('per_10').size())\n",
    "gender_m_10.columns = ['gen_f']\n",
    "gender_m_10.tail()"
   ]
  },
  {
   "cell_type": "code",
   "execution_count": 31,
   "id": "8a7c4f80-90d8-459b-b329-19169ed0fdd7",
   "metadata": {},
   "outputs": [
    {
     "name": "stderr",
     "output_type": "stream",
     "text": [
      "/var/folders/8b/5g0mv7wd0xs17dz5xzhfppjm0000gn/T/ipykernel_13585/996270405.py:2: FutureWarning: The default of observed=False is deprecated and will be changed to True in a future version of pandas. Pass observed=False to retain current behavior or observed=True to adopt the future default and silence this warning.\n",
      "  gender_f_10 = pd.DataFrame(cdf_p[(cdf_p.genreLabel == 'male')& (cdf_p.year > 1815)].groupby('per_10').size())\n"
     ]
    },
    {
     "data": {
      "text/html": [
       "<div>\n",
       "<style scoped>\n",
       "    .dataframe tbody tr th:only-of-type {\n",
       "        vertical-align: middle;\n",
       "    }\n",
       "\n",
       "    .dataframe tbody tr th {\n",
       "        vertical-align: top;\n",
       "    }\n",
       "\n",
       "    .dataframe thead th {\n",
       "        text-align: right;\n",
       "    }\n",
       "</style>\n",
       "<table border=\"1\" class=\"dataframe\">\n",
       "  <thead>\n",
       "    <tr style=\"text-align: right;\">\n",
       "      <th></th>\n",
       "      <th>gen_m</th>\n",
       "    </tr>\n",
       "    <tr>\n",
       "      <th>per_10</th>\n",
       "      <th></th>\n",
       "    </tr>\n",
       "  </thead>\n",
       "  <tbody>\n",
       "    <tr>\n",
       "      <th>1956-1965</th>\n",
       "      <td>370</td>\n",
       "    </tr>\n",
       "    <tr>\n",
       "      <th>1966-1975</th>\n",
       "      <td>329</td>\n",
       "    </tr>\n",
       "    <tr>\n",
       "      <th>1976-1985</th>\n",
       "      <td>258</td>\n",
       "    </tr>\n",
       "    <tr>\n",
       "      <th>1986-1995</th>\n",
       "      <td>151</td>\n",
       "    </tr>\n",
       "    <tr>\n",
       "      <th>1996-2005</th>\n",
       "      <td>20</td>\n",
       "    </tr>\n",
       "  </tbody>\n",
       "</table>\n",
       "</div>"
      ],
      "text/plain": [
       "           gen_m\n",
       "per_10          \n",
       "1956-1965    370\n",
       "1966-1975    329\n",
       "1976-1985    258\n",
       "1986-1995    151\n",
       "1996-2005     20"
      ]
     },
     "execution_count": 31,
     "metadata": {},
     "output_type": "execute_result"
    }
   ],
   "source": [
    "### Idem\n",
    "gender_f_10 = pd.DataFrame(cdf_p[(cdf_p.genreLabel == 'male')& (cdf_p.year > 1815)].groupby('per_10').size())\n",
    "gender_f_10.columns = ['gen_m']\n",
    "gender_f_10.tail()"
   ]
  },
  {
   "cell_type": "code",
   "execution_count": 32,
   "id": "4233c8bb-bd3f-4ed4-b041-13e2df474529",
   "metadata": {},
   "outputs": [
    {
     "data": {
      "text/html": [
       "<div>\n",
       "<style scoped>\n",
       "    .dataframe tbody tr th:only-of-type {\n",
       "        vertical-align: middle;\n",
       "    }\n",
       "\n",
       "    .dataframe tbody tr th {\n",
       "        vertical-align: top;\n",
       "    }\n",
       "\n",
       "    .dataframe thead th {\n",
       "        text-align: right;\n",
       "    }\n",
       "</style>\n",
       "<table border=\"1\" class=\"dataframe\">\n",
       "  <thead>\n",
       "    <tr style=\"text-align: right;\">\n",
       "      <th></th>\n",
       "      <th>gen_f</th>\n",
       "      <th>gen_m</th>\n",
       "    </tr>\n",
       "    <tr>\n",
       "      <th>per_10</th>\n",
       "      <th></th>\n",
       "      <th></th>\n",
       "    </tr>\n",
       "  </thead>\n",
       "  <tbody>\n",
       "    <tr>\n",
       "      <th>1956-1965</th>\n",
       "      <td>403</td>\n",
       "      <td>370</td>\n",
       "    </tr>\n",
       "    <tr>\n",
       "      <th>1966-1975</th>\n",
       "      <td>383</td>\n",
       "      <td>329</td>\n",
       "    </tr>\n",
       "    <tr>\n",
       "      <th>1976-1985</th>\n",
       "      <td>390</td>\n",
       "      <td>258</td>\n",
       "    </tr>\n",
       "    <tr>\n",
       "      <th>1986-1995</th>\n",
       "      <td>270</td>\n",
       "      <td>151</td>\n",
       "    </tr>\n",
       "    <tr>\n",
       "      <th>1996-2005</th>\n",
       "      <td>59</td>\n",
       "      <td>20</td>\n",
       "    </tr>\n",
       "  </tbody>\n",
       "</table>\n",
       "</div>"
      ],
      "text/plain": [
       "           gen_f  gen_m\n",
       "per_10                 \n",
       "1956-1965    403    370\n",
       "1966-1975    383    329\n",
       "1976-1985    390    258\n",
       "1986-1995    270    151\n",
       "1996-2005     59     20"
      ]
     },
     "execution_count": 32,
     "metadata": {},
     "output_type": "execute_result"
    }
   ],
   "source": [
    "merged_10 = pd.merge(gender_m_10, gender_f_10, left_index=True, right_index=True)\n",
    "merged_10.tail()"
   ]
  },
  {
   "cell_type": "code",
   "execution_count": 35,
   "id": "bfdb0b65-29e3-4c04-b8a2-811b55babe8e",
   "metadata": {},
   "outputs": [
    {
     "data": {
      "text/html": [
       "<div>\n",
       "<style scoped>\n",
       "    .dataframe tbody tr th:only-of-type {\n",
       "        vertical-align: middle;\n",
       "    }\n",
       "\n",
       "    .dataframe tbody tr th {\n",
       "        vertical-align: top;\n",
       "    }\n",
       "\n",
       "    .dataframe thead th {\n",
       "        text-align: right;\n",
       "    }\n",
       "</style>\n",
       "<table border=\"1\" class=\"dataframe\">\n",
       "  <thead>\n",
       "    <tr style=\"text-align: right;\">\n",
       "      <th></th>\n",
       "      <th>gen_f</th>\n",
       "      <th>gen_m</th>\n",
       "      <th>tot</th>\n",
       "    </tr>\n",
       "    <tr>\n",
       "      <th>per_10</th>\n",
       "      <th></th>\n",
       "      <th></th>\n",
       "      <th></th>\n",
       "    </tr>\n",
       "  </thead>\n",
       "  <tbody>\n",
       "    <tr>\n",
       "      <th>1956-1965</th>\n",
       "      <td>403</td>\n",
       "      <td>370</td>\n",
       "      <td>773</td>\n",
       "    </tr>\n",
       "    <tr>\n",
       "      <th>1966-1975</th>\n",
       "      <td>383</td>\n",
       "      <td>329</td>\n",
       "      <td>712</td>\n",
       "    </tr>\n",
       "    <tr>\n",
       "      <th>1976-1985</th>\n",
       "      <td>390</td>\n",
       "      <td>258</td>\n",
       "      <td>648</td>\n",
       "    </tr>\n",
       "    <tr>\n",
       "      <th>1986-1995</th>\n",
       "      <td>270</td>\n",
       "      <td>151</td>\n",
       "      <td>421</td>\n",
       "    </tr>\n",
       "    <tr>\n",
       "      <th>1996-2005</th>\n",
       "      <td>59</td>\n",
       "      <td>20</td>\n",
       "      <td>79</td>\n",
       "    </tr>\n",
       "  </tbody>\n",
       "</table>\n",
       "</div>"
      ],
      "text/plain": [
       "           gen_f  gen_m  tot\n",
       "per_10                      \n",
       "1956-1965    403    370  773\n",
       "1966-1975    383    329  712\n",
       "1976-1985    390    258  648\n",
       "1986-1995    270    151  421\n",
       "1996-2005     59     20   79"
      ]
     },
     "execution_count": 35,
     "metadata": {},
     "output_type": "execute_result"
    }
   ],
   "source": [
    "### On transforme le type de valeur de l'index\n",
    "# et on ajoute une colonne avec le total\n",
    "merged_10.index = merged_10.index.map(str)\n",
    "merged_10['tot']=merged_10['gen_f']+merged_10['gen_m']\n",
    "merged_10.tail()"
   ]
  },
  {
   "cell_type": "code",
   "execution_count": 36,
   "id": "f18cadac-f5c9-4e11-a151-08bcba2c686c",
   "metadata": {},
   "outputs": [
    {
     "data": {
      "text/plain": [
       "[0.87, 0.97, 0.92]"
      ]
     },
     "execution_count": 36,
     "metadata": {},
     "output_type": "execute_result"
    }
   ],
   "source": [
    "### On prépare les valeurs pour l'affichage des fréquences (proportion par rapport au total)\n",
    "\n",
    "# liste qui contient toutes les valeurs à la suite\n",
    "m_m = merged_10.gen_f.to_list()+merged_10.gen_m.to_list()\n",
    "\n",
    "# liste d'égale longueur que la précédente qui contient \n",
    "# les valeurs de l'index, i.e. les périodes\n",
    "tot = merged_10.tot.to_list()*2\n",
    "\n",
    "# liste qui contient les valeurs des fréquences\n",
    "lp = [round(v/t, 2) for v,t in zip(m_m, tot)]\n",
    "lp[:3]"
   ]
  },
  {
   "cell_type": "code",
   "execution_count": 37,
   "id": "9d64702b-c522-4f94-b13a-21fbae9dd036",
   "metadata": {},
   "outputs": [
    {
     "data": {
      "image/png": "[encoded data removed]",
      "text/plain": [
       "<Figure size 2000x800 with 1 Axes>"
      ]
     },
     "metadata": {},
     "output_type": "display_data"
    }
   ],
   "source": [
    "### Graphique avec la distribution par période et genre (M,F)\n",
    "# Noter que les effectifs du genre 'Autres' étant très faibles,\n",
    "# on ne les analyse pas de manière sérielle mais on peut les analyser qualitatiement\n",
    "\n",
    "ax = merged_10.plot.bar(stacked=True, y=['gen_f', 'gen_m'], \\\n",
    "                        rot=70, fontsize=15, figsize=(20,8), color=['lavender', 'gold'])\n",
    "\n",
    "\n",
    "### https://www.pythoncharts.com/matplotlib/stacked-bar-charts-labels/\n",
    "\n",
    "\n",
    "## On ajoute une étiquette concernant la valeur de fréquence\n",
    "# à chaque rectangle dans le graphe, en utilisant la list 'lp' préparée précédemment\n",
    "# Il y a autant de triangles que les valeurs d'index x le nombre de variables\n",
    "\n",
    "for bar,v in zip(ax.patches,lp): \n",
    "\n",
    "    ax.text(\n",
    "      # Met les étiquette aux centre des rectangles\n",
    "      bar.get_x() + bar.get_width() / 2,\n",
    "        \n",
    "      # Ajoute les coordonnées verticales\n",
    "      bar.get_height()/2 + bar.get_y(), \n",
    "      \n",
    "      # Ajoute les valeurs\n",
    "      v,\n",
    "\n",
    "      # centre et met du style aux étiquettes\n",
    "      ha='center',\n",
    "      color='black',\n",
    "      weight='bold',\n",
    "      size=10\n",
    "  )\n",
    "\n",
    "plt.ylabel('Effectifs par période avec proportion des genres')\n",
    "plt.xlabel('Périodes')\n",
    "plt.title('Distribution des naissances par périodes de dix ans, proportion des genres par période')\n",
    "\n",
    "\n",
    "plt.show()"
   ]
  },
  {
   "cell_type": "markdown",
   "id": "01667b7e-0b7d-4fd9-a654-81bf393f1936",
   "metadata": {},
   "source": [
    "# Commentaire\n",
    "Bizarrement les bonnes périodes s'affichent"
   ]
  },
  {
   "cell_type": "code",
   "execution_count": null,
   "id": "7ade30dc-99b3-4363-b7ac-9edc7552ba8b",
   "metadata": {},
   "outputs": [],
   "source": []
  }
 ],
 "metadata": {
  "kernelspec": {
   "display_name": "py311_data_analysis",
   "language": "python",
   "name": "py311_data_analysis"
  },
  "language_info": {
   "codemirror_mode": {
    "name": "ipython",
    "version": 3
   },
   "file_extension": ".py",
   "mimetype": "text/x-python",
   "name": "python",
   "nbconvert_exporter": "python",
   "pygments_lexer": "ipython3",
   "version": "3.11.8"
  }
 },
 "nbformat": 4,
 "nbformat_minor": 5
}
