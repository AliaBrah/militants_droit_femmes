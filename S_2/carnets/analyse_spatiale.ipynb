{
 "cells": [
  {
   "cell_type": "markdown",
   "id": "e8406ead-ce2b-46b6-8a7a-1f93adc6ef31",
   "metadata": {},
   "source": [
    "# Ce carnet a pour but de faire une analyse de la distribution spatiale de la population étudiée"
   ]
  },
  {
   "cell_type": "code",
   "execution_count": 2,
   "id": "44c08720-0fbf-460d-8d8d-b26babd2fa6d",
   "metadata": {},
   "outputs": [],
   "source": [
    "### Noter qu'il faudra avoir installé toutes les librairies nécessaires\n",
    "# dans l'environnement conda utilisé pour exécuter ce carnet\n",
    "import pandas as pd\n",
    "import geopandas as gpd\n",
    "#from shapely.geometry import LineString\n",
    "from geopandas.tools import sjoin\n",
    "from geodatasets import get_path\n",
    "#import networkx as nx\n",
    "import matplotlib.pyplot as plt\n",
    "import plotly.express as px\n",
    "from itables import init_notebook_mode, show\n",
    "import numpy as np\n",
    "#import seaborn as sns\n",
    "import json\n",
    "import IPython\n",
    "import nbformat "
   ]
  },
  {
   "cell_type": "code",
   "execution_count": 3,
   "id": "5ede53b8-b62b-4214-a616-f77136bcdbc5",
   "metadata": {},
   "outputs": [
    {
     "data": {
      "text/html": [
       "<div>\n",
       "<style scoped>\n",
       "    .dataframe tbody tr th:only-of-type {\n",
       "        vertical-align: middle;\n",
       "    }\n",
       "\n",
       "    .dataframe tbody tr th {\n",
       "        vertical-align: top;\n",
       "    }\n",
       "\n",
       "    .dataframe thead th {\n",
       "        text-align: right;\n",
       "    }\n",
       "</style>\n",
       "<table border=\"1\" class=\"dataframe\">\n",
       "  <thead>\n",
       "    <tr style=\"text-align: right;\">\n",
       "      <th></th>\n",
       "      <th>fk_lieu</th>\n",
       "      <th>lieu_naissance</th>\n",
       "      <th>eff</th>\n",
       "      <th>geo_coord</th>\n",
       "    </tr>\n",
       "  </thead>\n",
       "  <tbody>\n",
       "    <tr>\n",
       "      <th>0</th>\n",
       "      <td>http://www.wikidata.org/entity/Q649</td>\n",
       "      <td>Moscow</td>\n",
       "      <td>70</td>\n",
       "      <td>Point(37.617777777 55.755833333)</td>\n",
       "    </tr>\n",
       "    <tr>\n",
       "      <th>1</th>\n",
       "      <td>http://www.wikidata.org/entity/Q60</td>\n",
       "      <td>New York City</td>\n",
       "      <td>53</td>\n",
       "      <td>Point(-74.0 40.7)</td>\n",
       "    </tr>\n",
       "    <tr>\n",
       "      <th>2</th>\n",
       "      <td>http://www.wikidata.org/entity/Q2807</td>\n",
       "      <td>Madrid</td>\n",
       "      <td>45</td>\n",
       "      <td>Point(-3.703333333 40.416944444)</td>\n",
       "    </tr>\n",
       "  </tbody>\n",
       "</table>\n",
       "</div>"
      ],
      "text/plain": [
       "                                fk_lieu lieu_naissance  eff  \\\n",
       "0   http://www.wikidata.org/entity/Q649         Moscow   70   \n",
       "1    http://www.wikidata.org/entity/Q60  New York City   53   \n",
       "2  http://www.wikidata.org/entity/Q2807         Madrid   45   \n",
       "\n",
       "                          geo_coord  \n",
       "0  Point(37.617777777 55.755833333)  \n",
       "1                 Point(-74.0 40.7)  \n",
       "2  Point(-3.703333333 40.416944444)  "
      ]
     },
     "execution_count": 3,
     "metadata": {},
     "output_type": "execute_result"
    }
   ],
   "source": [
    "### Librairies déjà installées avec Python\n",
    "import pprint\n",
    "import sqlite3 as sql\n",
    "import sys\n",
    "from importlib import reload\n",
    "data1 = pd.read_csv(\"CSV/analyse_personne_spatiale_1.csv\")\n",
    "data1.head(3)"
   ]
  },
  {
   "cell_type": "code",
   "execution_count": 20,
   "id": "0dc55811-2caa-47ee-a7e1-e1edbd91d2e5",
   "metadata": {},
   "outputs": [
    {
     "data": {
      "text/plain": [
       "0     POINT (37.61778 55.75583)\n",
       "1    POINT (-74.00000 40.70000)\n",
       "2     POINT (-3.70333 40.41694)\n",
       "3      POINT (4.89361 52.37278)\n",
       "4     POINT (51.41667 35.70000)\n",
       "dtype: geometry"
      ]
     },
     "execution_count": 20,
     "metadata": {},
     "output_type": "execute_result"
    }
   ],
   "source": [
    "s = gpd.GeoSeries.from_wkt(data1.geo_coord[:5])\n",
    "s"
   ]
  },
  {
   "cell_type": "code",
   "execution_count": 21,
   "id": "195b2610-d1ff-4ad6-8188-ca5815c4dae2",
   "metadata": {},
   "outputs": [
    {
     "data": {
      "text/html": [
       "<div>\n",
       "<style scoped>\n",
       "    .dataframe tbody tr th:only-of-type {\n",
       "        vertical-align: middle;\n",
       "    }\n",
       "\n",
       "    .dataframe tbody tr th {\n",
       "        vertical-align: top;\n",
       "    }\n",
       "\n",
       "    .dataframe thead th {\n",
       "        text-align: right;\n",
       "    }\n",
       "</style>\n",
       "<table border=\"1\" class=\"dataframe\">\n",
       "  <thead>\n",
       "    <tr style=\"text-align: right;\">\n",
       "      <th></th>\n",
       "      <th>fk_lieu</th>\n",
       "      <th>lieu_naissance</th>\n",
       "      <th>eff</th>\n",
       "      <th>geometry</th>\n",
       "    </tr>\n",
       "  </thead>\n",
       "  <tbody>\n",
       "    <tr>\n",
       "      <th>0</th>\n",
       "      <td>http://www.wikidata.org/entity/Q649</td>\n",
       "      <td>Moscow</td>\n",
       "      <td>70</td>\n",
       "      <td>POINT (37.61778 55.75583)</td>\n",
       "    </tr>\n",
       "    <tr>\n",
       "      <th>1</th>\n",
       "      <td>http://www.wikidata.org/entity/Q60</td>\n",
       "      <td>New York City</td>\n",
       "      <td>53</td>\n",
       "      <td>POINT (-74.00000 40.70000)</td>\n",
       "    </tr>\n",
       "    <tr>\n",
       "      <th>2</th>\n",
       "      <td>http://www.wikidata.org/entity/Q2807</td>\n",
       "      <td>Madrid</td>\n",
       "      <td>45</td>\n",
       "      <td>POINT (-3.70333 40.41694)</td>\n",
       "    </tr>\n",
       "  </tbody>\n",
       "</table>\n",
       "</div>"
      ],
      "text/plain": [
       "                                fk_lieu lieu_naissance  eff  \\\n",
       "0   http://www.wikidata.org/entity/Q649         Moscow   70   \n",
       "1    http://www.wikidata.org/entity/Q60  New York City   53   \n",
       "2  http://www.wikidata.org/entity/Q2807         Madrid   45   \n",
       "\n",
       "                     geometry  \n",
       "0   POINT (37.61778 55.75583)  \n",
       "1  POINT (-74.00000 40.70000)  \n",
       "2   POINT (-3.70333 40.41694)  "
      ]
     },
     "execution_count": 21,
     "metadata": {},
     "output_type": "execute_result"
    }
   ],
   "source": [
    "birth_gdf = gpd.GeoDataFrame(\n",
    "    data1[['fk_lieu', 'lieu_naissance', 'eff']],\\\n",
    "    geometry=gpd.GeoSeries.from_wkt(data1.geo_coord.to_list()), crs=\"EPSG:4326\"\n",
    ")\n",
    "\n",
    "# On dispose ainsi du DataFrame GeoPandas avec la colonne indispensable 'geometry'\n",
    "birth_gdf.head(3)"
   ]
  },
  {
   "cell_type": "code",
   "execution_count": 22,
   "id": "4a7ae545-8ed9-492e-9def-aa2c554bafa6",
   "metadata": {},
   "outputs": [
    {
     "name": "stdout",
     "output_type": "stream",
     "text": [
      "<class 'geopandas.geodataframe.GeoDataFrame'>\n",
      "RangeIndex: 3170 entries, 0 to 3169\n",
      "Data columns (total 4 columns):\n",
      " #   Column          Non-Null Count  Dtype   \n",
      "---  ------          --------------  -----   \n",
      " 0   fk_lieu         3170 non-null   object  \n",
      " 1   lieu_naissance  3170 non-null   object  \n",
      " 2   eff             3170 non-null   int64   \n",
      " 3   geometry        3170 non-null   geometry\n",
      "dtypes: geometry(1), int64(1), object(2)\n",
      "memory usage: 99.2+ KB\n"
     ]
    }
   ],
   "source": [
    "### Inspection des données à afficher\n",
    "birth_gdf.info()"
   ]
  },
  {
   "cell_type": "markdown",
   "id": "055197e5-a024-4216-a9cc-7d1bf3cabbdc",
   "metadata": {},
   "source": [
    "# Création de la première carte\n",
    "cela est un essai comme cette carte n'est pas forcément pertinente pour notre population joue avec les pts et non avec les pays!"
   ]
  },
  {
   "cell_type": "code",
   "execution_count": 23,
   "id": "87449f9a-57d0-4136-921f-88142ca21556",
   "metadata": {},
   "outputs": [
    {
     "name": "stderr",
     "output_type": "stream",
     "text": [
      "/var/folders/8b/5g0mv7wd0xs17dz5xzhfppjm0000gn/T/ipykernel_38501/1957264229.py:2: FutureWarning:\n",
      "\n",
      "The geopandas.dataset module is deprecated and will be removed in GeoPandas 1.0. You can get the original 'naturalearth_lowres' data from https://www.naturalearthdata.com/downloads/110m-cultural-vectors/.\n",
      "\n"
     ]
    },
    {
     "data": {
      "text/html": [
       "<div>\n",
       "<style scoped>\n",
       "    .dataframe tbody tr th:only-of-type {\n",
       "        vertical-align: middle;\n",
       "    }\n",
       "\n",
       "    .dataframe tbody tr th {\n",
       "        vertical-align: top;\n",
       "    }\n",
       "\n",
       "    .dataframe thead th {\n",
       "        text-align: right;\n",
       "    }\n",
       "</style>\n",
       "<table border=\"1\" class=\"dataframe\">\n",
       "  <thead>\n",
       "    <tr style=\"text-align: right;\">\n",
       "      <th></th>\n",
       "      <th>pop_est</th>\n",
       "      <th>continent</th>\n",
       "      <th>name</th>\n",
       "      <th>iso_a3</th>\n",
       "      <th>gdp_md_est</th>\n",
       "      <th>geometry</th>\n",
       "    </tr>\n",
       "  </thead>\n",
       "  <tbody>\n",
       "    <tr>\n",
       "      <th>0</th>\n",
       "      <td>889953.0</td>\n",
       "      <td>Oceania</td>\n",
       "      <td>Fiji</td>\n",
       "      <td>FJI</td>\n",
       "      <td>5496</td>\n",
       "      <td>MULTIPOLYGON (((180.00000 -16.06713, 180.00000...</td>\n",
       "    </tr>\n",
       "    <tr>\n",
       "      <th>1</th>\n",
       "      <td>58005463.0</td>\n",
       "      <td>Africa</td>\n",
       "      <td>Tanzania</td>\n",
       "      <td>TZA</td>\n",
       "      <td>63177</td>\n",
       "      <td>POLYGON ((33.90371 -0.95000, 34.07262 -1.05982...</td>\n",
       "    </tr>\n",
       "    <tr>\n",
       "      <th>2</th>\n",
       "      <td>603253.0</td>\n",
       "      <td>Africa</td>\n",
       "      <td>W. Sahara</td>\n",
       "      <td>ESH</td>\n",
       "      <td>907</td>\n",
       "      <td>POLYGON ((-8.66559 27.65643, -8.66512 27.58948...</td>\n",
       "    </tr>\n",
       "    <tr>\n",
       "      <th>3</th>\n",
       "      <td>37589262.0</td>\n",
       "      <td>North America</td>\n",
       "      <td>Canada</td>\n",
       "      <td>CAN</td>\n",
       "      <td>1736425</td>\n",
       "      <td>MULTIPOLYGON (((-122.84000 49.00000, -122.9742...</td>\n",
       "    </tr>\n",
       "    <tr>\n",
       "      <th>4</th>\n",
       "      <td>328239523.0</td>\n",
       "      <td>North America</td>\n",
       "      <td>United States of America</td>\n",
       "      <td>USA</td>\n",
       "      <td>21433226</td>\n",
       "      <td>MULTIPOLYGON (((-122.84000 49.00000, -120.0000...</td>\n",
       "    </tr>\n",
       "  </tbody>\n",
       "</table>\n",
       "</div>"
      ],
      "text/plain": [
       "       pop_est      continent                      name iso_a3  gdp_md_est  \\\n",
       "0     889953.0        Oceania                      Fiji    FJI        5496   \n",
       "1   58005463.0         Africa                  Tanzania    TZA       63177   \n",
       "2     603253.0         Africa                 W. Sahara    ESH         907   \n",
       "3   37589262.0  North America                    Canada    CAN     1736425   \n",
       "4  328239523.0  North America  United States of America    USA    21433226   \n",
       "\n",
       "                                            geometry  \n",
       "0  MULTIPOLYGON (((180.00000 -16.06713, 180.00000...  \n",
       "1  POLYGON ((33.90371 -0.95000, 34.07262 -1.05982...  \n",
       "2  POLYGON ((-8.66559 27.65643, -8.66512 27.58948...  \n",
       "3  MULTIPOLYGON (((-122.84000 49.00000, -122.9742...  \n",
       "4  MULTIPOLYGON (((-122.84000 49.00000, -120.0000...  "
      ]
     },
     "execution_count": 23,
     "metadata": {},
     "output_type": "execute_result"
    }
   ],
   "source": [
    "### Récupérer la carte de base, qui est aussi un DataFrame GeoPandas\n",
    "world_filepath = gpd.datasets.get_path('naturalearth_lowres')\n",
    "world = gpd.read_file(world_filepath)\n",
    "world.head()"
   ]
  },
  {
   "cell_type": "code",
   "execution_count": 8,
   "id": "036b65a9-0ab1-405c-be38-300df86c9000",
   "metadata": {},
   "outputs": [
    {
     "name": "stdout",
     "output_type": "stream",
     "text": [
      "<Geographic 2D CRS: EPSG:4326>\n",
      "Name: WGS 84\n",
      "Axis Info [ellipsoidal]:\n",
      "- Lat[north]: Geodetic latitude (degree)\n",
      "- Lon[east]: Geodetic longitude (degree)\n",
      "Area of Use:\n",
      "- name: World.\n",
      "- bounds: (-180.0, -90.0, 180.0, 90.0)\n",
      "Datum: World Geodetic System 1984 ensemble\n",
      "- Ellipsoid: WGS 84\n",
      "- Prime Meridian: Greenwich\n",
      "\n",
      "-------\n",
      "\n",
      "<Geographic 2D CRS: EPSG:4326>\n",
      "Name: WGS 84\n",
      "Axis Info [ellipsoidal]:\n",
      "- Lat[north]: Geodetic latitude (degree)\n",
      "- Lon[east]: Geodetic longitude (degree)\n",
      "Area of Use:\n",
      "- name: World.\n",
      "- bounds: (-180.0, -90.0, 180.0, 90.0)\n",
      "Datum: World Geodetic System 1984 ensemble\n",
      "- Ellipsoid: WGS 84\n",
      "- Prime Meridian: Greenwich\n",
      "\n"
     ]
    }
   ],
   "source": [
    "### Types de géométries\n",
    "pprint.pp(world.crs)\n",
    "print('-------\\n')\n",
    "pprint.pp(birth_gdf.crs)"
   ]
  },
  {
   "cell_type": "code",
   "execution_count": 54,
   "id": "3b657706-fba2-4cde-b1bb-76cde5c78c5c",
   "metadata": {},
   "outputs": [
    {
     "ename": "SyntaxError",
     "evalue": "invalid syntax (1354445732.py, line 10)",
     "output_type": "error",
     "traceback": [
      "\u001b[0;36m  Cell \u001b[0;32mIn[54], line 10\u001b[0;36m\u001b[0m\n\u001b[0;31m    birth_gdf.plot(ax=ax, color=\"red\", markersize=0.5) ll\u001b[0m\n\u001b[0m                                                       ^\u001b[0m\n\u001b[0;31mSyntaxError\u001b[0m\u001b[0;31m:\u001b[0m invalid syntax\n"
     ]
    }
   ],
   "source": [
    "### Cartographier de toutes les naissances de personnes\n",
    "# projection géographique\n",
    "\n",
    "ax = world.plot(color=\"white\", edgecolor=\"black\", figsize=(15,10))\n",
    "\n",
    "#ax.set_xlim([-0.1, 2])\n",
    "ax.set_ylim([-60, 90])\n",
    "\n",
    "# Noter que le diamètre du marqueur est fixe\n",
    "birth_gdf.plot(ax=ax, color=\"red\", markersize=0.5) ll\n",
    "\n",
    "plt.show()"
   ]
  },
  {
   "cell_type": "code",
   "execution_count": 53,
   "id": "96f61025-408c-4d31-a113-e7aedf5a0afb",
   "metadata": {},
   "outputs": [
    {
     "ename": "SyntaxError",
     "evalue": "invalid syntax (3363901239.py, line 9)",
     "output_type": "error",
     "traceback": [
      "\u001b[0;36m  Cell \u001b[0;32mIn[53], line 9\u001b[0;36m\u001b[0m\n\u001b[0;31m    birth_gdf.plot(ax=ax, color=\"red\", markersize=birth_gdf.eff) ll\u001b[0m\n\u001b[0m                                                                 ^\u001b[0m\n\u001b[0;31mSyntaxError\u001b[0m\u001b[0;31m:\u001b[0m invalid syntax\n"
     ]
    }
   ],
   "source": [
    "ax = world.plot(color=\"white\", edgecolor=\"black\", figsize=(15,10))\n",
    "\n",
    "# lon\n",
    "ax.set_xlim([-20, 25])\n",
    "# lat\n",
    "ax.set_ylim([0, 40])\n",
    "\n",
    "# Noter que le diamètre du marqueur est proportionnel aux effectifs du lieu\n",
    "birth_gdf.plot(ax=ax, color=\"red\", markersize=birth_gdf.eff) ll\n"
   ]
  },
  {
   "cell_type": "code",
   "execution_count": 16,
   "id": "21069e07-89f5-4bfb-8a3d-c388bd6c8205",
   "metadata": {},
   "outputs": [
    {
     "name": "stdout",
     "output_type": "stream",
     "text": [
      "<Projected CRS: EPSG:900913>\n",
      "Name: Google Maps Global Mercator\n",
      "Axis Info [cartesian]:\n",
      "- X[east]: Easting (metre)\n",
      "- Y[north]: Northing (metre)\n",
      "Area of Use:\n",
      "- name: World between 85.06°S and 85.06°N.\n",
      "- bounds: (-180.0, -85.06, 180.0, 85.06)\n",
      "Coordinate Operation:\n",
      "- name: Popular Visualisation Pseudo-Mercator\n",
      "- method: Popular Visualisation Pseudo Mercator\n",
      "Datum: World Geodetic System 1984 ensemble\n",
      "- Ellipsoid: WGS 84\n",
      "- Prime Meridian: Greenwich\n",
      "\n",
      "------\n",
      "<Projected CRS: EPSG:900913>\n",
      "Name: Google Maps Global Mercator\n",
      "Axis Info [cartesian]:\n",
      "- X[east]: Easting (metre)\n",
      "- Y[north]: Northing (metre)\n",
      "Area of Use:\n",
      "- name: World between 85.06°S and 85.06°N.\n",
      "- bounds: (-180.0, -85.06, 180.0, 85.06)\n",
      "Coordinate Operation:\n",
      "- name: Popular Visualisation Pseudo-Mercator\n",
      "- method: Popular Visualisation Pseudo Mercator\n",
      "Datum: World Geodetic System 1984 ensemble\n",
      "- Ellipsoid: WGS 84\n",
      "- Prime Meridian: Greenwich\n",
      "\n"
     ]
    }
   ],
   "source": [
    "prj_world = world.copy(deep=True)\n",
    "prj_world.geometry = prj_world.geometry.to_crs(900913)\n",
    "pprint.pp(prj_world.crs)\n",
    "print('------')\n",
    "prj_birth_gdf = birth_gdf.copy(deep=True)\n",
    "prj_birth_gdf.geometry = prj_birth_gdf.geometry.to_crs(900913)\n",
    "pprint.pp(prj_birth_gdf.crs)"
   ]
  },
  {
   "cell_type": "code",
   "execution_count": 55,
   "id": "f7e8e218-046f-4e9c-a529-f7b4b9fa6eb0",
   "metadata": {},
   "outputs": [
    {
     "ename": "SyntaxError",
     "evalue": "invalid syntax (970023186.py, line 13)",
     "output_type": "error",
     "traceback": [
      "\u001b[0;36m  Cell \u001b[0;32mIn[55], line 13\u001b[0;36m\u001b[0m\n\u001b[0;31m    prj_birth_gdf.plot(ax=axes[1], color=\"red\", markersize=2) ll\u001b[0m\n\u001b[0m                                                              ^\u001b[0m\n\u001b[0;31mSyntaxError\u001b[0m\u001b[0;31m:\u001b[0m invalid syntax\n"
     ]
    }
   ],
   "source": [
    "fig, axes = plt.subplots(nrows=1, ncols=2, figsize=(30,20))\n",
    "\n",
    "ax1 = world.plot(color=\"white\", ax=axes[0], edgecolor=\"black\")\n",
    "#ax.set_xlim([-0.1, 2])\n",
    "ax1.set_ylim([-60, 90])\n",
    "\n",
    "birth_gdf.plot(ax=axes[0], color=\"red\", markersize=2)\n",
    "\n",
    "ax2 = prj_world.plot(color=\"white\", ax=axes[1], edgecolor=\"black\")\n",
    "#ax.set_xlim([-0.1, 2])\n",
    "ax2.set_ylim([-8.5*10e5, 1.5*10e6])\n",
    "\n",
    "prj_birth_gdf.plot(ax=axes[1], color=\"red\", markersize=2) ll\n",
    "\n"
   ]
  },
  {
   "cell_type": "markdown",
   "id": "54c5b017-3977-4223-a4d1-3eb196383ce6",
   "metadata": {},
   "source": [
    "# Cartes avec périodes donc évolutive"
   ]
  },
  {
   "cell_type": "code",
   "execution_count": 4,
   "id": "91986cf2-4294-4580-9676-6ee670196070",
   "metadata": {},
   "outputs": [
    {
     "data": {
      "text/html": [
       "<div>\n",
       "<style scoped>\n",
       "    .dataframe tbody tr th:only-of-type {\n",
       "        vertical-align: middle;\n",
       "    }\n",
       "\n",
       "    .dataframe tbody tr th {\n",
       "        vertical-align: top;\n",
       "    }\n",
       "\n",
       "    .dataframe thead th {\n",
       "        text-align: right;\n",
       "    }\n",
       "</style>\n",
       "<table border=\"1\" class=\"dataframe\">\n",
       "  <thead>\n",
       "    <tr style=\"text-align: right;\">\n",
       "      <th></th>\n",
       "      <th>annee_naissance</th>\n",
       "      <th>fk_lieu</th>\n",
       "      <th>lieu_naissance</th>\n",
       "      <th>geo_coord</th>\n",
       "    </tr>\n",
       "  </thead>\n",
       "  <tbody>\n",
       "    <tr>\n",
       "      <th>0</th>\n",
       "      <td>1816</td>\n",
       "      <td>http://www.wikidata.org/entity/Q3933</td>\n",
       "      <td>Celle</td>\n",
       "      <td>Point(10.0825 52.625555555)</td>\n",
       "    </tr>\n",
       "    <tr>\n",
       "      <th>1</th>\n",
       "      <td>1816</td>\n",
       "      <td>http://www.wikidata.org/entity/Q10531743</td>\n",
       "      <td>Härnösands domkyrkoförsamling</td>\n",
       "      <td>Point(17.941886111 62.631063888)</td>\n",
       "    </tr>\n",
       "  </tbody>\n",
       "</table>\n",
       "</div>"
      ],
      "text/plain": [
       "   annee_naissance                                   fk_lieu  \\\n",
       "0             1816      http://www.wikidata.org/entity/Q3933   \n",
       "1             1816  http://www.wikidata.org/entity/Q10531743   \n",
       "\n",
       "                  lieu_naissance                         geo_coord  \n",
       "0                          Celle       Point(10.0825 52.625555555)  \n",
       "1  Härnösands domkyrkoförsamling  Point(17.941886111 62.631063888)  "
      ]
     },
     "execution_count": 4,
     "metadata": {},
     "output_type": "execute_result"
    }
   ],
   "source": [
    "data2 = pd.read_csv(\"CSV/analyse_personne_spatiale_2.csv\")\n",
    "data2.head(2)"
   ]
  },
  {
   "cell_type": "code",
   "execution_count": 5,
   "id": "398aac77-c076-4518-88a4-c8217d83baa8",
   "metadata": {},
   "outputs": [
    {
     "name": "stdout",
     "output_type": "stream",
     "text": [
      "[1801, 1826, 1851, 1876, 1901, 1926, 1951, 1976, 2001]\n"
     ]
    }
   ],
   "source": [
    "l1 = [1801,1826,1851,1876,1901,1926,1951,1976,2001]\n",
    "print(l1)"
   ]
  },
  {
   "cell_type": "code",
   "execution_count": 6,
   "id": "2f06c203-deee-41f2-9bc0-f5a0b85b07db",
   "metadata": {},
   "outputs": [
    {
     "data": {
      "text/html": [
       "<div>\n",
       "<style scoped>\n",
       "    .dataframe tbody tr th:only-of-type {\n",
       "        vertical-align: middle;\n",
       "    }\n",
       "\n",
       "    .dataframe tbody tr th {\n",
       "        vertical-align: top;\n",
       "    }\n",
       "\n",
       "    .dataframe thead th {\n",
       "        text-align: right;\n",
       "    }\n",
       "</style>\n",
       "<table border=\"1\" class=\"dataframe\">\n",
       "  <thead>\n",
       "    <tr style=\"text-align: right;\">\n",
       "      <th></th>\n",
       "      <th>annee_naissance</th>\n",
       "      <th>fk_lieu</th>\n",
       "      <th>lieu_naissance</th>\n",
       "      <th>geo_coord</th>\n",
       "      <th>generations</th>\n",
       "    </tr>\n",
       "  </thead>\n",
       "  <tbody>\n",
       "    <tr>\n",
       "      <th>0</th>\n",
       "      <td>1816</td>\n",
       "      <td>http://www.wikidata.org/entity/Q3933</td>\n",
       "      <td>Celle</td>\n",
       "      <td>Point(10.0825 52.625555555)</td>\n",
       "      <td>1801-1825</td>\n",
       "    </tr>\n",
       "    <tr>\n",
       "      <th>1</th>\n",
       "      <td>1816</td>\n",
       "      <td>http://www.wikidata.org/entity/Q10531743</td>\n",
       "      <td>Härnösands domkyrkoförsamling</td>\n",
       "      <td>Point(17.941886111 62.631063888)</td>\n",
       "      <td>1801-1825</td>\n",
       "    </tr>\n",
       "    <tr>\n",
       "      <th>2</th>\n",
       "      <td>1816</td>\n",
       "      <td>http://www.wikidata.org/entity/Q487070</td>\n",
       "      <td>Dessau</td>\n",
       "      <td>Point(12.246111111 51.834166666)</td>\n",
       "      <td>1801-1825</td>\n",
       "    </tr>\n",
       "  </tbody>\n",
       "</table>\n",
       "</div>"
      ],
      "text/plain": [
       "   annee_naissance                                   fk_lieu  \\\n",
       "0             1816      http://www.wikidata.org/entity/Q3933   \n",
       "1             1816  http://www.wikidata.org/entity/Q10531743   \n",
       "2             1816    http://www.wikidata.org/entity/Q487070   \n",
       "\n",
       "                  lieu_naissance                         geo_coord generations  \n",
       "0                          Celle       Point(10.0825 52.625555555)   1801-1825  \n",
       "1  Härnösands domkyrkoförsamling  Point(17.941886111 62.631063888)   1801-1825  \n",
       "2                         Dessau  Point(12.246111111 51.834166666)   1801-1825  "
      ]
     },
     "execution_count": 6,
     "metadata": {},
     "output_type": "execute_result"
    }
   ],
   "source": [
    "data2['annee_naissance'] = data2['annee_naissance'].astype(int)\n",
    "data2['generations'] = pd.cut(data2['annee_naissance'], l1, right=False)\n",
    "\n",
    "### Transformer le code ajouté pour qu'il soit plus lisible\n",
    "# noter qu'on a arrondi les valeurs\n",
    "data2['generations'] = data2['generations'].apply(lambda x : str(int(x.left))+'-'+ str(int(x.right)-1))\n",
    "\n",
    "# Inspection\n",
    "data2.head(3)"
   ]
  },
  {
   "cell_type": "code",
   "execution_count": 8,
   "id": "bebae723-68e2-4f44-8402-54b9ebe93a7a",
   "metadata": {},
   "outputs": [
    {
     "data": {
      "text/plain": [
       "Text(0.5, 1.0, 'Naissances par générations')"
      ]
     },
     "execution_count": 8,
     "metadata": {},
     "output_type": "execute_result"
    },
    {
     "data": {
      "image/png": "[encoded data removed]",
      "text/plain": [
       "<Figure size 800x700 with 1 Axes>"
      ]
     },
     "metadata": {},
     "output_type": "display_data"
    }
   ],
   "source": [
    "#peut-être revoir les générations\n",
    "ax = data2.groupby(by='generations', observed=True).size().plot(kind='bar',\n",
    "                                            rot=60, fontsize=9, figsize=(8,7))\n",
    "ax.bar_label(ax.containers[0], fontsize=9)\n",
    "plt.ylabel('Effectif')\n",
    "plt.xlabel('Périodes')\n",
    "plt.title('Naissances par générations')\n",
    "##plt.show()"
   ]
  },
  {
   "cell_type": "code",
   "execution_count": 9,
   "id": "0ecc0f84-dd44-46f8-8f4d-c5a5dce9bbdc",
   "metadata": {},
   "outputs": [
    {
     "data": {
      "text/plain": [
       "<sqlite3.Connection at 0x110735a80>"
      ]
     },
     "execution_count": 9,
     "metadata": {},
     "output_type": "execute_result"
    }
   ],
   "source": [
    "cn = sql.connect('../base_donnee/S_2_militant.db')\n",
    "cn"
   ]
  },
  {
   "cell_type": "code",
   "execution_count": 11,
   "id": "c79bcd7b-0e00-4ed6-b32b-c7bda2fa257a",
   "metadata": {},
   "outputs": [],
   "source": [
    "try:\n",
    "    l = data2[['generations', 'fk_lieu', 'lieu_naissance', 'geo_coord']]\\\n",
    "             .to_sql(name='wdt_generations_birth_place2', con=cn, if_exists='fail')\n",
    "except Exception as e:\n",
    "    print('Erreur: ',  e)"
   ]
  },
  {
   "cell_type": "code",
   "execution_count": 27,
   "id": "56cc8b77-f7a1-488d-8bb0-39b8e4247728",
   "metadata": {},
   "outputs": [
    {
     "data": {
      "text/html": [
       "<div>\n",
       "<style scoped>\n",
       "    .dataframe tbody tr th:only-of-type {\n",
       "        vertical-align: middle;\n",
       "    }\n",
       "\n",
       "    .dataframe tbody tr th {\n",
       "        vertical-align: top;\n",
       "    }\n",
       "\n",
       "    .dataframe thead th {\n",
       "        text-align: right;\n",
       "    }\n",
       "</style>\n",
       "<table border=\"1\" class=\"dataframe\">\n",
       "  <thead>\n",
       "    <tr style=\"text-align: right;\">\n",
       "      <th></th>\n",
       "      <th>generations</th>\n",
       "      <th>lieu_naissance</th>\n",
       "      <th>geo_coord</th>\n",
       "      <th>effectif</th>\n",
       "      <th>long</th>\n",
       "      <th>lat</th>\n",
       "    </tr>\n",
       "  </thead>\n",
       "  <tbody>\n",
       "    <tr>\n",
       "      <th>0</th>\n",
       "      <td>1801-1825</td>\n",
       "      <td>Boston</td>\n",
       "      <td>-71.057777777 42.360277777</td>\n",
       "      <td>1</td>\n",
       "      <td>-71.0578</td>\n",
       "      <td>42.3603</td>\n",
       "    </tr>\n",
       "    <tr>\n",
       "      <th>1</th>\n",
       "      <td>1801-1825</td>\n",
       "      <td>Stowe</td>\n",
       "      <td>-1.017 52.018</td>\n",
       "      <td>1</td>\n",
       "      <td>-1.0170</td>\n",
       "      <td>52.0180</td>\n",
       "    </tr>\n",
       "    <tr>\n",
       "      <th>2</th>\n",
       "      <td>1801-1825</td>\n",
       "      <td>Stuttgart</td>\n",
       "      <td>9.18 48.7775</td>\n",
       "      <td>1</td>\n",
       "      <td>9.1800</td>\n",
       "      <td>48.7775</td>\n",
       "    </tr>\n",
       "    <tr>\n",
       "      <th>3</th>\n",
       "      <td>1801-1825</td>\n",
       "      <td>Härnösands domkyrkoförsamling</td>\n",
       "      <td>17.941886111 62.631063888</td>\n",
       "      <td>1</td>\n",
       "      <td>17.9419</td>\n",
       "      <td>62.6311</td>\n",
       "    </tr>\n",
       "    <tr>\n",
       "      <th>4</th>\n",
       "      <td>1801-1825</td>\n",
       "      <td>Q10718453</td>\n",
       "      <td>16.573888888 57.658888888</td>\n",
       "      <td>1</td>\n",
       "      <td>16.5739</td>\n",
       "      <td>57.6589</td>\n",
       "    </tr>\n",
       "  </tbody>\n",
       "</table>\n",
       "</div>"
      ],
      "text/plain": [
       "  generations                 lieu_naissance                   geo_coord  \\\n",
       "0   1801-1825                         Boston  -71.057777777 42.360277777   \n",
       "1   1801-1825                          Stowe               -1.017 52.018   \n",
       "2   1801-1825                      Stuttgart                9.18 48.7775   \n",
       "3   1801-1825  Härnösands domkyrkoförsamling   17.941886111 62.631063888   \n",
       "4   1801-1825                      Q10718453   16.573888888 57.658888888   \n",
       "\n",
       "   effectif     long      lat  \n",
       "0         1 -71.0578  42.3603  \n",
       "1         1  -1.0170  52.0180  \n",
       "2         1   9.1800  48.7775  \n",
       "3         1  17.9419  62.6311  \n",
       "4         1  16.5739  57.6589  "
      ]
     },
     "execution_count": 27,
     "metadata": {},
     "output_type": "execute_result"
    }
   ],
   "source": [
    "df_gen_gr=pd.read_csv(\"CSV/analyse_personne_spatiale_4.csv\")\n",
    "df_gen_gr.geo_coord = df_gen_gr.geo_coord.apply(lambda x: x.replace('Point(', '')\\\n",
    "                                .replace(')',''))\n",
    "df_gen_gr['long'] = df_gen_gr.geo_coord\\\n",
    "    .apply(lambda x: round(float((x.split(' ')[0])), 4))\n",
    "df_gen_gr['lat'] = df_gen_gr.geo_coord\\\n",
    "    .apply(lambda x: round(float((x.split(' ')[1])), 4))\n",
    "\n",
    "df_gen_gr.head()"
   ]
  },
  {
   "cell_type": "code",
   "execution_count": 17,
   "id": "fd6a78a6-468c-4df7-b9fc-e9fa36678028",
   "metadata": {},
   "outputs": [],
   "source": [
    "size = [s if s != 0 else 0 for s in df_gen_gr.effectif]\n",
    "\n",
    "fig = px.scatter_geo(\n",
    "    df_gen_gr,\n",
    "    lat=\"lat\",\n",
    "    lon=\"long\",\n",
    "    size=size,\n",
    "    hover_name = \"lieu_naissance\",\n",
    "    animation_frame=\"generations\",\n",
    "    width=1400, height=600,\n",
    "    color_discrete_sequence=['red'],\n",
    "    title=\"Evolution des lieux de naissance\"\n",
    ").update_layout(\n",
    "        margin={\"l\": 0, \"r\": 20, \"t\": 30, \"b\": 0}\n",
    ")\n",
    "\n",
    "# On peut ici augmenter la durée des étapes\n",
    "fig.layout.updatemenus[0].buttons[0].args[1][\"frame\"][\"duration\"] = 1500\n",
    "\n",
    "### Noter qu'on enregistre l'image afin de pouvoir l'ouvrir dans un navigateur\n",
    "f_address = \"images/birth_places_points.html\"\n",
    "## Carte mise dans le dossier images."
   ]
  },
  {
   "cell_type": "markdown",
   "id": "e204064e-0ce7-45ec-afa7-a25e1c889a44",
   "metadata": {},
   "source": [
    "## Grouper et compter les naissances par État contemporain\n"
   ]
  },
  {
   "cell_type": "code",
   "execution_count": 37,
   "id": "f8841233-198c-410e-bcbd-1465da136ed0",
   "metadata": {},
   "outputs": [
    {
     "name": "stdout",
     "output_type": "stream",
     "text": [
      "177\n"
     ]
    },
    {
     "data": {
      "text/html": [
       "<div>\n",
       "<style scoped>\n",
       "    .dataframe tbody tr th:only-of-type {\n",
       "        vertical-align: middle;\n",
       "    }\n",
       "\n",
       "    .dataframe tbody tr th {\n",
       "        vertical-align: top;\n",
       "    }\n",
       "\n",
       "    .dataframe thead th {\n",
       "        text-align: right;\n",
       "    }\n",
       "</style>\n",
       "<table border=\"1\" class=\"dataframe\">\n",
       "  <thead>\n",
       "    <tr style=\"text-align: right;\">\n",
       "      <th></th>\n",
       "      <th>pop_est</th>\n",
       "      <th>continent</th>\n",
       "      <th>name</th>\n",
       "      <th>iso_a3</th>\n",
       "      <th>gdp_md_est</th>\n",
       "      <th>geometry</th>\n",
       "    </tr>\n",
       "  </thead>\n",
       "  <tbody>\n",
       "    <tr>\n",
       "      <th>0</th>\n",
       "      <td>889953.0</td>\n",
       "      <td>Oceania</td>\n",
       "      <td>Fiji</td>\n",
       "      <td>FJI</td>\n",
       "      <td>5496</td>\n",
       "      <td>MULTIPOLYGON (((180.00000 -16.06713, 180.00000...</td>\n",
       "    </tr>\n",
       "    <tr>\n",
       "      <th>1</th>\n",
       "      <td>58005463.0</td>\n",
       "      <td>Africa</td>\n",
       "      <td>Tanzania</td>\n",
       "      <td>TZA</td>\n",
       "      <td>63177</td>\n",
       "      <td>POLYGON ((33.90371 -0.95000, 34.07262 -1.05982...</td>\n",
       "    </tr>\n",
       "    <tr>\n",
       "      <th>2</th>\n",
       "      <td>603253.0</td>\n",
       "      <td>Africa</td>\n",
       "      <td>W. Sahara</td>\n",
       "      <td>ESH</td>\n",
       "      <td>907</td>\n",
       "      <td>POLYGON ((-8.66559 27.65643, -8.66512 27.58948...</td>\n",
       "    </tr>\n",
       "    <tr>\n",
       "      <th>3</th>\n",
       "      <td>37589262.0</td>\n",
       "      <td>North America</td>\n",
       "      <td>Canada</td>\n",
       "      <td>CAN</td>\n",
       "      <td>1736425</td>\n",
       "      <td>MULTIPOLYGON (((-122.84000 49.00000, -122.9742...</td>\n",
       "    </tr>\n",
       "    <tr>\n",
       "      <th>4</th>\n",
       "      <td>328239523.0</td>\n",
       "      <td>North America</td>\n",
       "      <td>United States of America</td>\n",
       "      <td>USA</td>\n",
       "      <td>21433226</td>\n",
       "      <td>MULTIPOLYGON (((-122.84000 49.00000, -120.0000...</td>\n",
       "    </tr>\n",
       "  </tbody>\n",
       "</table>\n",
       "</div>"
      ],
      "text/plain": [
       "       pop_est      continent                      name iso_a3  gdp_md_est  \\\n",
       "0     889953.0        Oceania                      Fiji    FJI        5496   \n",
       "1   58005463.0         Africa                  Tanzania    TZA       63177   \n",
       "2     603253.0         Africa                 W. Sahara    ESH         907   \n",
       "3   37589262.0  North America                    Canada    CAN     1736425   \n",
       "4  328239523.0  North America  United States of America    USA    21433226   \n",
       "\n",
       "                                            geometry  \n",
       "0  MULTIPOLYGON (((180.00000 -16.06713, 180.00000...  \n",
       "1  POLYGON ((33.90371 -0.95000, 34.07262 -1.05982...  \n",
       "2  POLYGON ((-8.66559 27.65643, -8.66512 27.58948...  \n",
       "3  MULTIPOLYGON (((-122.84000 49.00000, -122.9742...  \n",
       "4  MULTIPOLYGON (((-122.84000 49.00000, -120.0000...  "
      ]
     },
     "execution_count": 37,
     "metadata": {},
     "output_type": "execute_result"
    }
   ],
   "source": [
    "### Polygones des États contemporains\n",
    "print(len(world))\n",
    "world.head()"
   ]
  },
  {
   "cell_type": "code",
   "execution_count": 24,
   "id": "f288c61c-5214-4425-939c-3a5d91fdb09f",
   "metadata": {},
   "outputs": [
    {
     "data": {
      "text/html": [
       "<div>\n",
       "<style scoped>\n",
       "    .dataframe tbody tr th:only-of-type {\n",
       "        vertical-align: middle;\n",
       "    }\n",
       "\n",
       "    .dataframe tbody tr th {\n",
       "        vertical-align: top;\n",
       "    }\n",
       "\n",
       "    .dataframe thead th {\n",
       "        text-align: right;\n",
       "    }\n",
       "</style>\n",
       "<table border=\"1\" class=\"dataframe\">\n",
       "  <thead>\n",
       "    <tr style=\"text-align: right;\">\n",
       "      <th></th>\n",
       "      <th>name</th>\n",
       "      <th>geometry</th>\n",
       "    </tr>\n",
       "  </thead>\n",
       "  <tbody>\n",
       "    <tr>\n",
       "      <th>0</th>\n",
       "      <td>Fiji</td>\n",
       "      <td>MULTIPOLYGON (((180.00000 -16.06713, 180.00000...</td>\n",
       "    </tr>\n",
       "    <tr>\n",
       "      <th>1</th>\n",
       "      <td>Tanzania</td>\n",
       "      <td>POLYGON ((33.90371 -0.95000, 34.07262 -1.05982...</td>\n",
       "    </tr>\n",
       "    <tr>\n",
       "      <th>2</th>\n",
       "      <td>W. Sahara</td>\n",
       "      <td>POLYGON ((-8.66559 27.65643, -8.66512 27.58948...</td>\n",
       "    </tr>\n",
       "    <tr>\n",
       "      <th>3</th>\n",
       "      <td>Canada</td>\n",
       "      <td>MULTIPOLYGON (((-122.84000 49.00000, -122.9742...</td>\n",
       "    </tr>\n",
       "    <tr>\n",
       "      <th>4</th>\n",
       "      <td>United States of America</td>\n",
       "      <td>MULTIPOLYGON (((-122.84000 49.00000, -120.0000...</td>\n",
       "    </tr>\n",
       "    <tr>\n",
       "      <th>...</th>\n",
       "      <td>...</td>\n",
       "      <td>...</td>\n",
       "    </tr>\n",
       "    <tr>\n",
       "      <th>172</th>\n",
       "      <td>Serbia</td>\n",
       "      <td>POLYGON ((18.82982 45.90887, 18.82984 45.90888...</td>\n",
       "    </tr>\n",
       "    <tr>\n",
       "      <th>173</th>\n",
       "      <td>Montenegro</td>\n",
       "      <td>POLYGON ((20.07070 42.58863, 19.80161 42.50009...</td>\n",
       "    </tr>\n",
       "    <tr>\n",
       "      <th>174</th>\n",
       "      <td>Kosovo</td>\n",
       "      <td>POLYGON ((20.59025 41.85541, 20.52295 42.21787...</td>\n",
       "    </tr>\n",
       "    <tr>\n",
       "      <th>175</th>\n",
       "      <td>Trinidad and Tobago</td>\n",
       "      <td>POLYGON ((-61.68000 10.76000, -61.10500 10.890...</td>\n",
       "    </tr>\n",
       "    <tr>\n",
       "      <th>176</th>\n",
       "      <td>S. Sudan</td>\n",
       "      <td>POLYGON ((30.83385 3.50917, 29.95350 4.17370, ...</td>\n",
       "    </tr>\n",
       "  </tbody>\n",
       "</table>\n",
       "<p>177 rows × 2 columns</p>\n",
       "</div>"
      ],
      "text/plain": [
       "                         name  \\\n",
       "0                        Fiji   \n",
       "1                    Tanzania   \n",
       "2                   W. Sahara   \n",
       "3                      Canada   \n",
       "4    United States of America   \n",
       "..                        ...   \n",
       "172                    Serbia   \n",
       "173                Montenegro   \n",
       "174                    Kosovo   \n",
       "175       Trinidad and Tobago   \n",
       "176                  S. Sudan   \n",
       "\n",
       "                                              geometry  \n",
       "0    MULTIPOLYGON (((180.00000 -16.06713, 180.00000...  \n",
       "1    POLYGON ((33.90371 -0.95000, 34.07262 -1.05982...  \n",
       "2    POLYGON ((-8.66559 27.65643, -8.66512 27.58948...  \n",
       "3    MULTIPOLYGON (((-122.84000 49.00000, -122.9742...  \n",
       "4    MULTIPOLYGON (((-122.84000 49.00000, -120.0000...  \n",
       "..                                                 ...  \n",
       "172  POLYGON ((18.82982 45.90887, 18.82984 45.90888...  \n",
       "173  POLYGON ((20.07070 42.58863, 19.80161 42.50009...  \n",
       "174  POLYGON ((20.59025 41.85541, 20.52295 42.21787...  \n",
       "175  POLYGON ((-61.68000 10.76000, -61.10500 10.890...  \n",
       "176  POLYGON ((30.83385 3.50917, 29.95350 4.17370, ...  \n",
       "\n",
       "[177 rows x 2 columns]"
      ]
     },
     "execution_count": 24,
     "metadata": {},
     "output_type": "execute_result"
    }
   ],
   "source": [
    "world_s = world[['name','geometry']].copy(deep=True)\n",
    "world_s"
   ]
  },
  {
   "cell_type": "code",
   "execution_count": 25,
   "id": "a678ba2a-dbe8-472c-9497-2a28eb987231",
   "metadata": {},
   "outputs": [
    {
     "data": {
      "text/html": [
       "<div>\n",
       "<style scoped>\n",
       "    .dataframe tbody tr th:only-of-type {\n",
       "        vertical-align: middle;\n",
       "    }\n",
       "\n",
       "    .dataframe tbody tr th {\n",
       "        vertical-align: top;\n",
       "    }\n",
       "\n",
       "    .dataframe thead th {\n",
       "        text-align: right;\n",
       "    }\n",
       "</style>\n",
       "<table border=\"1\" class=\"dataframe\">\n",
       "  <thead>\n",
       "    <tr style=\"text-align: right;\">\n",
       "      <th></th>\n",
       "      <th>generations</th>\n",
       "      <th>lieu_naissance</th>\n",
       "      <th>effectif</th>\n",
       "      <th>geometry</th>\n",
       "    </tr>\n",
       "  </thead>\n",
       "  <tbody>\n",
       "    <tr>\n",
       "      <th>0</th>\n",
       "      <td>1801-1825</td>\n",
       "      <td>Boston</td>\n",
       "      <td>1</td>\n",
       "      <td>POINT (-71.05780 42.36030)</td>\n",
       "    </tr>\n",
       "    <tr>\n",
       "      <th>1</th>\n",
       "      <td>1801-1825</td>\n",
       "      <td>Stowe</td>\n",
       "      <td>1</td>\n",
       "      <td>POINT (-1.01700 52.01800)</td>\n",
       "    </tr>\n",
       "    <tr>\n",
       "      <th>2</th>\n",
       "      <td>1801-1825</td>\n",
       "      <td>Stuttgart</td>\n",
       "      <td>1</td>\n",
       "      <td>POINT (9.18000 48.77750)</td>\n",
       "    </tr>\n",
       "  </tbody>\n",
       "</table>\n",
       "</div>"
      ],
      "text/plain": [
       "  generations lieu_naissance  effectif                    geometry\n",
       "0   1801-1825         Boston         1  POINT (-71.05780 42.36030)\n",
       "1   1801-1825          Stowe         1   POINT (-1.01700 52.01800)\n",
       "2   1801-1825      Stuttgart         1    POINT (9.18000 48.77750)"
      ]
     },
     "execution_count": 25,
     "metadata": {},
     "output_type": "execute_result"
    }
   ],
   "source": [
    "df_gen_gr_gdf = gpd.GeoDataFrame(\n",
    "    df_gen_gr[['generations', 'lieu_naissance', 'effectif']],\\\n",
    "    geometry=gpd.points_from_xy(df_gen_gr.long, df_gen_gr.lat), crs=\"EPSG:4326\"\n",
    ")\n",
    "\n",
    "df_gen_gr_gdf.head(3)"
   ]
  },
  {
   "cell_type": "code",
   "execution_count": 26,
   "id": "db95baa8-702b-4bc0-b3e0-1d877bf667b8",
   "metadata": {},
   "outputs": [
    {
     "data": {
      "text/html": [
       "<div>\n",
       "<style scoped>\n",
       "    .dataframe tbody tr th:only-of-type {\n",
       "        vertical-align: middle;\n",
       "    }\n",
       "\n",
       "    .dataframe tbody tr th {\n",
       "        vertical-align: top;\n",
       "    }\n",
       "\n",
       "    .dataframe thead th {\n",
       "        text-align: right;\n",
       "    }\n",
       "</style>\n",
       "<table border=\"1\" class=\"dataframe\">\n",
       "  <thead>\n",
       "    <tr style=\"text-align: right;\">\n",
       "      <th></th>\n",
       "      <th>generations</th>\n",
       "      <th>lieu_naissance</th>\n",
       "      <th>effectif</th>\n",
       "      <th>geometry</th>\n",
       "    </tr>\n",
       "  </thead>\n",
       "  <tbody>\n",
       "    <tr>\n",
       "      <th>36</th>\n",
       "      <td>1801-1825</td>\n",
       "      <td>London</td>\n",
       "      <td>2</td>\n",
       "      <td>POINT (-0.12750 51.50720)</td>\n",
       "    </tr>\n",
       "    <tr>\n",
       "      <th>210</th>\n",
       "      <td>1826-1850</td>\n",
       "      <td>London</td>\n",
       "      <td>3</td>\n",
       "      <td>POINT (-0.12750 51.50720)</td>\n",
       "    </tr>\n",
       "    <tr>\n",
       "      <th>595</th>\n",
       "      <td>1851-1875</td>\n",
       "      <td>London</td>\n",
       "      <td>5</td>\n",
       "      <td>POINT (-0.12750 51.50720)</td>\n",
       "    </tr>\n",
       "    <tr>\n",
       "      <th>951</th>\n",
       "      <td>1876-1900</td>\n",
       "      <td>London</td>\n",
       "      <td>4</td>\n",
       "      <td>POINT (-0.12750 51.50720)</td>\n",
       "    </tr>\n",
       "    <tr>\n",
       "      <th>1351</th>\n",
       "      <td>1901-1925</td>\n",
       "      <td>London</td>\n",
       "      <td>4</td>\n",
       "      <td>POINT (-0.12750 51.50720)</td>\n",
       "    </tr>\n",
       "    <tr>\n",
       "      <th>2190</th>\n",
       "      <td>1926-1950</td>\n",
       "      <td>London</td>\n",
       "      <td>5</td>\n",
       "      <td>POINT (-0.12750 51.50720)</td>\n",
       "    </tr>\n",
       "    <tr>\n",
       "      <th>3278</th>\n",
       "      <td>1951-1975</td>\n",
       "      <td>London</td>\n",
       "      <td>12</td>\n",
       "      <td>POINT (-0.12750 51.50720)</td>\n",
       "    </tr>\n",
       "    <tr>\n",
       "      <th>3342</th>\n",
       "      <td>1951-1975</td>\n",
       "      <td>London</td>\n",
       "      <td>1</td>\n",
       "      <td>POINT (-81.24970 42.98370)</td>\n",
       "    </tr>\n",
       "    <tr>\n",
       "      <th>4083</th>\n",
       "      <td>1976-2000</td>\n",
       "      <td>London</td>\n",
       "      <td>4</td>\n",
       "      <td>POINT (-0.12750 51.50720)</td>\n",
       "    </tr>\n",
       "  </tbody>\n",
       "</table>\n",
       "</div>"
      ],
      "text/plain": [
       "     generations lieu_naissance  effectif                    geometry\n",
       "36     1801-1825         London         2   POINT (-0.12750 51.50720)\n",
       "210    1826-1850         London         3   POINT (-0.12750 51.50720)\n",
       "595    1851-1875         London         5   POINT (-0.12750 51.50720)\n",
       "951    1876-1900         London         4   POINT (-0.12750 51.50720)\n",
       "1351   1901-1925         London         4   POINT (-0.12750 51.50720)\n",
       "2190   1926-1950         London         5   POINT (-0.12750 51.50720)\n",
       "3278   1951-1975         London        12   POINT (-0.12750 51.50720)\n",
       "3342   1951-1975         London         1  POINT (-81.24970 42.98370)\n",
       "4083   1976-2000         London         4   POINT (-0.12750 51.50720)"
      ]
     },
     "execution_count": 26,
     "metadata": {},
     "output_type": "execute_result"
    }
   ],
   "source": [
    "df_gen_gr_gdf.loc[df_gen_gr_gdf['lieu_naissance']=='London']"
   ]
  },
  {
   "cell_type": "code",
   "execution_count": 39,
   "id": "38a41bf5-90d0-4d3c-bd56-dbabf5f6e9a5",
   "metadata": {},
   "outputs": [
    {
     "ename": "SyntaxError",
     "evalue": "invalid syntax (2416546236.py, line 12)",
     "output_type": "error",
     "traceback": [
      "\u001b[0;36m  Cell \u001b[0;32mIn[39], line 12\u001b[0;36m\u001b[0m\n\u001b[0;31m    dfa[dfa.effectif > 0].sort_values(by='effectif', ascending=False).head() ll\u001b[0m\n\u001b[0m                                                                             ^\u001b[0m\n\u001b[0;31mSyntaxError\u001b[0m\u001b[0;31m:\u001b[0m invalid syntax\n"
     ]
    }
   ],
   "source": [
    "dfa = world_s.copy(deep=True)\n",
    "dfb = df_gen_gr_gdf[df_gen_gr_gdf.generations == '1801-1825']\n",
    "\n",
    "### jointure spatiale\n",
    "dfc =  gpd.sjoin(dfb, dfa).groupby(\"name\").sum(numeric_only=True)\n",
    "dfa = dfa.join(dfc, on='name', how=\"left\")\n",
    "dfa.effectif.fillna(value=0, inplace=True)\n",
    "dfa['effectif'] = dfa['effectif'].astype(int)\n",
    "\n",
    "dfa = dfa.assign(generation = '1801-1825')\n",
    "\n",
    "dfa[dfa.effectif > 0].sort_values(by='effectif', ascending=False).head() ll"
   ]
  },
  {
   "cell_type": "code",
   "execution_count": 29,
   "id": "70801cfc-b9fd-41b8-9806-3b31244ce355",
   "metadata": {},
   "outputs": [],
   "source": [
    "countries_polygons = dfa[['name', 'geometry']]\n",
    "countries_polygons.index = countries_polygons['name']\n",
    "countries_polygons = countries_polygons.drop(['name'], axis=1)\n",
    "countries_polygons_json = json.loads(countries_polygons.to_json())"
   ]
  },
  {
   "cell_type": "code",
   "execution_count": 38,
   "id": "8cc75a6b-2631-491c-8e29-2395f2f89754",
   "metadata": {},
   "outputs": [
    {
     "ename": "NameError",
     "evalue": "name 'll' is not defined",
     "output_type": "error",
     "traceback": [
      "\u001b[0;31m---------------------------------------------------------------------------\u001b[0m",
      "\u001b[0;31mNameError\u001b[0m                                 Traceback (most recent call last)",
      "Cell \u001b[0;32mIn[38], line 18\u001b[0m\n\u001b[1;32m      1\u001b[0m size \u001b[38;5;241m=\u001b[39m [s \u001b[38;5;28;01mif\u001b[39;00m s \u001b[38;5;241m!=\u001b[39m \u001b[38;5;241m0\u001b[39m \u001b[38;5;28;01melse\u001b[39;00m \u001b[38;5;241m0\u001b[39m \u001b[38;5;28;01mfor\u001b[39;00m s \u001b[38;5;129;01min\u001b[39;00m dfa\u001b[38;5;241m.\u001b[39meffectif]\n\u001b[1;32m      3\u001b[0m fig \u001b[38;5;241m=\u001b[39m px\u001b[38;5;241m.\u001b[39mchoropleth_mapbox(\n\u001b[1;32m      4\u001b[0m     dfa,\n\u001b[1;32m      5\u001b[0m     geojson\u001b[38;5;241m=\u001b[39mcountries_polygons_json,\n\u001b[0;32m   (...)\u001b[0m\n\u001b[1;32m     15\u001b[0m     title\u001b[38;5;241m=\u001b[39m\u001b[38;5;124m\"\u001b[39m\u001b[38;5;124mEvolution des lieux de naissance\u001b[39m\u001b[38;5;124m\"\u001b[39m\n\u001b[1;32m     16\u001b[0m )\n\u001b[0;32m---> 18\u001b[0m \u001b[43mll\u001b[49m\n\u001b[1;32m     19\u001b[0m \u001b[38;5;66;03m## fig.show()\u001b[39;00m\n",
      "\u001b[0;31mNameError\u001b[0m: name 'll' is not defined"
     ]
    }
   ],
   "source": [
    "size = [s if s != 0 else 0 for s in dfa.effectif]\n",
    "\n",
    "fig = px.choropleth_mapbox(\n",
    "    dfa,\n",
    "    geojson=countries_polygons_json,\n",
    "    locations=\"name\",\n",
    "    color=\"effectif\",\n",
    "    mapbox_style='white-bg',\n",
    "    zoom=1,\n",
    "    color_continuous_scale='blues',\n",
    "    ### valeur 20 définie en fonction de la distribution par pays\n",
    "    # expérimenter en changeant la valeur\n",
    "    range_color=(1, 20),\n",
    "    width=1000, height=600,\n",
    "    title=\"Evolution des lieux de naissance\"\n",
    ")\n",
    "\n",
    "ll\n",
    "## fig.show()"
   ]
  },
  {
   "cell_type": "code",
   "execution_count": 30,
   "id": "9999ed0f-bfd4-40ca-a546-80c335b26afc",
   "metadata": {},
   "outputs": [
    {
     "data": {
      "text/plain": [
       "['1801-1825',\n",
       " '1826-1850',\n",
       " '1851-1875',\n",
       " '1876-1900',\n",
       " '1901-1925',\n",
       " '1926-1950',\n",
       " '1951-1975',\n",
       " '1976-2000']"
      ]
     },
     "execution_count": 30,
     "metadata": {},
     "output_type": "execute_result"
    }
   ],
   "source": [
    "lp = df_gen_gr.groupby(by='generations').size().index.to_list()\n",
    "lp"
   ]
  },
  {
   "cell_type": "code",
   "execution_count": 37,
   "id": "1233b4e6-3529-4745-81cb-2babf2689f6f",
   "metadata": {},
   "outputs": [
    {
     "ename": "SyntaxError",
     "evalue": "invalid syntax (3189586142.py, line 20)",
     "output_type": "error",
     "traceback": [
      "\u001b[0;36m  Cell \u001b[0;32mIn[37], line 20\u001b[0;36m\u001b[0m\n\u001b[0;31m    df_result=df_result.reset_index() ll\u001b[0m\n\u001b[0m                                      ^\u001b[0m\n\u001b[0;31mSyntaxError\u001b[0m\u001b[0;31m:\u001b[0m invalid syntax\n"
     ]
    }
   ],
   "source": [
    "frames=[]\n",
    "for e in lp:\n",
    "    \n",
    "    dfa = world_s.copy(deep=True)\n",
    "    dfb = df_gen_gr_gdf[df_gen_gr_gdf.generations == e]\n",
    "    \n",
    "    ### jointure spatiale\n",
    "    dfc =  gpd.sjoin(dfb, dfa).groupby(\"name\").sum(numeric_only=True)\n",
    "    dfa = dfa.join(dfc, on='name', how=\"left\")\n",
    "    dfa.effectif.fillna(value=0, inplace=True)\n",
    "    dfa['effectif'] = dfa['effectif'].astype(int)\n",
    "\n",
    "    dfa = dfa.assign(generations = e)\n",
    "\n",
    "    frames.append(dfa)\n",
    "\n",
    "\n",
    "### Concaténation des DataFrames\n",
    "df_result = pd.concat(frames)\n",
    "df_result=df_result.reset_index() ll\n",
    "df_result.tail()"
   ]
  },
  {
   "cell_type": "code",
   "execution_count": 33,
   "id": "5f42c42a-30b3-4c4c-a86e-6860cb69292c",
   "metadata": {},
   "outputs": [
    {
     "data": {
      "text/html": [
       "<div>\n",
       "<style scoped>\n",
       "    .dataframe tbody tr th:only-of-type {\n",
       "        vertical-align: middle;\n",
       "    }\n",
       "\n",
       "    .dataframe tbody tr th {\n",
       "        vertical-align: top;\n",
       "    }\n",
       "\n",
       "    .dataframe thead th {\n",
       "        text-align: right;\n",
       "    }\n",
       "</style>\n",
       "<table border=\"1\" class=\"dataframe\">\n",
       "  <thead>\n",
       "    <tr style=\"text-align: right;\">\n",
       "      <th></th>\n",
       "      <th>index</th>\n",
       "      <th>name</th>\n",
       "      <th>geometry</th>\n",
       "      <th>effectif</th>\n",
       "      <th>index_right</th>\n",
       "      <th>generations</th>\n",
       "    </tr>\n",
       "  </thead>\n",
       "  <tbody>\n",
       "    <tr>\n",
       "      <th>43</th>\n",
       "      <td>43</td>\n",
       "      <td>France</td>\n",
       "      <td>MULTIPOLYGON (((-51.65780 4.15623, -52.24934 3...</td>\n",
       "      <td>5</td>\n",
       "      <td>215.0</td>\n",
       "      <td>1801-1825</td>\n",
       "    </tr>\n",
       "    <tr>\n",
       "      <th>220</th>\n",
       "      <td>43</td>\n",
       "      <td>France</td>\n",
       "      <td>MULTIPOLYGON (((-51.65780 4.15623, -52.24934 3...</td>\n",
       "      <td>23</td>\n",
       "      <td>903.0</td>\n",
       "      <td>1826-1850</td>\n",
       "    </tr>\n",
       "    <tr>\n",
       "      <th>397</th>\n",
       "      <td>43</td>\n",
       "      <td>France</td>\n",
       "      <td>MULTIPOLYGON (((-51.65780 4.15623, -52.24934 3...</td>\n",
       "      <td>26</td>\n",
       "      <td>817.0</td>\n",
       "      <td>1851-1875</td>\n",
       "    </tr>\n",
       "    <tr>\n",
       "      <th>574</th>\n",
       "      <td>43</td>\n",
       "      <td>France</td>\n",
       "      <td>MULTIPOLYGON (((-51.65780 4.15623, -52.24934 3...</td>\n",
       "      <td>28</td>\n",
       "      <td>989.0</td>\n",
       "      <td>1876-1900</td>\n",
       "    </tr>\n",
       "    <tr>\n",
       "      <th>751</th>\n",
       "      <td>43</td>\n",
       "      <td>France</td>\n",
       "      <td>MULTIPOLYGON (((-51.65780 4.15623, -52.24934 3...</td>\n",
       "      <td>21</td>\n",
       "      <td>860.0</td>\n",
       "      <td>1901-1925</td>\n",
       "    </tr>\n",
       "    <tr>\n",
       "      <th>928</th>\n",
       "      <td>43</td>\n",
       "      <td>France</td>\n",
       "      <td>MULTIPOLYGON (((-51.65780 4.15623, -52.24934 3...</td>\n",
       "      <td>48</td>\n",
       "      <td>1720.0</td>\n",
       "      <td>1926-1950</td>\n",
       "    </tr>\n",
       "    <tr>\n",
       "      <th>1105</th>\n",
       "      <td>43</td>\n",
       "      <td>France</td>\n",
       "      <td>MULTIPOLYGON (((-51.65780 4.15623, -52.24934 3...</td>\n",
       "      <td>31</td>\n",
       "      <td>946.0</td>\n",
       "      <td>1951-1975</td>\n",
       "    </tr>\n",
       "    <tr>\n",
       "      <th>1282</th>\n",
       "      <td>43</td>\n",
       "      <td>France</td>\n",
       "      <td>MULTIPOLYGON (((-51.65780 4.15623, -52.24934 3...</td>\n",
       "      <td>33</td>\n",
       "      <td>1118.0</td>\n",
       "      <td>1976-2000</td>\n",
       "    </tr>\n",
       "  </tbody>\n",
       "</table>\n",
       "</div>"
      ],
      "text/plain": [
       "      index    name                                           geometry  \\\n",
       "43       43  France  MULTIPOLYGON (((-51.65780 4.15623, -52.24934 3...   \n",
       "220      43  France  MULTIPOLYGON (((-51.65780 4.15623, -52.24934 3...   \n",
       "397      43  France  MULTIPOLYGON (((-51.65780 4.15623, -52.24934 3...   \n",
       "574      43  France  MULTIPOLYGON (((-51.65780 4.15623, -52.24934 3...   \n",
       "751      43  France  MULTIPOLYGON (((-51.65780 4.15623, -52.24934 3...   \n",
       "928      43  France  MULTIPOLYGON (((-51.65780 4.15623, -52.24934 3...   \n",
       "1105     43  France  MULTIPOLYGON (((-51.65780 4.15623, -52.24934 3...   \n",
       "1282     43  France  MULTIPOLYGON (((-51.65780 4.15623, -52.24934 3...   \n",
       "\n",
       "      effectif  index_right generations  \n",
       "43           5        215.0   1801-1825  \n",
       "220         23        903.0   1826-1850  \n",
       "397         26        817.0   1851-1875  \n",
       "574         28        989.0   1876-1900  \n",
       "751         21        860.0   1901-1925  \n",
       "928         48       1720.0   1926-1950  \n",
       "1105        31        946.0   1951-1975  \n",
       "1282        33       1118.0   1976-2000  "
      ]
     },
     "execution_count": 33,
     "metadata": {},
     "output_type": "execute_result"
    }
   ],
   "source": [
    "### inspection des données pour un pays\n",
    "df_result[df_result.name=='France']"
   ]
  },
  {
   "cell_type": "code",
   "execution_count": 34,
   "id": "b33a3e66-95c1-43ee-a7d0-4a20315652f3",
   "metadata": {},
   "outputs": [],
   "source": [
    "countries_polygons = df_result[['name', 'geometry']]\n",
    "countries_polygons.index = countries_polygons['name']\n",
    "countries_polygons = countries_polygons.drop(['name'], axis=1)\n",
    "countries_polygons_json = json.loads(countries_polygons.to_json())"
   ]
  },
  {
   "cell_type": "code",
   "execution_count": 36,
   "id": "e31a0488-740e-4228-90a7-04c8bd4656a1",
   "metadata": {},
   "outputs": [
    {
     "ename": "SyntaxError",
     "evalue": "invalid syntax (3682465824.py, line 26)",
     "output_type": "error",
     "traceback": [
      "\u001b[0;36m  Cell \u001b[0;32mIn[36], line 26\u001b[0;36m\u001b[0m\n\u001b[0;31m    f_address = \"../../../birth_places_choropleths3.html\" ll\u001b[0m\n\u001b[0m                                                          ^\u001b[0m\n\u001b[0;31mSyntaxError\u001b[0m\u001b[0;31m:\u001b[0m invalid syntax\n"
     ]
    }
   ],
   "source": [
    "size = [s if s != 0 else 0 for s in df_result.effectif]\n",
    "\n",
    "fig = px.choropleth_mapbox(\n",
    "    df_result,\n",
    "    geojson=countries_polygons_json,\n",
    "    locations=\"name\",\n",
    "    color=\"effectif\",\n",
    "    mapbox_style='white-bg',\n",
    "    zoom=1,\n",
    "    color_continuous_scale='blues',\n",
    "    ### valeur 20 définie en fonction de la distribution par pays\n",
    "    # expérimenter en changeant la valeur\n",
    "    range_color=(1, 130),\n",
    "    animation_frame=\"generations\",\n",
    "    width=1000, height=600,\n",
    "    title=\"Evolution des lieux de naissance\"\n",
    ").update_layout(\n",
    "    #mapbox={\"style\": \"carto-positron\", \"zoom\":10},\n",
    "    margin={\"l\": 0, \"r\": 0, \"t\": 30, \"b\": 0}\n",
    ")\n",
    "\n",
    "fig.layout.updatemenus[0].buttons[0].args[1][\"frame\"][\"duration\"] = 1000\n",
    "\n",
    "### Noter qu'on enregistre l'image afin de pouvoir l'ouvrir dans un navigateur\n",
    "# et l'inspecter sans exécuter le code Python du carnet\n",
    "f_address = \"../../../birth_places_choropleths3.html\" ll\n",
    "fig.write_html(f_address)"
   ]
  },
  {
   "cell_type": "code",
   "execution_count": null,
   "id": "1a0b0609-e1d2-428b-a18c-9562d5de69ea",
   "metadata": {},
   "outputs": [],
   "source": []
  }
 ],
 "metadata": {
  "kernelspec": {
   "display_name": "py311_data_analysis",
   "language": "python",
   "name": "py311_data_analysis"
  },
  "language_info": {
   "codemirror_mode": {
    "name": "ipython",
    "version": 3
   },
   "file_extension": ".py",
   "mimetype": "text/x-python",
   "name": "python",
   "nbconvert_exporter": "python",
   "pygments_lexer": "ipython3",
   "version": "3.11.8"
  }
 },
 "nbformat": 4,
 "nbformat_minor": 5
}
