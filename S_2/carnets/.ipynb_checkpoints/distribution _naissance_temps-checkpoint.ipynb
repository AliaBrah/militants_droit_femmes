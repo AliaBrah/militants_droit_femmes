{
 "cells": [
  {
   "cell_type": "markdown",
   "id": "f424d9fa-a2ca-43d1-9aec-241f290c24a2",
   "metadata": {},
   "source": [
    "# Distribution des naissances dans le temps\n",
    "Dans ce carnet est proposée une analyse de la dstribution dans le temps des années de naissance des militant.es pour le droit des femmes, les droits humains, LGBTQIA+ et le climat. Le but est de mettre en évidence la proportion de militant.es par générations.\n",
    "De plus, la proportion des genres dans l'implciation militante sera aussi mise en lumière."
   ]
  },
  {
   "cell_type": "code",
   "execution_count": 27,
   "id": "16464641-92ce-495e-91e0-9597fbd537ba",
   "metadata": {},
   "outputs": [],
   "source": [
    "import pandas as pd\n",
    "import matplotlib.pyplot as plt\n",
    "import numpy as np\n",
    "import scipy.stats as stats\n",
    "import seaborn as sns\n",
    "from fanalysis.ca import CA \n",
    "from fanalysis.mca import MCA\n",
    "# Importation du fichier csv qui se trouve dans le même dossier que le notebook\n",
    "data = pd.read_csv(\"CSV/analyse_geo_personne.csv\")"
   ]
  },
  {
   "cell_type": "code",
   "execution_count": 28,
   "id": "26f17ef3-5f7f-42ee-b6cf-0d18017822c6",
   "metadata": {},
   "outputs": [
    {
     "data": {
      "text/html": [
       "<div>\n",
       "<style scoped>\n",
       "    .dataframe tbody tr th:only-of-type {\n",
       "        vertical-align: middle;\n",
       "    }\n",
       "\n",
       "    .dataframe tbody tr th {\n",
       "        vertical-align: top;\n",
       "    }\n",
       "\n",
       "    .dataframe thead th {\n",
       "        text-align: right;\n",
       "    }\n",
       "</style>\n",
       "<table border=\"1\" class=\"dataframe\">\n",
       "  <thead>\n",
       "    <tr style=\"text-align: right;\">\n",
       "      <th></th>\n",
       "      <th>pk</th>\n",
       "      <th>nom</th>\n",
       "      <th>gender</th>\n",
       "      <th>zone_geo</th>\n",
       "      <th>annee_naissance</th>\n",
       "    </tr>\n",
       "  </thead>\n",
       "  <tbody>\n",
       "    <tr>\n",
       "      <th>0</th>\n",
       "      <td>http://www.wikidata.org/entity/Q4962236</td>\n",
       "      <td>Fredrika Limnell</td>\n",
       "      <td>F</td>\n",
       "      <td>Europe</td>\n",
       "      <td>1816</td>\n",
       "    </tr>\n",
       "    <tr>\n",
       "      <th>1</th>\n",
       "      <td>http://www.wikidata.org/entity/Q12315607</td>\n",
       "      <td>Hansine Andræ</td>\n",
       "      <td>F</td>\n",
       "      <td>Europe</td>\n",
       "      <td>1817</td>\n",
       "    </tr>\n",
       "    <tr>\n",
       "      <th>2</th>\n",
       "      <td>http://www.wikidata.org/entity/Q19403912</td>\n",
       "      <td>Mary Taylor (1817-1893)</td>\n",
       "      <td>F</td>\n",
       "      <td>Europe</td>\n",
       "      <td>1817</td>\n",
       "    </tr>\n",
       "    <tr>\n",
       "      <th>3</th>\n",
       "      <td>http://www.wikidata.org/entity/Q255221</td>\n",
       "      <td>Táhirih</td>\n",
       "      <td>F</td>\n",
       "      <td>Asie</td>\n",
       "      <td>1817</td>\n",
       "    </tr>\n",
       "    <tr>\n",
       "      <th>4</th>\n",
       "      <td>http://www.wikidata.org/entity/Q43302262</td>\n",
       "      <td>Violante Atabalipa Ximenes de Bivar e Vellasco</td>\n",
       "      <td>F</td>\n",
       "      <td>Amérique du sud</td>\n",
       "      <td>1817</td>\n",
       "    </tr>\n",
       "    <tr>\n",
       "      <th>...</th>\n",
       "      <td>...</td>\n",
       "      <td>...</td>\n",
       "      <td>...</td>\n",
       "      <td>...</td>\n",
       "      <td>...</td>\n",
       "    </tr>\n",
       "    <tr>\n",
       "      <th>6140</th>\n",
       "      <td>http://www.wikidata.org/entity/Q60451813</td>\n",
       "      <td>Rukshana Kapali</td>\n",
       "      <td>LGBTQ</td>\n",
       "      <td>Asie</td>\n",
       "      <td>1999</td>\n",
       "    </tr>\n",
       "    <tr>\n",
       "      <th>6141</th>\n",
       "      <td>http://www.wikidata.org/entity/Q60614820</td>\n",
       "      <td>Kyra Gantois</td>\n",
       "      <td>F</td>\n",
       "      <td>Europe</td>\n",
       "      <td>1999</td>\n",
       "    </tr>\n",
       "    <tr>\n",
       "      <th>6142</th>\n",
       "      <td>http://www.wikidata.org/entity/Q61997527</td>\n",
       "      <td>Frederika Alexis Cull</td>\n",
       "      <td>F</td>\n",
       "      <td>Asie</td>\n",
       "      <td>1999</td>\n",
       "    </tr>\n",
       "    <tr>\n",
       "      <th>6143</th>\n",
       "      <td>http://www.wikidata.org/entity/Q64748736</td>\n",
       "      <td>Malak al-Kashif</td>\n",
       "      <td>LGBTQ</td>\n",
       "      <td>Afrique</td>\n",
       "      <td>1999</td>\n",
       "    </tr>\n",
       "    <tr>\n",
       "      <th>6144</th>\n",
       "      <td>http://www.wikidata.org/entity/Q81941579</td>\n",
       "      <td>Aliénor Rougeot</td>\n",
       "      <td>F</td>\n",
       "      <td>Europe</td>\n",
       "      <td>1999</td>\n",
       "    </tr>\n",
       "  </tbody>\n",
       "</table>\n",
       "<p>6145 rows × 5 columns</p>\n",
       "</div>"
      ],
      "text/plain": [
       "                                            pk  \\\n",
       "0      http://www.wikidata.org/entity/Q4962236   \n",
       "1     http://www.wikidata.org/entity/Q12315607   \n",
       "2     http://www.wikidata.org/entity/Q19403912   \n",
       "3       http://www.wikidata.org/entity/Q255221   \n",
       "4     http://www.wikidata.org/entity/Q43302262   \n",
       "...                                        ...   \n",
       "6140  http://www.wikidata.org/entity/Q60451813   \n",
       "6141  http://www.wikidata.org/entity/Q60614820   \n",
       "6142  http://www.wikidata.org/entity/Q61997527   \n",
       "6143  http://www.wikidata.org/entity/Q64748736   \n",
       "6144  http://www.wikidata.org/entity/Q81941579   \n",
       "\n",
       "                                                 nom gender         zone_geo  \\\n",
       "0                                   Fredrika Limnell      F           Europe   \n",
       "1                                      Hansine Andræ      F           Europe   \n",
       "2                            Mary Taylor (1817-1893)      F           Europe   \n",
       "3                                            Táhirih      F            Asie    \n",
       "4     Violante Atabalipa Ximenes de Bivar e Vellasco      F  Amérique du sud   \n",
       "...                                              ...    ...              ...   \n",
       "6140                                 Rukshana Kapali  LGBTQ            Asie    \n",
       "6141                                    Kyra Gantois      F           Europe   \n",
       "6142                           Frederika Alexis Cull      F            Asie    \n",
       "6143                                 Malak al-Kashif  LGBTQ          Afrique   \n",
       "6144                                 Aliénor Rougeot      F           Europe   \n",
       "\n",
       "      annee_naissance  \n",
       "0                1816  \n",
       "1                1817  \n",
       "2                1817  \n",
       "3                1817  \n",
       "4                1817  \n",
       "...               ...  \n",
       "6140             1999  \n",
       "6141             1999  \n",
       "6142             1999  \n",
       "6143             1999  \n",
       "6144             1999  \n",
       "\n",
       "[6145 rows x 5 columns]"
      ]
     },
     "metadata": {},
     "output_type": "display_data"
    }
   ],
   "source": [
    "display(data)"
   ]
  },
  {
   "cell_type": "markdown",
   "id": "6ef0d476-80bd-4e53-9737-5e18a5f0324c",
   "metadata": {},
   "source": [
    "# Exploration des données\n"
   ]
  },
  {
   "cell_type": "code",
   "execution_count": 39,
   "id": "6314061a-8342-419a-a5c2-d113819de3f9",
   "metadata": {},
   "outputs": [
    {
     "name": "stdout",
     "output_type": "stream",
     "text": [
      "<class 'pandas.core.series.Series'>\n",
      "RangeIndex: 6145 entries, 0 to 6144\n",
      "Series name: annee_naissance\n",
      "Non-Null Count  Dtype\n",
      "--------------  -----\n",
      "6145 non-null   int64\n",
      "dtypes: int64(1)\n",
      "memory usage: 48.1 KB\n"
     ]
    }
   ],
   "source": [
    "# l'année de naissance est déjà de type int donc pas besoin de changer le type de la donnée\n",
    "data[\"annee_naissance\"].info()"
   ]
  },
  {
   "cell_type": "code",
   "execution_count": 40,
   "id": "e4b7fb80-8a67-4685-ae3d-ac3eba8403cc",
   "metadata": {},
   "outputs": [
    {
     "data": {
      "text/plain": [
       "pk                 object\n",
       "nom                object\n",
       "gender             object\n",
       "zone_geo           object\n",
       "annee_naissance     int64\n",
       "dtype: object"
      ]
     },
     "execution_count": 40,
     "metadata": {},
     "output_type": "execute_result"
    }
   ],
   "source": [
    "data.dtypes"
   ]
  },
  {
   "cell_type": "code",
   "execution_count": 41,
   "id": "c5114cb2-e375-47b8-9671-5f4aaa65c052",
   "metadata": {},
   "outputs": [
    {
     "data": {
      "text/plain": [
       "6145"
      ]
     },
     "execution_count": 41,
     "metadata": {},
     "output_type": "execute_result"
    }
   ],
   "source": [
    "data[\"annee_naissance\"].count()"
   ]
  },
  {
   "cell_type": "code",
   "execution_count": 42,
   "id": "7cf1dc4f-6214-4f9a-9165-a234350ccd0e",
   "metadata": {},
   "outputs": [
    {
     "data": {
      "text/html": [
       "<div>\n",
       "<style scoped>\n",
       "    .dataframe tbody tr th:only-of-type {\n",
       "        vertical-align: middle;\n",
       "    }\n",
       "\n",
       "    .dataframe tbody tr th {\n",
       "        vertical-align: top;\n",
       "    }\n",
       "\n",
       "    .dataframe thead th {\n",
       "        text-align: right;\n",
       "    }\n",
       "</style>\n",
       "<table border=\"1\" class=\"dataframe\">\n",
       "  <thead>\n",
       "    <tr style=\"text-align: right;\">\n",
       "      <th></th>\n",
       "      <th>year</th>\n",
       "      <th>effectif</th>\n",
       "    </tr>\n",
       "  </thead>\n",
       "  <tbody>\n",
       "    <tr>\n",
       "      <th>0</th>\n",
       "      <td>1816</td>\n",
       "      <td>1</td>\n",
       "    </tr>\n",
       "    <tr>\n",
       "      <th>1</th>\n",
       "      <td>1817</td>\n",
       "      <td>4</td>\n",
       "    </tr>\n",
       "    <tr>\n",
       "      <th>2</th>\n",
       "      <td>1818</td>\n",
       "      <td>5</td>\n",
       "    </tr>\n",
       "    <tr>\n",
       "      <th>3</th>\n",
       "      <td>1819</td>\n",
       "      <td>5</td>\n",
       "    </tr>\n",
       "    <tr>\n",
       "      <th>4</th>\n",
       "      <td>1820</td>\n",
       "      <td>4</td>\n",
       "    </tr>\n",
       "    <tr>\n",
       "      <th>...</th>\n",
       "      <td>...</td>\n",
       "      <td>...</td>\n",
       "    </tr>\n",
       "    <tr>\n",
       "      <th>179</th>\n",
       "      <td>1995</td>\n",
       "      <td>33</td>\n",
       "    </tr>\n",
       "    <tr>\n",
       "      <th>180</th>\n",
       "      <td>1996</td>\n",
       "      <td>25</td>\n",
       "    </tr>\n",
       "    <tr>\n",
       "      <th>181</th>\n",
       "      <td>1997</td>\n",
       "      <td>20</td>\n",
       "    </tr>\n",
       "    <tr>\n",
       "      <th>182</th>\n",
       "      <td>1998</td>\n",
       "      <td>22</td>\n",
       "    </tr>\n",
       "    <tr>\n",
       "      <th>183</th>\n",
       "      <td>1999</td>\n",
       "      <td>16</td>\n",
       "    </tr>\n",
       "  </tbody>\n",
       "</table>\n",
       "<p>184 rows × 2 columns</p>\n",
       "</div>"
      ],
      "text/plain": [
       "     year  effectif\n",
       "0    1816         1\n",
       "1    1817         4\n",
       "2    1818         5\n",
       "3    1819         5\n",
       "4    1820         4\n",
       "..    ...       ...\n",
       "179  1995        33\n",
       "180  1996        25\n",
       "181  1997        20\n",
       "182  1998        22\n",
       "183  1999        16\n",
       "\n",
       "[184 rows x 2 columns]"
      ]
     },
     "execution_count": 42,
     "metadata": {},
     "output_type": "execute_result"
    }
   ],
   "source": [
    "annee_eff= pd.DataFrame(data[data['annee_naissance'] < 2001].groupby('annee_naissance').size())\\\n",
    "                .reset_index(drop=False)\n",
    "annee_eff.columns=['year','effectif']\n",
    "annee_eff"
   ]
  },
  {
   "cell_type": "markdown",
   "id": "ec0572df-695a-4d96-bdf8-b2176fedfe94",
   "metadata": {},
   "source": [
    "## Graphique distribution par génération"
   ]
  },
  {
   "cell_type": "code",
   "execution_count": 43,
   "id": "c192d02e-1275-45b0-859f-10aca7791f98",
   "metadata": {},
   "outputs": [],
   "source": [
    "### Créer une copie indépendante du DataFrame (attention aux copies de variables qui sont seulement des alias) \n",
    "cdf_p = data[data['annee_naissance'] < 2001].copy(deep=True)"
   ]
  },
  {
   "cell_type": "code",
   "execution_count": 44,
   "id": "4975814c-14c1-43e7-9bd2-b798d497fd30",
   "metadata": {},
   "outputs": [
    {
     "data": {
      "text/html": [
       "<div>\n",
       "<style scoped>\n",
       "    .dataframe tbody tr th:only-of-type {\n",
       "        vertical-align: middle;\n",
       "    }\n",
       "\n",
       "    .dataframe tbody tr th {\n",
       "        vertical-align: top;\n",
       "    }\n",
       "\n",
       "    .dataframe thead th {\n",
       "        text-align: right;\n",
       "    }\n",
       "</style>\n",
       "<table border=\"1\" class=\"dataframe\">\n",
       "  <thead>\n",
       "    <tr style=\"text-align: right;\">\n",
       "      <th></th>\n",
       "      <th>pk</th>\n",
       "      <th>nom</th>\n",
       "      <th>gender</th>\n",
       "      <th>zone_geo</th>\n",
       "      <th>annee_naissance</th>\n",
       "    </tr>\n",
       "  </thead>\n",
       "  <tbody>\n",
       "    <tr>\n",
       "      <th>0</th>\n",
       "      <td>http://www.wikidata.org/entity/Q4962236</td>\n",
       "      <td>Fredrika Limnell</td>\n",
       "      <td>F</td>\n",
       "      <td>Europe</td>\n",
       "      <td>1816</td>\n",
       "    </tr>\n",
       "    <tr>\n",
       "      <th>1</th>\n",
       "      <td>http://www.wikidata.org/entity/Q12315607</td>\n",
       "      <td>Hansine Andræ</td>\n",
       "      <td>F</td>\n",
       "      <td>Europe</td>\n",
       "      <td>1817</td>\n",
       "    </tr>\n",
       "    <tr>\n",
       "      <th>2</th>\n",
       "      <td>http://www.wikidata.org/entity/Q19403912</td>\n",
       "      <td>Mary Taylor (1817-1893)</td>\n",
       "      <td>F</td>\n",
       "      <td>Europe</td>\n",
       "      <td>1817</td>\n",
       "    </tr>\n",
       "  </tbody>\n",
       "</table>\n",
       "</div>"
      ],
      "text/plain": [
       "                                         pk                      nom gender  \\\n",
       "0   http://www.wikidata.org/entity/Q4962236         Fredrika Limnell      F   \n",
       "1  http://www.wikidata.org/entity/Q12315607            Hansine Andræ      F   \n",
       "2  http://www.wikidata.org/entity/Q19403912  Mary Taylor (1817-1893)      F   \n",
       "\n",
       "  zone_geo  annee_naissance  \n",
       "0   Europe             1816  \n",
       "1   Europe             1817  \n",
       "2   Europe             1817  "
      ]
     },
     "execution_count": 44,
     "metadata": {},
     "output_type": "execute_result"
    }
   ],
   "source": [
    "cdf_p.head(3)"
   ]
  },
  {
   "cell_type": "code",
   "execution_count": 45,
   "id": "d0df7ddd-0f02-4878-a587-eac0bf7eef6e",
   "metadata": {},
   "outputs": [
    {
     "data": {
      "text/plain": [
       "(1816, 1999)"
      ]
     },
     "execution_count": 45,
     "metadata": {},
     "output_type": "execute_result"
    }
   ],
   "source": [
    "### Année minimale et maximale dans la population\n",
    "min(cdf_p['annee_naissance']), max(cdf_p['annee_naissance'])"
   ]
  },
  {
   "cell_type": "code",
   "execution_count": 46,
   "id": "05dd30dc-5459-4332-b114-001353a6d21a",
   "metadata": {},
   "outputs": [
    {
     "data": {
      "text/plain": [
       "([1816, 1841, 1866, 1891, 1916], [1916, 1941, 1966, 1991, 2016])"
      ]
     },
     "execution_count": 46,
     "metadata": {},
     "output_type": "execute_result"
    }
   ],
   "source": [
    "### Créer une liste d'années pour séparer en périodes de 25 ans\n",
    "# noter que la dernière année sera exclue, \n",
    "# elle donc doit être supérieure à la valeur maximale \n",
    "l_25 = list(range(1816, 2017, 25))\n",
    "l_25[:5],l_25[-5:]"
   ]
  },
  {
   "cell_type": "code",
   "execution_count": 47,
   "id": "ddcbfd49-9a6d-453d-987d-6c13605bc593",
   "metadata": {},
   "outputs": [
    {
     "data": {
      "text/html": [
       "<div>\n",
       "<style scoped>\n",
       "    .dataframe tbody tr th:only-of-type {\n",
       "        vertical-align: middle;\n",
       "    }\n",
       "\n",
       "    .dataframe tbody tr th {\n",
       "        vertical-align: top;\n",
       "    }\n",
       "\n",
       "    .dataframe thead th {\n",
       "        text-align: right;\n",
       "    }\n",
       "</style>\n",
       "<table border=\"1\" class=\"dataframe\">\n",
       "  <thead>\n",
       "    <tr style=\"text-align: right;\">\n",
       "      <th></th>\n",
       "      <th>pk</th>\n",
       "      <th>nom</th>\n",
       "      <th>gender</th>\n",
       "      <th>zone_geo</th>\n",
       "      <th>annee_naissance</th>\n",
       "      <th>periodes</th>\n",
       "    </tr>\n",
       "  </thead>\n",
       "  <tbody>\n",
       "    <tr>\n",
       "      <th>0</th>\n",
       "      <td>http://www.wikidata.org/entity/Q4962236</td>\n",
       "      <td>Fredrika Limnell</td>\n",
       "      <td>F</td>\n",
       "      <td>Europe</td>\n",
       "      <td>1816</td>\n",
       "      <td>1816-1840</td>\n",
       "    </tr>\n",
       "    <tr>\n",
       "      <th>1</th>\n",
       "      <td>http://www.wikidata.org/entity/Q12315607</td>\n",
       "      <td>Hansine Andræ</td>\n",
       "      <td>F</td>\n",
       "      <td>Europe</td>\n",
       "      <td>1817</td>\n",
       "      <td>1816-1840</td>\n",
       "    </tr>\n",
       "    <tr>\n",
       "      <th>2</th>\n",
       "      <td>http://www.wikidata.org/entity/Q19403912</td>\n",
       "      <td>Mary Taylor (1817-1893)</td>\n",
       "      <td>F</td>\n",
       "      <td>Europe</td>\n",
       "      <td>1817</td>\n",
       "      <td>1816-1840</td>\n",
       "    </tr>\n",
       "  </tbody>\n",
       "</table>\n",
       "</div>"
      ],
      "text/plain": [
       "                                         pk                      nom gender  \\\n",
       "0   http://www.wikidata.org/entity/Q4962236         Fredrika Limnell      F   \n",
       "1  http://www.wikidata.org/entity/Q12315607            Hansine Andræ      F   \n",
       "2  http://www.wikidata.org/entity/Q19403912  Mary Taylor (1817-1893)      F   \n",
       "\n",
       "  zone_geo  annee_naissance   periodes  \n",
       "0   Europe             1816  1816-1840  \n",
       "1   Europe             1817  1816-1840  \n",
       "2   Europe             1817  1816-1840  "
      ]
     },
     "execution_count": 47,
     "metadata": {},
     "output_type": "execute_result"
    }
   ],
   "source": [
    "# On ajoute une nouvelle colonne qui contient la période sur la base de la liste précédente\n",
    "# et de la valeur de l'année\n",
    "\n",
    "cdf_p['periodes'] = pd.cut(cdf_p['annee_naissance'], l_25, right=False)\n",
    "\n",
    "### Transformer le code ajouté pour qu'il soit plus lisible\n",
    "# noter qu'on a arrondi les valeurs\n",
    "cdf_p['periodes'] = cdf_p['periodes'].apply(lambda x : str(int(x.left))+'-'+ str(int(x.right)-1))\n",
    "\n",
    "# Inspection\n",
    "cdf_p.head(3)"
   ]
  },
  {
   "cell_type": "code",
   "execution_count": 48,
   "id": "106904b6-3032-4b2e-b3ce-a3cc679cffa5",
   "metadata": {},
   "outputs": [
    {
     "name": "stderr",
     "output_type": "stream",
     "text": [
      "/var/folders/8b/5g0mv7wd0xs17dz5xzhfppjm0000gn/T/ipykernel_33113/3799892700.py:2: FutureWarning: The default of observed=False is deprecated and will be changed to True in a future version of pandas. Pass observed=False to retain current behavior or observed=True to adopt the future default and silence this warning.\n",
      "  cdf_p.groupby(by='periodes').size()\n"
     ]
    },
    {
     "data": {
      "text/plain": [
       "periodes\n",
       "1816-1840     138\n",
       "1841-1865     382\n",
       "1866-1890     492\n",
       "1891-1915     425\n",
       "1916-1940     961\n",
       "1941-1965    1892\n",
       "1966-1990    1599\n",
       "1991-2015     256\n",
       "dtype: int64"
      ]
     },
     "execution_count": 48,
     "metadata": {},
     "output_type": "execute_result"
    }
   ],
   "source": [
    "### compter les naissances par périodes de 25 ans\n",
    "cdf_p.groupby(by='periodes').size()"
   ]
  },
  {
   "cell_type": "code",
   "execution_count": 50,
   "id": "96c3e978-ff63-409a-ac0b-a2f33f433dff",
   "metadata": {},
   "outputs": [
    {
     "name": "stderr",
     "output_type": "stream",
     "text": [
      "/var/folders/8b/5g0mv7wd0xs17dz5xzhfppjm0000gn/T/ipykernel_33113/800248463.py:2: FutureWarning: The default of observed=False is deprecated and will be changed to True in a future version of pandas. Pass observed=False to retain current behavior or observed=True to adopt the future default and silence this warning.\n",
      "  ax = cdf_p.groupby(by='periodes').size().plot(kind='bar',rot=60, fontsize=9, figsize=(16,8),color=['salmon']\n"
     ]
    },
    {
     "data": {
      "image/png": "[encoded data removed]",
      "text/plain": [
       "<Figure size 1600x800 with 1 Axes>"
      ]
     },
     "metadata": {},
     "output_type": "display_data"
    }
   ],
   "source": [
    "# Graphique des effectifs par génération\n",
    "ax = cdf_p.groupby(by='periodes').size().plot(kind='bar',rot=60, fontsize=9, figsize=(16,8),color=['salmon']\n",
    ")\n",
    "plt.ylabel('Effectif')\n",
    "plt.xlabel('Périodes')\n",
    "plt.title('Nombre de militant.es nés par périodes de 25 ans')\n",
    "plt.show()"
   ]
  },
  {
   "cell_type": "markdown",
   "id": "244d6a20-5a23-40d7-9918-708d5f187e96",
   "metadata": {},
   "source": [
    "## Graphique de distribution dans le temps et par genre"
   ]
  },
  {
   "cell_type": "code",
   "execution_count": 51,
   "id": "fbc8b7d0-387e-4e95-922a-e57dc7f76909",
   "metadata": {},
   "outputs": [
    {
     "name": "stderr",
     "output_type": "stream",
     "text": [
      "/var/folders/8b/5g0mv7wd0xs17dz5xzhfppjm0000gn/T/ipykernel_33113/1467448367.py:3: FutureWarning: The default of observed=False is deprecated and will be changed to True in a future version of pandas. Pass observed=False to retain current behavior or observed=True to adopt the future default and silence this warning.\n",
      "  gender_m = pd.DataFrame(cdf_p[cdf_p.gender == 'M'].groupby('periodes').size())\n"
     ]
    },
    {
     "data": {
      "text/html": [
       "<div>\n",
       "<style scoped>\n",
       "    .dataframe tbody tr th:only-of-type {\n",
       "        vertical-align: middle;\n",
       "    }\n",
       "\n",
       "    .dataframe tbody tr th {\n",
       "        vertical-align: top;\n",
       "    }\n",
       "\n",
       "    .dataframe thead th {\n",
       "        text-align: right;\n",
       "    }\n",
       "</style>\n",
       "<table border=\"1\" class=\"dataframe\">\n",
       "  <thead>\n",
       "    <tr style=\"text-align: right;\">\n",
       "      <th></th>\n",
       "      <th>gen_m</th>\n",
       "    </tr>\n",
       "    <tr>\n",
       "      <th>periodes</th>\n",
       "      <th></th>\n",
       "    </tr>\n",
       "  </thead>\n",
       "  <tbody>\n",
       "    <tr>\n",
       "      <th>1891-1915</th>\n",
       "      <td>89</td>\n",
       "    </tr>\n",
       "    <tr>\n",
       "      <th>1916-1940</th>\n",
       "      <td>374</td>\n",
       "    </tr>\n",
       "    <tr>\n",
       "      <th>1941-1965</th>\n",
       "      <td>804</td>\n",
       "    </tr>\n",
       "    <tr>\n",
       "      <th>1966-1990</th>\n",
       "      <td>582</td>\n",
       "    </tr>\n",
       "    <tr>\n",
       "      <th>1991-2015</th>\n",
       "      <td>63</td>\n",
       "    </tr>\n",
       "  </tbody>\n",
       "</table>\n",
       "</div>"
      ],
      "text/plain": [
       "           gen_m\n",
       "periodes        \n",
       "1891-1915     89\n",
       "1916-1940    374\n",
       "1941-1965    804\n",
       "1966-1990    582\n",
       "1991-2015     63"
      ]
     },
     "execution_count": 51,
     "metadata": {},
     "output_type": "execute_result"
    }
   ],
   "source": [
    "### Regrouper et compter avec un fitre sur le genre féminin\n",
    "# Je ne sais pas pourquoi y a des générations qui disparaissent !!!!\n",
    "gender_m = pd.DataFrame(cdf_p[cdf_p.gender == 'M'].groupby('periodes').size())\n",
    "gender_m.columns = ['gen_m']\n",
    "gender_m.tail()"
   ]
  },
  {
   "cell_type": "code",
   "execution_count": 52,
   "id": "7858e27e-9253-48d7-ac0a-e9144e0fecb8",
   "metadata": {},
   "outputs": [
    {
     "name": "stderr",
     "output_type": "stream",
     "text": [
      "/var/folders/8b/5g0mv7wd0xs17dz5xzhfppjm0000gn/T/ipykernel_33113/3248576015.py:2: FutureWarning: The default of observed=False is deprecated and will be changed to True in a future version of pandas. Pass observed=False to retain current behavior or observed=True to adopt the future default and silence this warning.\n",
      "  gender_f = pd.DataFrame(cdf_p[cdf_p.gender == 'F'].groupby('periodes').size())\n"
     ]
    },
    {
     "data": {
      "text/html": [
       "<div>\n",
       "<style scoped>\n",
       "    .dataframe tbody tr th:only-of-type {\n",
       "        vertical-align: middle;\n",
       "    }\n",
       "\n",
       "    .dataframe tbody tr th {\n",
       "        vertical-align: top;\n",
       "    }\n",
       "\n",
       "    .dataframe thead th {\n",
       "        text-align: right;\n",
       "    }\n",
       "</style>\n",
       "<table border=\"1\" class=\"dataframe\">\n",
       "  <thead>\n",
       "    <tr style=\"text-align: right;\">\n",
       "      <th></th>\n",
       "      <th>gen_f</th>\n",
       "    </tr>\n",
       "    <tr>\n",
       "      <th>periodes</th>\n",
       "      <th></th>\n",
       "    </tr>\n",
       "  </thead>\n",
       "  <tbody>\n",
       "    <tr>\n",
       "      <th>1891-1915</th>\n",
       "      <td>333</td>\n",
       "    </tr>\n",
       "    <tr>\n",
       "      <th>1916-1940</th>\n",
       "      <td>576</td>\n",
       "    </tr>\n",
       "    <tr>\n",
       "      <th>1941-1965</th>\n",
       "      <td>1002</td>\n",
       "    </tr>\n",
       "    <tr>\n",
       "      <th>1966-1990</th>\n",
       "      <td>846</td>\n",
       "    </tr>\n",
       "    <tr>\n",
       "      <th>1991-2015</th>\n",
       "      <td>139</td>\n",
       "    </tr>\n",
       "  </tbody>\n",
       "</table>\n",
       "</div>"
      ],
      "text/plain": [
       "           gen_f\n",
       "periodes        \n",
       "1891-1915    333\n",
       "1916-1940    576\n",
       "1941-1965   1002\n",
       "1966-1990    846\n",
       "1991-2015    139"
      ]
     },
     "execution_count": 52,
     "metadata": {},
     "output_type": "execute_result"
    }
   ],
   "source": [
    "### Regrouper et compter avec un fitre sur le genre masculin\n",
    "gender_f = pd.DataFrame(cdf_p[cdf_p.gender == 'F'].groupby('periodes').size())\n",
    "gender_f.columns = ['gen_f']\n",
    "gender_f.tail()"
   ]
  },
  {
   "cell_type": "code",
   "execution_count": 76,
   "id": "cc7d6635-46a0-4b8e-ae23-8b328dfee919",
   "metadata": {},
   "outputs": [
    {
     "name": "stderr",
     "output_type": "stream",
     "text": [
      "/var/folders/8b/5g0mv7wd0xs17dz5xzhfppjm0000gn/T/ipykernel_33113/2979907089.py:1: FutureWarning: The default of observed=False is deprecated and will be changed to True in a future version of pandas. Pass observed=False to retain current behavior or observed=True to adopt the future default and silence this warning.\n",
      "  gender_lgbtq = pd.DataFrame(cdf_p[cdf_p.gender == 'LGBTQ'].groupby('periodes').size())\n"
     ]
    },
    {
     "data": {
      "text/html": [
       "<div>\n",
       "<style scoped>\n",
       "    .dataframe tbody tr th:only-of-type {\n",
       "        vertical-align: middle;\n",
       "    }\n",
       "\n",
       "    .dataframe tbody tr th {\n",
       "        vertical-align: top;\n",
       "    }\n",
       "\n",
       "    .dataframe thead th {\n",
       "        text-align: right;\n",
       "    }\n",
       "</style>\n",
       "<table border=\"1\" class=\"dataframe\">\n",
       "  <thead>\n",
       "    <tr style=\"text-align: right;\">\n",
       "      <th></th>\n",
       "      <th>gen_lgbtq</th>\n",
       "    </tr>\n",
       "    <tr>\n",
       "      <th>periodes</th>\n",
       "      <th></th>\n",
       "    </tr>\n",
       "  </thead>\n",
       "  <tbody>\n",
       "    <tr>\n",
       "      <th>1891-1915</th>\n",
       "      <td>3</td>\n",
       "    </tr>\n",
       "    <tr>\n",
       "      <th>1916-1940</th>\n",
       "      <td>11</td>\n",
       "    </tr>\n",
       "    <tr>\n",
       "      <th>1941-1965</th>\n",
       "      <td>86</td>\n",
       "    </tr>\n",
       "    <tr>\n",
       "      <th>1966-1990</th>\n",
       "      <td>171</td>\n",
       "    </tr>\n",
       "    <tr>\n",
       "      <th>1991-2015</th>\n",
       "      <td>54</td>\n",
       "    </tr>\n",
       "  </tbody>\n",
       "</table>\n",
       "</div>"
      ],
      "text/plain": [
       "           gen_lgbtq\n",
       "periodes            \n",
       "1891-1915          3\n",
       "1916-1940         11\n",
       "1941-1965         86\n",
       "1966-1990        171\n",
       "1991-2015         54"
      ]
     },
     "execution_count": 76,
     "metadata": {},
     "output_type": "execute_result"
    }
   ],
   "source": [
    "gender_lgbtq = pd.DataFrame(cdf_p[cdf_p.gender == 'LGBTQ'].groupby('periodes').size())\n",
    "gender_lgbtq.columns = ['gen_lgbtq']\n",
    "gender_lgbtq.tail()"
   ]
  },
  {
   "cell_type": "markdown",
   "id": "022755d1-be26-4087-923a-65d4c0b782f8",
   "metadata": {},
   "source": [
    "## Commentaire\n",
    "Nous pouvons souligner que les personnes LGBTQIA+ sont très peu représentées. C'est pourquoi nous avons décidé de représenter dans le graphique final seulement les femmes et les hommes cis-genre."
   ]
  },
  {
   "cell_type": "code",
   "execution_count": 77,
   "id": "3afeaea2-90a3-42f0-b870-0d8f2adbccd0",
   "metadata": {},
   "outputs": [
    {
     "data": {
      "text/html": [
       "<div>\n",
       "<style scoped>\n",
       "    .dataframe tbody tr th:only-of-type {\n",
       "        vertical-align: middle;\n",
       "    }\n",
       "\n",
       "    .dataframe tbody tr th {\n",
       "        vertical-align: top;\n",
       "    }\n",
       "\n",
       "    .dataframe thead th {\n",
       "        text-align: right;\n",
       "    }\n",
       "</style>\n",
       "<table border=\"1\" class=\"dataframe\">\n",
       "  <thead>\n",
       "    <tr style=\"text-align: right;\">\n",
       "      <th></th>\n",
       "      <th>gen_f</th>\n",
       "      <th>gen_m</th>\n",
       "    </tr>\n",
       "    <tr>\n",
       "      <th>periodes</th>\n",
       "      <th></th>\n",
       "      <th></th>\n",
       "    </tr>\n",
       "  </thead>\n",
       "  <tbody>\n",
       "    <tr>\n",
       "      <th>1891-1915</th>\n",
       "      <td>333</td>\n",
       "      <td>89</td>\n",
       "    </tr>\n",
       "    <tr>\n",
       "      <th>1916-1940</th>\n",
       "      <td>576</td>\n",
       "      <td>374</td>\n",
       "    </tr>\n",
       "    <tr>\n",
       "      <th>1941-1965</th>\n",
       "      <td>1002</td>\n",
       "      <td>804</td>\n",
       "    </tr>\n",
       "    <tr>\n",
       "      <th>1966-1990</th>\n",
       "      <td>846</td>\n",
       "      <td>582</td>\n",
       "    </tr>\n",
       "    <tr>\n",
       "      <th>1991-2015</th>\n",
       "      <td>139</td>\n",
       "      <td>63</td>\n",
       "    </tr>\n",
       "  </tbody>\n",
       "</table>\n",
       "</div>"
      ],
      "text/plain": [
       "           gen_f  gen_m\n",
       "periodes               \n",
       "1891-1915    333     89\n",
       "1916-1940    576    374\n",
       "1941-1965   1002    804\n",
       "1966-1990    846    582\n",
       "1991-2015    139     63"
      ]
     },
     "execution_count": 77,
     "metadata": {},
     "output_type": "execute_result"
    }
   ],
   "source": [
    "### Fusionner les deux tableaux en utilisant l'index comme clé de jointure\n",
    "merged = pd.merge(gender_f,gender_m, left_index=True, right_index=True)\n",
    "merged.tail()"
   ]
  },
  {
   "cell_type": "code",
   "execution_count": 78,
   "id": "982726bd-968e-477e-9fdf-c510cb98bc0f",
   "metadata": {},
   "outputs": [
    {
     "data": {
      "text/html": [
       "<div>\n",
       "<style scoped>\n",
       "    .dataframe tbody tr th:only-of-type {\n",
       "        vertical-align: middle;\n",
       "    }\n",
       "\n",
       "    .dataframe tbody tr th {\n",
       "        vertical-align: top;\n",
       "    }\n",
       "\n",
       "    .dataframe thead th {\n",
       "        text-align: right;\n",
       "    }\n",
       "</style>\n",
       "<table border=\"1\" class=\"dataframe\">\n",
       "  <thead>\n",
       "    <tr style=\"text-align: right;\">\n",
       "      <th></th>\n",
       "      <th>gen_f</th>\n",
       "      <th>gen_m</th>\n",
       "    </tr>\n",
       "    <tr>\n",
       "      <th>periodes</th>\n",
       "      <th></th>\n",
       "      <th></th>\n",
       "    </tr>\n",
       "  </thead>\n",
       "  <tbody>\n",
       "    <tr>\n",
       "      <th>1891-1915</th>\n",
       "      <td>333</td>\n",
       "      <td>89</td>\n",
       "    </tr>\n",
       "    <tr>\n",
       "      <th>1916-1940</th>\n",
       "      <td>576</td>\n",
       "      <td>374</td>\n",
       "    </tr>\n",
       "    <tr>\n",
       "      <th>1941-1965</th>\n",
       "      <td>1002</td>\n",
       "      <td>804</td>\n",
       "    </tr>\n",
       "    <tr>\n",
       "      <th>1966-1990</th>\n",
       "      <td>846</td>\n",
       "      <td>582</td>\n",
       "    </tr>\n",
       "    <tr>\n",
       "      <th>1991-2015</th>\n",
       "      <td>139</td>\n",
       "      <td>63</td>\n",
       "    </tr>\n",
       "  </tbody>\n",
       "</table>\n",
       "</div>"
      ],
      "text/plain": [
       "           gen_f  gen_m\n",
       "periodes               \n",
       "1891-1915    333     89\n",
       "1916-1940    576    374\n",
       "1941-1965   1002    804\n",
       "1966-1990    846    582\n",
       "1991-2015    139     63"
      ]
     },
     "execution_count": 78,
     "metadata": {},
     "output_type": "execute_result"
    }
   ],
   "source": [
    "### Transformer l'index de séquence à chaîne de caractères\n",
    "# ce qui est indispensable pour l'affichage dans un graphique\n",
    "merged.index = merged.index.map(str)\n",
    "merged.tail()"
   ]
  },
  {
   "cell_type": "code",
   "execution_count": 79,
   "id": "84a096bb-7316-4d42-9514-90d5ae1913ce",
   "metadata": {},
   "outputs": [
    {
     "data": {
      "image/png": "[encoded data removed]",
      "text/plain": [
       "<Figure size 1600x800 with 1 Axes>"
      ]
     },
     "metadata": {},
     "output_type": "display_data"
    }
   ],
   "source": [
    "ax = merged.plot.bar(stacked=True, rot=60, fontsize=8, figsize=(16,8), color=['lavender', 'gold'])\n",
    "\n",
    "\n",
    "plt.ylabel('Effectifs par période avec proportion des genres')\n",
    "plt.xlabel('Périodes')\n",
    "plt.title('Distribution des naissances par périodes de 25 ans, proportion des genres par période')\n",
    "\n",
    "plt.show()"
   ]
  },
  {
   "cell_type": "markdown",
   "id": "53b9af40-d90c-49cc-a7ed-fd02f5ce84f1",
   "metadata": {},
   "source": [
    "### Commentaire\n",
    "Il y a clairement une proportion plus grande de femmes dans les militant.es. Cependant lors de la seconde moitié du XXIe siècle la tendance tend à s'équilibrer."
   ]
  },
  {
   "cell_type": "code",
   "execution_count": 80,
   "id": "a598f053-8312-4af6-b1cc-b6a1273f880f",
   "metadata": {},
   "outputs": [
    {
     "data": {
      "text/plain": [
       "([1816, 1826, 1836, 1846, 1856], [1966, 1976, 1986, 1996, 2006])"
      ]
     },
     "execution_count": 80,
     "metadata": {},
     "output_type": "execute_result"
    }
   ],
   "source": [
    "l_10 = list(range(1816, 2007, 10))\n",
    "l_10[:5],l_10[-5:]"
   ]
  },
  {
   "cell_type": "code",
   "execution_count": 81,
   "id": "603c0c92-f31f-451d-9f1c-85153f103a51",
   "metadata": {},
   "outputs": [
    {
     "data": {
      "text/html": [
       "<div>\n",
       "<style scoped>\n",
       "    .dataframe tbody tr th:only-of-type {\n",
       "        vertical-align: middle;\n",
       "    }\n",
       "\n",
       "    .dataframe tbody tr th {\n",
       "        vertical-align: top;\n",
       "    }\n",
       "\n",
       "    .dataframe thead th {\n",
       "        text-align: right;\n",
       "    }\n",
       "</style>\n",
       "<table border=\"1\" class=\"dataframe\">\n",
       "  <thead>\n",
       "    <tr style=\"text-align: right;\">\n",
       "      <th></th>\n",
       "      <th>pk</th>\n",
       "      <th>nom</th>\n",
       "      <th>gender</th>\n",
       "      <th>zone_geo</th>\n",
       "      <th>annee_naissance</th>\n",
       "      <th>periodes</th>\n",
       "      <th>per_10</th>\n",
       "    </tr>\n",
       "  </thead>\n",
       "  <tbody>\n",
       "    <tr>\n",
       "      <th>0</th>\n",
       "      <td>http://www.wikidata.org/entity/Q4962236</td>\n",
       "      <td>Fredrika Limnell</td>\n",
       "      <td>F</td>\n",
       "      <td>Europe</td>\n",
       "      <td>1816</td>\n",
       "      <td>1816-1840</td>\n",
       "      <td>1816-1825</td>\n",
       "    </tr>\n",
       "    <tr>\n",
       "      <th>1</th>\n",
       "      <td>http://www.wikidata.org/entity/Q12315607</td>\n",
       "      <td>Hansine Andræ</td>\n",
       "      <td>F</td>\n",
       "      <td>Europe</td>\n",
       "      <td>1817</td>\n",
       "      <td>1816-1840</td>\n",
       "      <td>1816-1825</td>\n",
       "    </tr>\n",
       "    <tr>\n",
       "      <th>2</th>\n",
       "      <td>http://www.wikidata.org/entity/Q19403912</td>\n",
       "      <td>Mary Taylor (1817-1893)</td>\n",
       "      <td>F</td>\n",
       "      <td>Europe</td>\n",
       "      <td>1817</td>\n",
       "      <td>1816-1840</td>\n",
       "      <td>1816-1825</td>\n",
       "    </tr>\n",
       "  </tbody>\n",
       "</table>\n",
       "</div>"
      ],
      "text/plain": [
       "                                         pk                      nom gender  \\\n",
       "0   http://www.wikidata.org/entity/Q4962236         Fredrika Limnell      F   \n",
       "1  http://www.wikidata.org/entity/Q12315607            Hansine Andræ      F   \n",
       "2  http://www.wikidata.org/entity/Q19403912  Mary Taylor (1817-1893)      F   \n",
       "\n",
       "  zone_geo  annee_naissance   periodes     per_10  \n",
       "0   Europe             1816  1816-1840  1816-1825  \n",
       "1   Europe             1817  1816-1840  1816-1825  \n",
       "2   Europe             1817  1816-1840  1816-1825  "
      ]
     },
     "execution_count": 81,
     "metadata": {},
     "output_type": "execute_result"
    }
   ],
   "source": [
    "\n",
    "cdf_p['per_10'] = pd.cut(cdf_p['annee_naissance'], l_10, right=False)\n",
    "\n",
    "### Transformer le code ajouté pour qu'il soit plus lisible\n",
    "# noter qu'on a arrondi les valeurs\n",
    "cdf_p['per_10'] = cdf_p['per_10'].apply(lambda x : str(int(x.left))+'-'+ str(int(x.right)-1))\n",
    "\n",
    "# Inspection\n",
    "cdf_p.head(3)"
   ]
  },
  {
   "cell_type": "code",
   "execution_count": 82,
   "id": "35bedbe9-5c8d-4ba8-8a43-6da7e5b36214",
   "metadata": {},
   "outputs": [
    {
     "name": "stderr",
     "output_type": "stream",
     "text": [
      "/var/folders/8b/5g0mv7wd0xs17dz5xzhfppjm0000gn/T/ipykernel_33113/2952852462.py:3: FutureWarning: The default of observed=False is deprecated and will be changed to True in a future version of pandas. Pass observed=False to retain current behavior or observed=True to adopt the future default and silence this warning.\n",
      "  gender_f_10 = pd.DataFrame(cdf_p[(cdf_p.gender == 'F') & (cdf_p.annee_naissance > 1815)].groupby('per_10').size())\n"
     ]
    },
    {
     "data": {
      "text/html": [
       "<div>\n",
       "<style scoped>\n",
       "    .dataframe tbody tr th:only-of-type {\n",
       "        vertical-align: middle;\n",
       "    }\n",
       "\n",
       "    .dataframe tbody tr th {\n",
       "        vertical-align: top;\n",
       "    }\n",
       "\n",
       "    .dataframe thead th {\n",
       "        text-align: right;\n",
       "    }\n",
       "</style>\n",
       "<table border=\"1\" class=\"dataframe\">\n",
       "  <thead>\n",
       "    <tr style=\"text-align: right;\">\n",
       "      <th></th>\n",
       "      <th>gen_f</th>\n",
       "    </tr>\n",
       "    <tr>\n",
       "      <th>per_10</th>\n",
       "      <th></th>\n",
       "    </tr>\n",
       "  </thead>\n",
       "  <tbody>\n",
       "    <tr>\n",
       "      <th>1956-1965</th>\n",
       "      <td>361</td>\n",
       "    </tr>\n",
       "    <tr>\n",
       "      <th>1966-1975</th>\n",
       "      <td>345</td>\n",
       "    </tr>\n",
       "    <tr>\n",
       "      <th>1976-1985</th>\n",
       "      <td>349</td>\n",
       "    </tr>\n",
       "    <tr>\n",
       "      <th>1986-1995</th>\n",
       "      <td>237</td>\n",
       "    </tr>\n",
       "    <tr>\n",
       "      <th>1996-2005</th>\n",
       "      <td>54</td>\n",
       "    </tr>\n",
       "  </tbody>\n",
       "</table>\n",
       "</div>"
      ],
      "text/plain": [
       "           gen_f\n",
       "per_10          \n",
       "1956-1965    361\n",
       "1966-1975    345\n",
       "1976-1985    349\n",
       "1986-1995    237\n",
       "1996-2005     54"
      ]
     },
     "execution_count": 82,
     "metadata": {},
     "output_type": "execute_result"
    }
   ],
   "source": [
    "### On regroupe par genre comme ci-dessus\n",
    "## Même problème qu'avant ? des périodes disparaissent !!!!!\n",
    "gender_f_10 = pd.DataFrame(cdf_p[(cdf_p.gender == 'F') & (cdf_p.annee_naissance > 1815)].groupby('per_10').size())\n",
    "gender_f_10.columns = ['gen_f']\n",
    "gender_f_10.tail()"
   ]
  },
  {
   "cell_type": "code",
   "execution_count": 83,
   "id": "8a7c4f80-90d8-459b-b329-19169ed0fdd7",
   "metadata": {},
   "outputs": [
    {
     "name": "stderr",
     "output_type": "stream",
     "text": [
      "/var/folders/8b/5g0mv7wd0xs17dz5xzhfppjm0000gn/T/ipykernel_33113/1017774975.py:2: FutureWarning: The default of observed=False is deprecated and will be changed to True in a future version of pandas. Pass observed=False to retain current behavior or observed=True to adopt the future default and silence this warning.\n",
      "  gender_m_10 = pd.DataFrame(cdf_p[(cdf_p.gender == 'M')& (cdf_p.annee_naissance > 1815)].groupby('per_10').size())\n"
     ]
    },
    {
     "data": {
      "text/html": [
       "<div>\n",
       "<style scoped>\n",
       "    .dataframe tbody tr th:only-of-type {\n",
       "        vertical-align: middle;\n",
       "    }\n",
       "\n",
       "    .dataframe tbody tr th {\n",
       "        vertical-align: top;\n",
       "    }\n",
       "\n",
       "    .dataframe thead th {\n",
       "        text-align: right;\n",
       "    }\n",
       "</style>\n",
       "<table border=\"1\" class=\"dataframe\">\n",
       "  <thead>\n",
       "    <tr style=\"text-align: right;\">\n",
       "      <th></th>\n",
       "      <th>gen_m</th>\n",
       "    </tr>\n",
       "    <tr>\n",
       "      <th>per_10</th>\n",
       "      <th></th>\n",
       "    </tr>\n",
       "  </thead>\n",
       "  <tbody>\n",
       "    <tr>\n",
       "      <th>1956-1965</th>\n",
       "      <td>319</td>\n",
       "    </tr>\n",
       "    <tr>\n",
       "      <th>1966-1975</th>\n",
       "      <td>284</td>\n",
       "    </tr>\n",
       "    <tr>\n",
       "      <th>1976-1985</th>\n",
       "      <td>221</td>\n",
       "    </tr>\n",
       "    <tr>\n",
       "      <th>1986-1995</th>\n",
       "      <td>124</td>\n",
       "    </tr>\n",
       "    <tr>\n",
       "      <th>1996-2005</th>\n",
       "      <td>16</td>\n",
       "    </tr>\n",
       "  </tbody>\n",
       "</table>\n",
       "</div>"
      ],
      "text/plain": [
       "           gen_m\n",
       "per_10          \n",
       "1956-1965    319\n",
       "1966-1975    284\n",
       "1976-1985    221\n",
       "1986-1995    124\n",
       "1996-2005     16"
      ]
     },
     "execution_count": 83,
     "metadata": {},
     "output_type": "execute_result"
    }
   ],
   "source": [
    "### Idem\n",
    "gender_m_10 = pd.DataFrame(cdf_p[(cdf_p.gender == 'M')& (cdf_p.annee_naissance > 1815)].groupby('per_10').size())\n",
    "gender_m_10.columns = ['gen_m']\n",
    "gender_m_10.tail()"
   ]
  },
  {
   "cell_type": "code",
   "execution_count": 84,
   "id": "4233c8bb-bd3f-4ed4-b041-13e2df474529",
   "metadata": {},
   "outputs": [
    {
     "data": {
      "text/html": [
       "<div>\n",
       "<style scoped>\n",
       "    .dataframe tbody tr th:only-of-type {\n",
       "        vertical-align: middle;\n",
       "    }\n",
       "\n",
       "    .dataframe tbody tr th {\n",
       "        vertical-align: top;\n",
       "    }\n",
       "\n",
       "    .dataframe thead th {\n",
       "        text-align: right;\n",
       "    }\n",
       "</style>\n",
       "<table border=\"1\" class=\"dataframe\">\n",
       "  <thead>\n",
       "    <tr style=\"text-align: right;\">\n",
       "      <th></th>\n",
       "      <th>gen_m</th>\n",
       "      <th>gen_f</th>\n",
       "    </tr>\n",
       "    <tr>\n",
       "      <th>per_10</th>\n",
       "      <th></th>\n",
       "      <th></th>\n",
       "    </tr>\n",
       "  </thead>\n",
       "  <tbody>\n",
       "    <tr>\n",
       "      <th>1956-1965</th>\n",
       "      <td>319</td>\n",
       "      <td>361</td>\n",
       "    </tr>\n",
       "    <tr>\n",
       "      <th>1966-1975</th>\n",
       "      <td>284</td>\n",
       "      <td>345</td>\n",
       "    </tr>\n",
       "    <tr>\n",
       "      <th>1976-1985</th>\n",
       "      <td>221</td>\n",
       "      <td>349</td>\n",
       "    </tr>\n",
       "    <tr>\n",
       "      <th>1986-1995</th>\n",
       "      <td>124</td>\n",
       "      <td>237</td>\n",
       "    </tr>\n",
       "    <tr>\n",
       "      <th>1996-2005</th>\n",
       "      <td>16</td>\n",
       "      <td>54</td>\n",
       "    </tr>\n",
       "  </tbody>\n",
       "</table>\n",
       "</div>"
      ],
      "text/plain": [
       "           gen_m  gen_f\n",
       "per_10                 \n",
       "1956-1965    319    361\n",
       "1966-1975    284    345\n",
       "1976-1985    221    349\n",
       "1986-1995    124    237\n",
       "1996-2005     16     54"
      ]
     },
     "execution_count": 84,
     "metadata": {},
     "output_type": "execute_result"
    }
   ],
   "source": [
    "merged_10 = pd.merge(gender_m_10, gender_f_10, left_index=True, right_index=True)\n",
    "merged_10.tail()"
   ]
  },
  {
   "cell_type": "code",
   "execution_count": 85,
   "id": "bfdb0b65-29e3-4c04-b8a2-811b55babe8e",
   "metadata": {},
   "outputs": [
    {
     "data": {
      "text/html": [
       "<div>\n",
       "<style scoped>\n",
       "    .dataframe tbody tr th:only-of-type {\n",
       "        vertical-align: middle;\n",
       "    }\n",
       "\n",
       "    .dataframe tbody tr th {\n",
       "        vertical-align: top;\n",
       "    }\n",
       "\n",
       "    .dataframe thead th {\n",
       "        text-align: right;\n",
       "    }\n",
       "</style>\n",
       "<table border=\"1\" class=\"dataframe\">\n",
       "  <thead>\n",
       "    <tr style=\"text-align: right;\">\n",
       "      <th></th>\n",
       "      <th>gen_m</th>\n",
       "      <th>gen_f</th>\n",
       "      <th>tot</th>\n",
       "    </tr>\n",
       "    <tr>\n",
       "      <th>per_10</th>\n",
       "      <th></th>\n",
       "      <th></th>\n",
       "      <th></th>\n",
       "    </tr>\n",
       "  </thead>\n",
       "  <tbody>\n",
       "    <tr>\n",
       "      <th>1956-1965</th>\n",
       "      <td>319</td>\n",
       "      <td>361</td>\n",
       "      <td>680</td>\n",
       "    </tr>\n",
       "    <tr>\n",
       "      <th>1966-1975</th>\n",
       "      <td>284</td>\n",
       "      <td>345</td>\n",
       "      <td>629</td>\n",
       "    </tr>\n",
       "    <tr>\n",
       "      <th>1976-1985</th>\n",
       "      <td>221</td>\n",
       "      <td>349</td>\n",
       "      <td>570</td>\n",
       "    </tr>\n",
       "    <tr>\n",
       "      <th>1986-1995</th>\n",
       "      <td>124</td>\n",
       "      <td>237</td>\n",
       "      <td>361</td>\n",
       "    </tr>\n",
       "    <tr>\n",
       "      <th>1996-2005</th>\n",
       "      <td>16</td>\n",
       "      <td>54</td>\n",
       "      <td>70</td>\n",
       "    </tr>\n",
       "  </tbody>\n",
       "</table>\n",
       "</div>"
      ],
      "text/plain": [
       "           gen_m  gen_f  tot\n",
       "per_10                      \n",
       "1956-1965    319    361  680\n",
       "1966-1975    284    345  629\n",
       "1976-1985    221    349  570\n",
       "1986-1995    124    237  361\n",
       "1996-2005     16     54   70"
      ]
     },
     "execution_count": 85,
     "metadata": {},
     "output_type": "execute_result"
    }
   ],
   "source": [
    "### On transforme le type de valeur de l'index\n",
    "# et on ajoute une colonne avec le total\n",
    "merged_10.index = merged_10.index.map(str)\n",
    "merged_10['tot']=merged_10['gen_f']+merged_10['gen_m']\n",
    "merged_10.tail()"
   ]
  },
  {
   "cell_type": "code",
   "execution_count": 86,
   "id": "f18cadac-f5c9-4e11-a151-08bcba2c686c",
   "metadata": {},
   "outputs": [
    {
     "data": {
      "text/plain": [
       "[0.85, 0.96, 0.91]"
      ]
     },
     "execution_count": 86,
     "metadata": {},
     "output_type": "execute_result"
    }
   ],
   "source": [
    "### On prépare les valeurs pour l'affichage des fréquences (proportion par rapport au total)\n",
    "\n",
    "# liste qui contient toutes les valeurs à la suite\n",
    "m_m = merged_10.gen_f.to_list()+merged_10.gen_m.to_list()\n",
    "\n",
    "# liste d'égale longueur que la précédente qui contient \n",
    "# les valeurs de l'index, i.e. les périodes\n",
    "tot = merged_10.tot.to_list()*2\n",
    "\n",
    "# liste qui contient les valeurs des fréquences\n",
    "lp = [round(v/t, 2) for v,t in zip(m_m, tot)]\n",
    "lp[:3]"
   ]
  },
  {
   "cell_type": "code",
   "execution_count": 89,
   "id": "9d64702b-c522-4f94-b13a-21fbae9dd036",
   "metadata": {},
   "outputs": [
    {
     "data": {
      "image/png": "[encoded data removed]",
      "text/plain": [
       "<Figure size 2000x800 with 1 Axes>"
      ]
     },
     "metadata": {},
     "output_type": "display_data"
    }
   ],
   "source": [
    "### Graphique avec la distribution par période et genre (M,F)\n",
    "# Noter que les effectifs du genre 'Autres' étant très faibles,\n",
    "# on ne les analyse pas de manière sérielle mais on peut les analyser qualitatiement\n",
    "\n",
    "ax = merged_10.plot.bar(stacked=True, y=['gen_f', 'gen_m'], \\\n",
    "                        rot=70, fontsize=10, figsize=(20,8), color=['lavender', 'gold'])\n",
    "\n",
    "\n",
    "### https://www.pythoncharts.com/matplotlib/stacked-bar-charts-labels/\n",
    "\n",
    "\n",
    "## On ajoute une étiquette concernant la valeur de fréquence\n",
    "# à chaque rectangle dans le graphe, en utilisant la list 'lp' préparée précédemment\n",
    "# Il y a autant de triangles que les valeurs d'index x le nombre de variables\n",
    "\n",
    "for bar,v in zip(ax.patches,lp): \n",
    "\n",
    "    ax.text(\n",
    "      # Met les étiquette aux centre des rectangles\n",
    "      bar.get_x() + bar.get_width() / 2,\n",
    "        \n",
    "      # Ajoute les coordonnées verticales\n",
    "      bar.get_height()/2 + bar.get_y(), \n",
    "      \n",
    "      # Ajoute les valeurs\n",
    "      v,\n",
    "\n",
    "      # centre et met du style aux étiquettes\n",
    "      ha='center',\n",
    "      color='black',\n",
    "      weight='bold',\n",
    "      size=10\n",
    "  )\n",
    "\n",
    "plt.ylabel('Effectifs par période avec proportion des genres')\n",
    "plt.xlabel('Périodes')\n",
    "plt.title('Distribution des naissances par périodes de dix ans, proportion des genres par période')\n",
    "\n",
    "plt.savefig('images/naissances_distribution_10ans_genre.jpg', bbox_inches='tight',\n",
    "                       pad_inches=0.2)\n",
    "plt.show()"
   ]
  },
  {
   "cell_type": "code",
   "execution_count": null,
   "id": "21fdce94-c4cd-4288-864e-b513bc95c383",
   "metadata": {},
   "outputs": [],
   "source": []
  }
 ],
 "metadata": {
  "kernelspec": {
   "display_name": "py311_data_analysis",
   "language": "python",
   "name": "py311_data_analysis"
  },
  "language_info": {
   "codemirror_mode": {
    "name": "ipython",
    "version": 3
   },
   "file_extension": ".py",
   "mimetype": "text/x-python",
   "name": "python",
   "nbconvert_exporter": "python",
   "pygments_lexer": "ipython3",
   "version": "3.11.8"
  }
 },
 "nbformat": 4,
 "nbformat_minor": 5
}
